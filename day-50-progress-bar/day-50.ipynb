{
 "cells": [
  {
   "attachments": {},
   "cell_type": "markdown",
   "metadata": {},
   "source": [
    "# Progress Bar using Python"
   ]
  },
  {
   "cell_type": "code",
   "execution_count": 2,
   "metadata": {},
   "outputs": [
    {
     "name": "stdout",
     "output_type": "stream",
     "text": [
      "[============================================================] 100.0% ...\r"
     ]
    }
   ],
   "source": [
    "import sys, time\n",
    "\n",
    "def progressBar(count, total, suffix=''):\n",
    "    barLength = 60\n",
    "    filledLength = int(round(barLength * count / float(total)))\n",
    "\n",
    "    percent = round(100.0 * count / float(total), 1)\n",
    "    bar = \"=\" * filledLength + '-' * (barLength - filledLength)\n",
    "\n",
    "    sys.stdout.write('[%s] %s%s ...%s\\r' % (bar, percent, '%', suffix))\n",
    "    sys.stdout.flush()\n",
    "\n",
    "# if n = n (progress bar 90% not 100%)\n",
    "for i in range(11):\n",
    "    time.sleep(1)\n",
    "    progressBar(i, 10)"
   ]
  }
 ],
 "metadata": {
  "kernelspec": {
   "display_name": ".venv",
   "language": "python",
   "name": "python3"
  },
  "language_info": {
   "codemirror_mode": {
    "name": "ipython",
    "version": 3
   },
   "file_extension": ".py",
   "mimetype": "text/x-python",
   "name": "python",
   "nbconvert_exporter": "python",
   "pygments_lexer": "ipython3",
   "version": "3.10.3"
  },
  "orig_nbformat": 4
 },
 "nbformat": 4,
 "nbformat_minor": 2
}
