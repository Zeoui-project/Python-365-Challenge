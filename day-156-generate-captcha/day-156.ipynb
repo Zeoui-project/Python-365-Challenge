{
 "cells": [
  {
   "cell_type": "markdown",
   "metadata": {},
   "source": [
    "# Generate Image Captcha using Python"
   ]
  },
  {
   "cell_type": "code",
   "execution_count": 1,
   "metadata": {},
   "outputs": [
    {
     "name": "stdout",
     "output_type": "stream",
     "text": [
      "Collecting captcha\n",
      "  Using cached captcha-0.4-py3-none-any.whl (102 kB)\n",
      "Requirement already satisfied: Pillow in c:\\users\\vel\\appdata\\local\\programs\\python\\python311\\lib\\site-packages (from captcha) (9.4.0)\n",
      "Installing collected packages: captcha\n",
      "Successfully installed captcha-0.4\n",
      "Note: you may need to restart the kernel to use updated packages.\n"
     ]
    },
    {
     "name": "stderr",
     "output_type": "stream",
     "text": [
      "\n",
      "[notice] A new release of pip is available: 23.1.2 -> 23.2\n",
      "[notice] To update, run: python.exe -m pip install --upgrade pip\n"
     ]
    }
   ],
   "source": [
    "%pip install captcha"
   ]
  },
  {
   "cell_type": "code",
   "execution_count": null,
   "metadata": {},
   "outputs": [],
   "source": [
    "from captcha.image import ImageCaptcha\n",
    "from PIL import Image\n",
    "\n",
    "def generate_captcha_text(length=6):\n",
    "    import string\n",
    "    import random\n",
    "    return ''.join(random.choices(string.ascii_letters + string.digits, k=length))\n",
    "\n",
    "def generate_and_save_captcha(image_width=300, image_height=100, captcha_length=6, save_path='CAPTCHA.png'):\n",
    "    image = ImageCaptcha(width=image_width, height=image_height)\n",
    "    captcha_text = generate_captcha_text(captcha_length)\n",
    "    data = image.generate(captcha_text)\n",
    "    image.write(captcha_text, save_path)\n",
    "    return captcha_text\n",
    "\n",
    "if __name__ == \"__main__\":\n",
    "    captcha_text = generate_captcha_text()\n",
    "    print(\"Captcha Text:\", captcha_text)\n",
    "Image.open('CAPTCHA.png')"
   ]
  }
 ],
 "metadata": {
  "kernelspec": {
   "display_name": "Python 3",
   "language": "python",
   "name": "python3"
  },
  "language_info": {
   "codemirror_mode": {
    "name": "ipython",
    "version": 3
   },
   "file_extension": ".py",
   "mimetype": "text/x-python",
   "name": "python",
   "nbconvert_exporter": "python",
   "pygments_lexer": "ipython3",
   "version": "3.11.4"
  },
  "orig_nbformat": 4
 },
 "nbformat": 4,
 "nbformat_minor": 2
}
