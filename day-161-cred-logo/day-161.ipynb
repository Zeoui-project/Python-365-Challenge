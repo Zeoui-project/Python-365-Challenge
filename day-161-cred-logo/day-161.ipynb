{
 "cells": [
  {
   "cell_type": "markdown",
   "metadata": {},
   "source": [
    "# Cred Logo using Python"
   ]
  },
  {
   "cell_type": "code",
   "execution_count": 1,
   "metadata": {},
   "outputs": [
    {
     "name": "stdout",
     "output_type": "stream",
     "text": [
      "Collecting turtleNote: you may need to restart the kernel to use updated packages.\n",
      "\n",
      "  Downloading turtle-0.0.2.tar.gz (11 kB)\n",
      "  Installing build dependencies: started\n",
      "  Installing build dependencies: finished with status 'done'\n",
      "  Getting requirements to build wheel: started\n",
      "  Getting requirements to build wheel: finished with status 'error'\n"
     ]
    },
    {
     "name": "stderr",
     "output_type": "stream",
     "text": [
      "  error: subprocess-exited-with-error\n",
      "  \n",
      "  × Getting requirements to build wheel did not run successfully.\n",
      "  │ exit code: 1\n",
      "  ╰─> [23 lines of output]\n",
      "      Traceback (most recent call last):\n",
      "        File \"c:\\Users\\Vel\\AppData\\Local\\Programs\\Python\\Python311\\Lib\\site-packages\\pip\\_vendor\\pyproject_hooks\\_in_process\\_in_process.py\", line 353, in <module>\n",
      "          main()\n",
      "        File \"c:\\Users\\Vel\\AppData\\Local\\Programs\\Python\\Python311\\Lib\\site-packages\\pip\\_vendor\\pyproject_hooks\\_in_process\\_in_process.py\", line 335, in main\n",
      "          json_out['return_val'] = hook(**hook_input['kwargs'])\n",
      "                                   ^^^^^^^^^^^^^^^^^^^^^^^^^^^^\n",
      "        File \"c:\\Users\\Vel\\AppData\\Local\\Programs\\Python\\Python311\\Lib\\site-packages\\pip\\_vendor\\pyproject_hooks\\_in_process\\_in_process.py\", line 118, in get_requires_for_build_wheel\n",
      "          return hook(config_settings)\n",
      "                 ^^^^^^^^^^^^^^^^^^^^^\n",
      "        File \"C:\\Users\\Vel\\AppData\\Local\\Temp\\pip-build-env-iezdz_2z\\overlay\\Lib\\site-packages\\setuptools\\build_meta.py\", line 341, in get_requires_for_build_wheel\n",
      "          return self._get_build_requires(config_settings, requirements=['wheel'])\n",
      "                 ^^^^^^^^^^^^^^^^^^^^^^^^^^^^^^^^^^^^^^^^^^^^^^^^^^^^^^^^^^^^^^^^^\n",
      "        File \"C:\\Users\\Vel\\AppData\\Local\\Temp\\pip-build-env-iezdz_2z\\overlay\\Lib\\site-packages\\setuptools\\build_meta.py\", line 323, in _get_build_requires\n",
      "          self.run_setup()\n",
      "        File \"C:\\Users\\Vel\\AppData\\Local\\Temp\\pip-build-env-iezdz_2z\\overlay\\Lib\\site-packages\\setuptools\\build_meta.py\", line 488, in run_setup\n",
      "          self).run_setup(setup_script=setup_script)\n",
      "                ^^^^^^^^^^^^^^^^^^^^^^^^^^^^^^^^^^^^\n",
      "        File \"C:\\Users\\Vel\\AppData\\Local\\Temp\\pip-build-env-iezdz_2z\\overlay\\Lib\\site-packages\\setuptools\\build_meta.py\", line 338, in run_setup\n",
      "          exec(code, locals())\n",
      "        File \"<string>\", line 40\n",
      "          except ValueError, ve:\n",
      "                 ^^^^^^^^^^^^^^\n",
      "      SyntaxError: multiple exception types must be parenthesized\n",
      "      [end of output]\n",
      "  \n",
      "  note: This error originates from a subprocess, and is likely not a problem with pip.\n",
      "error: subprocess-exited-with-error\n",
      "\n",
      "× Getting requirements to build wheel did not run successfully.\n",
      "│ exit code: 1\n",
      "╰─> See above for output.\n",
      "\n",
      "note: This error originates from a subprocess, and is likely not a problem with pip.\n",
      "\n",
      "[notice] A new release of pip is available: 23.1.2 -> 23.2.1\n",
      "[notice] To update, run: python.exe -m pip install --upgrade pip\n"
     ]
    }
   ],
   "source": [
    "%pip install turtle"
   ]
  },
  {
   "cell_type": "code",
   "execution_count": 1,
   "metadata": {},
   "outputs": [],
   "source": [
    "import turtle\n",
    "turtle.Screen().bgcolor(\"black\")\n",
    "t = turtle.Turtle()\n",
    "t.goto(-166, 100)\n",
    "t.width(5)\n",
    "t.color(\"white\")\n",
    "t.forward(256)\n",
    "t.right(90)\n",
    "t.forward(220)\n",
    "t.right(60)\n",
    "t.forward(150)\n",
    "t.right(60)\n",
    "t.forward(150)\n",
    "t.right(60)\n",
    "t.forward(220)\n",
    "\n",
    "t.penup()\n",
    "t.goto(-86, 50)\n",
    "t.pendown()\n",
    "t.right(90)\n",
    "t.forward(136)\n",
    "t.right(90)\n",
    "t.forward(60)\n",
    "t.color(\"black\")\n",
    "t.forward(40)\n",
    "t.color(\"white\")\n",
    "t.forward(40)\n",
    "t.right(60)\n",
    "\n",
    "t.forward(104)\n",
    "t.right(60)\n",
    "t.forward(104)\n",
    "t.right(60)\n",
    "t.forward(106)\n",
    "t.right(90)\n",
    "t.forward(130)\n",
    "\n",
    "t.penup()\n",
    "t.goto(10, -75)\n",
    "t.pendown()\n",
    "t.right(150)\n",
    "t.forward(57)\n",
    "t.right(60)\n",
    "t.forward(57)\n",
    "t.right(60)\n",
    "t.forward(30)\n",
    "t.penup()\n",
    "t.goto(-163, -300)\n",
    "t.pendown()\n",
    "\n",
    "t.write(\"CRED\", font=(\"Sentic\",75,\"normal\"))"
   ]
  }
 ],
 "metadata": {
  "kernelspec": {
   "display_name": "Python 3",
   "language": "python",
   "name": "python3"
  },
  "language_info": {
   "codemirror_mode": {
    "name": "ipython",
    "version": 3
   },
   "file_extension": ".py",
   "mimetype": "text/x-python",
   "name": "python",
   "nbconvert_exporter": "python",
   "pygments_lexer": "ipython3",
   "version": "3.11.4"
  },
  "orig_nbformat": 4
 },
 "nbformat": 4,
 "nbformat_minor": 2
}
