{
 "cells": [
  {
   "attachments": {},
   "cell_type": "markdown",
   "metadata": {},
   "source": [
    "# Defang IP Address using Python"
   ]
  },
  {
   "cell_type": "code",
   "execution_count": 2,
   "metadata": {},
   "outputs": [
    {
     "name": "stdout",
     "output_type": "stream",
     "text": [
      "97[.]657[.]935[.]34\n"
     ]
    }
   ],
   "source": [
    "def ip_address(address):\n",
    "    new_address = \"\"\n",
    "    split_address = address.split(\".\")\n",
    "    separator = \"[.]\"\n",
    "    new_address = separator.join(split_address)\n",
    "    return new_address\n",
    "\n",
    "IPad = input(\"Enter your IP Address : \")\n",
    "ipaddress = ip_address(IPad)\n",
    "print(ipaddress)"
   ]
  }
 ],
 "metadata": {
  "kernelspec": {
   "display_name": ".venv",
   "language": "python",
   "name": "python3"
  },
  "language_info": {
   "codemirror_mode": {
    "name": "ipython",
    "version": 3
   },
   "file_extension": ".py",
   "mimetype": "text/x-python",
   "name": "python",
   "nbconvert_exporter": "python",
   "pygments_lexer": "ipython3",
   "version": "3.10.3"
  },
  "orig_nbformat": 4
 },
 "nbformat": 4,
 "nbformat_minor": 2
}
