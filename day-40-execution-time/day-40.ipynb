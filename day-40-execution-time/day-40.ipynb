{
 "cells": [
  {
   "attachments": {},
   "cell_type": "markdown",
   "metadata": {},
   "source": [
    "# Execution Time of a Python program"
   ]
  },
  {
   "cell_type": "code",
   "execution_count": 2,
   "metadata": {},
   "outputs": [
    {
     "name": "stdout",
     "output_type": "stream",
     "text": [
      "Your user name is  helloworld  and your domain is  gmail.com\n",
      "Execution Time (s) :  6.290503740310669\n"
     ]
    }
   ],
   "source": [
    "from time import time\n",
    "start = time()\n",
    "\n",
    "#code start\n",
    "email = input(\"Enter Your Email: \")\n",
    "email = email.strip()\n",
    "slicer_index = email.index(\"@\")\n",
    "username = email[:slicer_index]\n",
    "domain_name = email[slicer_index+1:]\n",
    "print(\"Your user name is \", username,\" and your domain is \", domain_name)\n",
    "\n",
    "end = time()\n",
    "execution_time = end - start\n",
    "print(\"Execution Time (s) : \", execution_time)"
   ]
  }
 ],
 "metadata": {
  "kernelspec": {
   "display_name": ".venv",
   "language": "python",
   "name": "python3"
  },
  "language_info": {
   "codemirror_mode": {
    "name": "ipython",
    "version": 3
   },
   "file_extension": ".py",
   "mimetype": "text/x-python",
   "name": "python",
   "nbconvert_exporter": "python",
   "pygments_lexer": "ipython3",
   "version": "3.10.3"
  },
  "orig_nbformat": 4
 },
 "nbformat": 4,
 "nbformat_minor": 2
}
