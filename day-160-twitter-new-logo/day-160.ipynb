{
 "cells": [
  {
   "cell_type": "markdown",
   "metadata": {},
   "source": [
    "# Twitter Logo Generation using Python"
   ]
  },
  {
   "cell_type": "code",
   "execution_count": 3,
   "metadata": {},
   "outputs": [
    {
     "name": "stdout",
     "output_type": "stream",
     "text": [
      "Collecting pyfiglet\n",
      "  Using cached pyfiglet-0.8.post1-py2.py3-none-any.whl (865 kB)\n",
      "Installing collected packages: pyfiglet\n",
      "Successfully installed pyfiglet-0.8.post1\n",
      "Note: you may need to restart the kernel to use updated packages.\n"
     ]
    },
    {
     "name": "stderr",
     "output_type": "stream",
     "text": [
      "\n",
      "[notice] A new release of pip is available: 23.1.2 -> 23.2.1\n",
      "[notice] To update, run: python.exe -m pip install --upgrade pip\n"
     ]
    }
   ],
   "source": [
    "%pip install pyfiglet"
   ]
  },
  {
   "cell_type": "code",
   "execution_count": 18,
   "metadata": {},
   "outputs": [
    {
     "name": "stdout",
     "output_type": "stream",
     "text": [
      "  .,::      .:\n",
      "  `;;;,  .,;; \n",
      "    '[[,,[['  \n",
      "     Y$$$P    \n",
      "   oP\"``\"Yo,  \n",
      ",m\"       \"Mm,\n",
      "\n"
     ]
    }
   ],
   "source": [
    "import pyfiglet\n",
    "import random\n",
    "\n",
    "def generate_logo_ko(font):\n",
    "    logo_k = pyfiglet.figlet_format(\"X\", font=font)\n",
    "    return f\"{logo_k}\"\n",
    "\n",
    "def generate_random_font():\n",
    "    figlet_instance = pyfiglet.Figlet()\n",
    "    fonts = figlet_instance.getFonts()\n",
    "    return random.choice(fonts)\n",
    "\n",
    "if __name__ == \"__main__\":\n",
    "    random_font = generate_random_font()\n",
    "    logo = generate_logo_ko(random_font)\n",
    "    print(logo)"
   ]
  }
 ],
 "metadata": {
  "kernelspec": {
   "display_name": "Python 3",
   "language": "python",
   "name": "python3"
  },
  "language_info": {
   "codemirror_mode": {
    "name": "ipython",
    "version": 3
   },
   "file_extension": ".py",
   "mimetype": "text/x-python",
   "name": "python",
   "nbconvert_exporter": "python",
   "pygments_lexer": "ipython3",
   "version": "3.11.4"
  },
  "orig_nbformat": 4
 },
 "nbformat": 4,
 "nbformat_minor": 2
}
