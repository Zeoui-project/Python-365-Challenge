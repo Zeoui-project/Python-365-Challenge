{
 "cells": [
  {
   "attachments": {},
   "cell_type": "markdown",
   "metadata": {},
   "source": [
    "# Perfect Number Verification using Python"
   ]
  },
  {
   "cell_type": "code",
   "execution_count": null,
   "metadata": {},
   "outputs": [],
   "source": [
    "def perfectNumber(number):\n",
    "    sum = 0\n",
    "    for x in range(1, number):\n",
    "        if number % x == 0:\n",
    "            sum += x\n",
    "    return sum == number\n",
    "\n",
    "if __name__ == '__main__':\n",
    "    n = int(input(\"Enter a number to check : \"))\n",
    "    print(perfectNumber(n))"
   ]
  }
 ],
 "metadata": {
  "language_info": {
   "name": "python"
  },
  "orig_nbformat": 4
 },
 "nbformat": 4,
 "nbformat_minor": 2
}
