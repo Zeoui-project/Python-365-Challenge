{
 "cells": [
  {
   "attachments": {},
   "cell_type": "markdown",
   "metadata": {},
   "source": [
    "# Wifi Password as QR Code using Python"
   ]
  },
  {
   "cell_type": "code",
   "execution_count": 1,
   "metadata": {},
   "outputs": [
    {
     "name": "stdout",
     "output_type": "stream",
     "text": [
      "Collecting wifi_qrcode_generator\n",
      "  Downloading wifi_qrcode_generator-1.0.1-py3-none-any.whl (7.5 kB)\n",
      "Collecting qrcode[pil]\n",
      "  Downloading qrcode-7.4.2-py3-none-any.whl (46 kB)\n",
      "     ---------------------------------------- 46.2/46.2 kB 2.2 MB/s eta 0:00:00\n",
      "Collecting typing-extensions\n",
      "  Downloading typing_extensions-4.5.0-py3-none-any.whl (27 kB)\n",
      "Requirement already satisfied: pypng in f:\\file penting\\semester 5 binus aso\\data science and application (pak zacky)\\praktikum\\praktikum\\.venv\\lib\\site-packages (from qrcode[pil]->wifi_qrcode_generator) (0.20220715.0)\n",
      "Requirement already satisfied: colorama in f:\\file penting\\semester 5 binus aso\\data science and application (pak zacky)\\praktikum\\praktikum\\.venv\\lib\\site-packages (from qrcode[pil]->wifi_qrcode_generator) (0.4.6)\n",
      "Requirement already satisfied: pillow>=9.1.0 in f:\\file penting\\semester 5 binus aso\\data science and application (pak zacky)\\praktikum\\praktikum\\.venv\\lib\\site-packages (from qrcode[pil]->wifi_qrcode_generator) (9.4.0)\n",
      "Installing collected packages: typing-extensions, qrcode, wifi_qrcode_generator\n",
      "Successfully installed qrcode-7.4.2 typing-extensions-4.5.0 wifi_qrcode_generator-1.0.1\n",
      "Note: you may need to restart the kernel to use updated packages.\n"
     ]
    },
    {
     "name": "stderr",
     "output_type": "stream",
     "text": [
      "\n",
      "[notice] A new release of pip available: 22.3.1 -> 23.1.2\n",
      "[notice] To update, run: python.exe -m pip install --upgrade pip\n"
     ]
    }
   ],
   "source": [
    "%pip install wifi_qrcode_generator"
   ]
  },
  {
   "cell_type": "code",
   "execution_count": 4,
   "metadata": {},
   "outputs": [
    {
     "name": "stdout",
     "output_type": "stream",
     "text": [
      "                                         \n",
      "                                         \n",
      "    █▀▀▀▀▀█    ▀██▄▄▄██▀▀▀  ▄ █▀▀▀▀▀█    \n",
      "    █ ███ █ █▄█▄▀▀▄▀ ▄▀▀█▀██▀ █ ███ █    \n",
      "    █ ▀▀▀ █ █▄▄▀█  █▄▀█▀ ▄▀▀  █ ▀▀▀ █    \n",
      "    ▀▀▀▀▀▀▀ █ ▀▄▀ ▀ ▀ ▀ ▀▄▀ █ ▀▀▀▀▀▀▀    \n",
      "    ▀▄█▀▀▀▀ ▄▄▀█▄▀▀ █▀▀▀▄▄▀▄▄▄▀▀▀▀▀▄▄    \n",
      "    █    █▀▀▀▀▄▀█ ▄▀ ▀▄ ▀▄▄▄▄▀ █████     \n",
      "    █▄ ▀█▄▀▀▀▀▄█ ▄▄▀▀█▄▀▄ █▄▀▀▄ ▀ █▀▀    \n",
      "    ▄ ▀█ ▄▀ ██ █▄▄█▀▀▀▀▄▀▄█ ██▄▄ ▄██▄    \n",
      "     ▀▄  █▀█▀ ▄ ▄ █ █  █▄▄▀  █ ▄▀▄▄▀▄    \n",
      "    ▀▀▄▄ █▀▀ █▄██▄▀██ ▀▄█▄█▄▄█ ▀ ▄▄█▄    \n",
      "    ▄█▄ █▄▀▀▄  █▀█ ▀▀▀▄▄▀ ▀█ ▀▄▀▀▄▀█▀    \n",
      "    █   █ ▀█▀▀▄ ▄████ █ ▄██ █  ▄▀▄█▀     \n",
      "    ▀ ▀  ▀▀ █▀█ ▄▄▀▀▄█▀ █ ▀▄█▀▀▀█  ▀█    \n",
      "    █▀▀▀▀▀█ ▄ ▄▀▄█▀▀▄ ▄  ▄█▀█ ▀ █▀██▄    \n",
      "    █ ███ █ █▀▄  ▀▀▀▄█ ▄▄▄█▄██▀▀▀▀ ▄▄    \n",
      "    █ ▀▀▀ █ ▀██▄▀ ▄▀▀▀█▄ ██ ▀▄ ▄▄██      \n",
      "    ▀▀▀▀▀▀▀ ▀▀ ▀ ▀▀▀▀▀      ▀  ▀▀  ▀     \n",
      "                                         \n",
      "                                         \n"
     ]
    }
   ],
   "source": [
    "import wifi_qrcode_generator\n",
    "qr_code = wifi_qrcode_generator.generator.wifi_qrcode(\n",
    "    ssid='Home WiFi', hidden=False, authentication_type='WPA', password='very complicated password'\n",
    ")\n",
    "qr_code.print_ascii()\n",
    "qr_code.make_image().save('qr.png')"
   ]
  }
 ],
 "metadata": {
  "kernelspec": {
   "display_name": "Python 3",
   "language": "python",
   "name": "python3"
  },
  "language_info": {
   "codemirror_mode": {
    "name": "ipython",
    "version": 3
   },
   "file_extension": ".py",
   "mimetype": "text/x-python",
   "name": "python",
   "nbconvert_exporter": "python",
   "pygments_lexer": "ipython3",
   "version": "3.10.3"
  },
  "orig_nbformat": 4
 },
 "nbformat": 4,
 "nbformat_minor": 2
}
