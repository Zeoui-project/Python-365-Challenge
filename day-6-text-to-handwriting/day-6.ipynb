{
 "cells": [
  {
   "attachments": {},
   "cell_type": "markdown",
   "metadata": {},
   "source": [
    "# Text to Handwriting Python"
   ]
  },
  {
   "cell_type": "code",
   "execution_count": 1,
   "metadata": {},
   "outputs": [
    {
     "ename": "UnableToAccessApi",
     "evalue": "Unable to access Pywhatkit api right now",
     "output_type": "error",
     "traceback": [
      "\u001b[1;31m---------------------------------------------------------------------------\u001b[0m",
      "\u001b[1;31mUnableToAccessApi\u001b[0m                         Traceback (most recent call last)",
      "Cell \u001b[1;32mIn[1], line 5\u001b[0m\n\u001b[0;32m      2\u001b[0m \u001b[39mimport\u001b[39;00m \u001b[39mcv2\u001b[39;00m\n\u001b[0;32m      4\u001b[0m Handwritten \u001b[39m=\u001b[39m \u001b[39minput\u001b[39m(\u001b[39m\"\u001b[39m\u001b[39mEnter your text to convert in Handwriting : \u001b[39m\u001b[39m\"\u001b[39m)\n\u001b[1;32m----> 5\u001b[0m kit\u001b[39m.\u001b[39;49mtext_to_handwriting(Handwritten, save_to\u001b[39m=\u001b[39;49m\u001b[39m\"\u001b[39;49m\u001b[39mpythoncoding.png\u001b[39;49m\u001b[39m\"\u001b[39;49m)\n\u001b[0;32m      6\u001b[0m img \u001b[39m=\u001b[39m cv2\u001b[39m.\u001b[39mimread(\u001b[39m\"\u001b[39m\u001b[39mpythoncoding.png\u001b[39m\u001b[39m\"\u001b[39m)\n\u001b[0;32m      7\u001b[0m cv2\u001b[39m.\u001b[39mimshow(\u001b[39m\"\u001b[39m\u001b[39mPython Coding\u001b[39m\u001b[39m\"\u001b[39m, img)\n",
      "File \u001b[1;32mf:\\File Penting\\Semester 5 Binus ASO\\Data Science and Application (Pak Zacky)\\Praktikum\\Praktikum\\.venv\\lib\\site-packages\\pywhatkit\\handwriting.py:22\u001b[0m, in \u001b[0;36mtext_to_handwriting\u001b[1;34m(string, save_to, rgb)\u001b[0m\n\u001b[0;32m     20\u001b[0m         file\u001b[39m.\u001b[39mclose()\n\u001b[0;32m     21\u001b[0m \u001b[39melif\u001b[39;00m \u001b[39m400\u001b[39m \u001b[39m<\u001b[39m\u001b[39m=\u001b[39m status_code \u001b[39m<\u001b[39m\u001b[39m=\u001b[39m \u001b[39m599\u001b[39m:\n\u001b[1;32m---> 22\u001b[0m     \u001b[39mraise\u001b[39;00m exceptions\u001b[39m.\u001b[39mUnableToAccessApi(\u001b[39m\"\u001b[39m\u001b[39mUnable to access Pywhatkit api right now\u001b[39m\u001b[39m\"\u001b[39m)\n",
      "\u001b[1;31mUnableToAccessApi\u001b[0m: Unable to access Pywhatkit api right now"
     ]
    }
   ],
   "source": [
    "import pywhatkit as kit\n",
    "import cv2\n",
    "\n",
    "Handwritten = input(\"Enter your text to convert in Handwriting : \")\n",
    "kit.text_to_handwriting(Handwritten, save_to=\"pythoncoding.png\")\n",
    "img = cv2.imread(\"pythoncoding.png\")\n",
    "cv2.imshow(\"Python Coding\", img)\n",
    "cv2.waitKey(0)\n",
    "cv2.destroyAllWindows()"
   ]
  }
 ],
 "metadata": {
  "kernelspec": {
   "display_name": ".venv",
   "language": "python",
   "name": "python3"
  },
  "language_info": {
   "codemirror_mode": {
    "name": "ipython",
    "version": 3
   },
   "file_extension": ".py",
   "mimetype": "text/x-python",
   "name": "python",
   "nbconvert_exporter": "python",
   "pygments_lexer": "ipython3",
   "version": "3.10.3"
  },
  "orig_nbformat": 4,
  "vscode": {
   "interpreter": {
    "hash": "1ecee382ac9679ab1041b53d286f1b1ac05da0f713dd43418d9415034a338dad"
   }
  }
 },
 "nbformat": 4,
 "nbformat_minor": 2
}
