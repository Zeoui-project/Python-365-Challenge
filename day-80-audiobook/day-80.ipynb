{
 "cells": [
  {
   "attachments": {},
   "cell_type": "markdown",
   "metadata": {},
   "source": [
    "# Make an Audiobook using Python"
   ]
  },
  {
   "cell_type": "code",
   "execution_count": 6,
   "metadata": {},
   "outputs": [
    {
     "name": "stdout",
     "output_type": "stream",
     "text": [
      "Note: you may need to restart the kernel to use updated packages.\n"
     ]
    },
    {
     "name": "stderr",
     "output_type": "stream",
     "text": [
      "ERROR: Could not find a version that satisfies the requirement espeak (from versions: none)\n",
      "ERROR: No matching distribution found for espeak\n",
      "\n",
      "[notice] A new release of pip available: 22.3.1 -> 23.1.2\n",
      "[notice] To update, run: python.exe -m pip install --upgrade pip\n"
     ]
    },
    {
     "name": "stdout",
     "output_type": "stream",
     "text": [
      "Collecting ffmpegNote: you may need to restart the kernel to use updated packages.\n",
      "\n",
      "  Downloading ffmpeg-1.4.tar.gz (5.1 kB)\n",
      "  Preparing metadata (setup.py): started\n",
      "  Preparing metadata (setup.py): finished with status 'done'\n",
      "Installing collected packages: ffmpeg\n",
      "  Running setup.py install for ffmpeg: started\n",
      "  Running setup.py install for ffmpeg: finished with status 'done'\n",
      "Successfully installed ffmpeg-1.4\n"
     ]
    },
    {
     "name": "stderr",
     "output_type": "stream",
     "text": [
      "  DEPRECATION: ffmpeg is being installed using the legacy 'setup.py install' method, because it does not have a 'pyproject.toml' and the 'wheel' package is not installed. pip 23.1 will enforce this behaviour change. A possible replacement is to enable the '--use-pep517' option. Discussion can be found at https://github.com/pypa/pip/issues/8559\n",
      "\n",
      "[notice] A new release of pip available: 22.3.1 -> 23.1.2\n",
      "[notice] To update, run: python.exe -m pip install --upgrade pip\n"
     ]
    }
   ],
   "source": [
    "%pip install espeak\n",
    "%pip install ffmpeg"
   ]
  },
  {
   "cell_type": "code",
   "execution_count": 1,
   "metadata": {},
   "outputs": [
    {
     "name": "stdout",
     "output_type": "stream",
     "text": [
      "Requirement already satisfied: PyPDF2 in f:\\file penting\\semester 5 binus aso\\data science and application (pak zacky)\\praktikum\\praktikum\\.venv\\lib\\site-packages (3.0.1)Note: you may need to restart the kernel to use updated packages.\n",
      "\n"
     ]
    },
    {
     "name": "stderr",
     "output_type": "stream",
     "text": [
      "\n",
      "[notice] A new release of pip available: 22.3.1 -> 23.1.2\n",
      "[notice] To update, run: python.exe -m pip install --upgrade pip\n"
     ]
    }
   ],
   "source": [
    "%pip install PyPDF2"
   ]
  },
  {
   "cell_type": "code",
   "execution_count": 2,
   "metadata": {},
   "outputs": [
    {
     "name": "stdout",
     "output_type": "stream",
     "text": [
      "Collecting pyttsx3Note: you may need to restart the kernel to use updated packages.\n",
      "\n",
      "  Downloading pyttsx3-2.90-py3-none-any.whl (39 kB)\n",
      "Requirement already satisfied: pywin32 in f:\\file penting\\semester 5 binus aso\\data science and application (pak zacky)\\praktikum\\praktikum\\.venv\\lib\\site-packages (from pyttsx3) (305)\n",
      "Collecting pypiwin32\n",
      "  Downloading pypiwin32-223-py3-none-any.whl (1.7 kB)\n",
      "Collecting comtypes\n",
      "  Downloading comtypes-1.1.14-py2.py3-none-any.whl (172 kB)\n",
      "     ------------------------------------- 172.8/172.8 kB 10.2 MB/s eta 0:00:00\n",
      "Installing collected packages: comtypes, pypiwin32, pyttsx3\n",
      "Successfully installed comtypes-1.1.14 pypiwin32-223 pyttsx3-2.90\n"
     ]
    },
    {
     "name": "stderr",
     "output_type": "stream",
     "text": [
      "\n",
      "[notice] A new release of pip available: 22.3.1 -> 23.1.2\n",
      "[notice] To update, run: python.exe -m pip install --upgrade pip\n"
     ]
    }
   ],
   "source": [
    "%pip install pyttsx3"
   ]
  },
  {
   "cell_type": "code",
   "execution_count": 9,
   "metadata": {},
   "outputs": [],
   "source": [
    "import PyPDF2\n",
    "import pyttsx3\n",
    "\n",
    "engine = pyttsx3.init()\n",
    "# Read the pdf by specifying the path in your computer\n",
    "pdfReader = PyPDF2.PdfReader(open('test.pdf', 'rb'))\n",
    "# Get the handle to speaker\n",
    "speaker = pyttsx3.init()\n",
    "# Split the pages and read one by one\n",
    "for page_num in range(len(pdfReader.pages)):\n",
    "    text = pdfReader.pages[page_num].extract_text()\n",
    "    speaker.say(text)\n",
    "    speaker.runAndWait()\n",
    "\n",
    "# Stop the speaker after completion\n",
    "speaker.stop()\n",
    "# Save the audiobook at the specified path\n",
    "engine.save_to_file(text, 'E:\\Python\\Project-365-Challenge\\day-80-audiobook\\test.mp3')\n",
    "engine.runAndWait()\n"
   ]
  }
 ],
 "metadata": {
  "kernelspec": {
   "display_name": ".venv",
   "language": "python",
   "name": "python3"
  },
  "language_info": {
   "codemirror_mode": {
    "name": "ipython",
    "version": 3
   },
   "file_extension": ".py",
   "mimetype": "text/x-python",
   "name": "python",
   "nbconvert_exporter": "python",
   "pygments_lexer": "ipython3",
   "version": "3.10.3"
  },
  "orig_nbformat": 4
 },
 "nbformat": 4,
 "nbformat_minor": 2
}
