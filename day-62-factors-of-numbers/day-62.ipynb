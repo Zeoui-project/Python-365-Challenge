{
 "cells": [
  {
   "attachments": {},
   "cell_type": "markdown",
   "metadata": {},
   "source": [
    "# Find the Factors of a Number using Python"
   ]
  },
  {
   "cell_type": "code",
   "execution_count": 1,
   "metadata": {},
   "outputs": [
    {
     "name": "stdout",
     "output_type": "stream",
     "text": [
      "The factors of 15 are:\n",
      "1\n",
      "3\n",
      "5\n",
      "15\n"
     ]
    }
   ],
   "source": [
    "# Python program to find the factors of a number\n",
    "# This function computes the factor of the argument passed\n",
    "def print_factors(x):\n",
    "    print(\"The factors of\", x,\"are:\")\n",
    "    for i in range(1, x + 1):\n",
    "        if x % i == 0:\n",
    "            print(i)\n",
    "\n",
    "num = int(input(\"Enter a Number to find the Factors : \"))\n",
    "print_factors(num)"
   ]
  }
 ],
 "metadata": {
  "kernelspec": {
   "display_name": ".venv",
   "language": "python",
   "name": "python3"
  },
  "language_info": {
   "codemirror_mode": {
    "name": "ipython",
    "version": 3
   },
   "file_extension": ".py",
   "mimetype": "text/x-python",
   "name": "python",
   "nbconvert_exporter": "python",
   "pygments_lexer": "ipython3",
   "version": "3.10.3"
  },
  "orig_nbformat": 4
 },
 "nbformat": 4,
 "nbformat_minor": 2
}
