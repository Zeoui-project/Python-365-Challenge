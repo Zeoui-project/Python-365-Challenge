{
 "cells": [
  {
   "attachments": {},
   "cell_type": "markdown",
   "metadata": {},
   "source": [
    "# Converts IPv4 to Integer using Python"
   ]
  },
  {
   "cell_type": "code",
   "execution_count": 1,
   "metadata": {},
   "outputs": [
    {
     "name": "stdout",
     "output_type": "stream",
     "text": [
      "2097217537\n"
     ]
    }
   ],
   "source": [
    "ip = input(\"Enter your IP : \")\n",
    "def convert(s: str):\n",
    "    # Extract each digit from s\n",
    "    digits = [int(x) for x in s.split('.')]\n",
    "    # Add them together\n",
    "    shift = [24, 16, 8, 0]\n",
    "    for i in range(4):\n",
    "    digits[i] <<= shift[i]\n",
    "    return sum(digits)\n",
    "result = convert(ip)\n",
    "print(result)"
   ]
  }
 ],
 "metadata": {
  "kernelspec": {
   "display_name": ".venv",
   "language": "python",
   "name": "python3"
  },
  "language_info": {
   "codemirror_mode": {
    "name": "ipython",
    "version": 3
   },
   "file_extension": ".py",
   "mimetype": "text/x-python",
   "name": "python",
   "nbconvert_exporter": "python",
   "pygments_lexer": "ipython3",
   "version": "3.11.2"
  },
  "orig_nbformat": 4
 },
 "nbformat": 4,
 "nbformat_minor": 2
}
