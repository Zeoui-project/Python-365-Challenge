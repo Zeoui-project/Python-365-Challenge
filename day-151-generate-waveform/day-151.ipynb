{
 "cells": [
  {
   "cell_type": "markdown",
   "metadata": {},
   "source": [
    "# Generate Sine, Square, Triangle and Sawtooth waveform"
   ]
  },
  {
   "cell_type": "code",
   "execution_count": null,
   "metadata": {},
   "outputs": [],
   "source": [
    "import numpy as np\n",
    "import matplotlib.pyplot as plt\n",
    "\n",
    "# Define the signal parameters\n",
    "T = 1 # Period (Seconds)\n",
    "fs = 1000 # Sampling Frequency (Hz)\n",
    "t = np.linspace(0, T, T*fs, endpoint=False)\n",
    "\n",
    "# Generate sine wave\n",
    "f_sine = 5 # Frequency (Hz)\n",
    "sine_wave = np.sin(2*np.pi*f_sine*t)\n",
    "\n",
    "# Generate Square Wave\n",
    "f_square = 2 # Frequency (Hz)\n",
    "duty_cycle = 0.01 # Percentage of the period where the signal is high\n",
    "square_wave = np.where(np.mod(np.floor(2*duty_cycle*fs*t), 2) == 0, 1, -1)\n",
    "\n",
    "# Generate Triangle wave\n",
    "f_triangle = 1 # Frequency (Hz)\n",
    "triangle_wave = 2*np.abs((10*f_triangle*t) % 2 - 1) - 1\n",
    "\n",
    "# Generate Sawtooth wave\n",
    "f_sawtooth = 10  # Frequency (Hz)\n",
    "sawtooth_wave = 2 * (f_sawtooth*t - np.floor(f_sawtooth*t + 0.5))\n",
    "\n",
    "# Plot the waves\n",
    "fig, axs = plt.subplots(4, 1, sharex=True, figsize=(8,8))\n",
    "axs[0].plot(t, sine_wave)\n",
    "axs[0].set_title('Sine Wave')\n",
    "axs[1].plot(t, square_wave)\n",
    "axs[1].set_title('Square Wave')\n",
    "axs[2].plot(t, triangle_wave)\n",
    "axs[2].set_title('Triangle Wave')\n",
    "axs[3].plot(t, sawtooth_wave)\n",
    "axs[3].set_title('Sawtooth Wave')\n",
    "plt.xlabel('Time (s)')\n",
    "plt.show()"
   ]
  }
 ],
 "metadata": {
  "language_info": {
   "name": "python"
  },
  "orig_nbformat": 4
 },
 "nbformat": 4,
 "nbformat_minor": 2
}
