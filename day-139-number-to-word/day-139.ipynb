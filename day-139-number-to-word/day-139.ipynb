{
 "cells": [
  {
   "attachments": {},
   "cell_type": "markdown",
   "metadata": {},
   "source": [
    "# Converts number to its equivalent word using Python"
   ]
  },
  {
   "cell_type": "code",
   "execution_count": 28,
   "metadata": {},
   "outputs": [
    {
     "name": "stdout",
     "output_type": "stream",
     "text": [
      "one hundred twenty five thousand nine hundred eighty one\n"
     ]
    }
   ],
   "source": [
    "num = int(input(\"Enter a Number : \"))\n",
    "def number_to_words(num):\n",
    "    units = [\"zero\", \"one\", \"two\", \"three\", \"four\", \"five\", \"six\", \"seven\", \"eight\", \"nine\", \"ten\", \n",
    "             \"eleven\", \"twelve\",\"thirteen\", \"fourteen\", \"fifteen\", \"sixteen\", \"seventeen\", \"eighteen\", \"nineteen\"]\n",
    "    tens = [\"\", \"\", \"twenty\",\"thirty\", \"forty\", \"fifty\", \"sixty\", \"seventy\", \"eighty\", \"ninety\"]\n",
    "\n",
    "    if num < 20:\n",
    "        return (units[int(num)])\n",
    "    elif num < 100:\n",
    "        return tens[num // 10] + ('' if num % 10 == 0 else ' ' + units[int(num % 10)])\n",
    "    elif num < 1000:\n",
    "        return units[int(num // 100)] + \" hundred\" + ('' if num % 100 == 0\n",
    "                                                      else ' ' + number_to_words(num % 100))\n",
    "    elif num < 1000000:\n",
    "        return number_to_words(num // 1000) + \" thousand\" + (\n",
    "            '' if num % 1000 == 0 else ' ' + number_to_words(num % 1000))\n",
    "    else:\n",
    "        return \"Number exceeded the range\"\n",
    "print(number_to_words(num))"
   ]
  }
 ],
 "metadata": {
  "kernelspec": {
   "display_name": "Python 3",
   "language": "python",
   "name": "python3"
  },
  "language_info": {
   "codemirror_mode": {
    "name": "ipython",
    "version": 3
   },
   "file_extension": ".py",
   "mimetype": "text/x-python",
   "name": "python",
   "nbconvert_exporter": "python",
   "pygments_lexer": "ipython3",
   "version": "3.11.4"
  },
  "orig_nbformat": 4
 },
 "nbformat": 4,
 "nbformat_minor": 2
}
