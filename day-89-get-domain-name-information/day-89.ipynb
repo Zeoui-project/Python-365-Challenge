{
 "cells": [
  {
   "attachments": {},
   "cell_type": "markdown",
   "metadata": {},
   "source": [
    "# Get Domain Name Information using Python"
   ]
  },
  {
   "cell_type": "code",
   "execution_count": 1,
   "metadata": {},
   "outputs": [
    {
     "name": "stdout",
     "output_type": "stream",
     "text": [
      "Requirement already satisfied: python-whois in f:\\file penting\\semester 5 binus aso\\data science and application (pak zacky)\\praktikum\\praktikum\\.venv\\lib\\site-packages (0.8.0)Note: you may need to restart the kernel to use updated packages.\n",
      "\n",
      "Requirement already satisfied: future in f:\\file penting\\semester 5 binus aso\\data science and application (pak zacky)\\praktikum\\praktikum\\.venv\\lib\\site-packages (from python-whois) (0.18.3)\n"
     ]
    },
    {
     "name": "stderr",
     "output_type": "stream",
     "text": [
      "\n",
      "[notice] A new release of pip available: 22.3.1 -> 23.1.2\n",
      "[notice] To update, run: python.exe -m pip install --upgrade pip\n"
     ]
    }
   ],
   "source": [
    "%pip install python-whois"
   ]
  },
  {
   "cell_type": "code",
   "execution_count": 3,
   "metadata": {},
   "outputs": [
    {
     "name": "stdout",
     "output_type": "stream",
     "text": [
      "domain_name : ['GITHUB.COM', 'github.com']\n",
      "registrar : MarkMonitor, Inc.\n",
      "whois_server : whois.markmonitor.com\n",
      "referral_url : None\n",
      "updated_date : 2022-09-07 09:10:44\n",
      "creation_date : 2007-10-09 18:20:50\n",
      "expiration_date : [datetime.datetime(2024, 10, 9, 18, 20, 50), datetime.datetime(2024, 10, 9, 0, 0)]\n",
      "name_servers : ['DNS1.P08.NSONE.NET', 'DNS2.P08.NSONE.NET', 'DNS3.P08.NSONE.NET', 'DNS4.P08.NSONE.NET', 'NS-1283.AWSDNS-32.ORG', 'NS-1707.AWSDNS-21.CO.UK', 'NS-421.AWSDNS-52.COM', 'NS-520.AWSDNS-01.NET', 'dns3.p08.nsone.net', 'dns1.p08.nsone.net', 'ns-421.awsdns-52.com', 'ns-520.awsdns-01.net', 'ns-1707.awsdns-21.co.uk', 'ns-1283.awsdns-32.org', 'dns4.p08.nsone.net', 'dns2.p08.nsone.net']\n",
      "status : ['clientDeleteProhibited https://icann.org/epp#clientDeleteProhibited', 'clientTransferProhibited https://icann.org/epp#clientTransferProhibited', 'clientUpdateProhibited https://icann.org/epp#clientUpdateProhibited', 'clientUpdateProhibited (https://www.icann.org/epp#clientUpdateProhibited)', 'clientTransferProhibited (https://www.icann.org/epp#clientTransferProhibited)', 'clientDeleteProhibited (https://www.icann.org/epp#clientDeleteProhibited)']\n",
      "emails : ['abusecomplaints@markmonitor.com', 'whoisrequest@markmonitor.com']\n",
      "dnssec : unsigned\n",
      "name : None\n",
      "org : GitHub, Inc.\n",
      "address : None\n",
      "city : None\n",
      "state : CA\n",
      "registrant_postal_code : None\n",
      "country : US\n"
     ]
    }
   ],
   "source": [
    "import whois\n",
    "domain = input(\"Enter your Domain : \")\n",
    "domain_info = whois.whois(domain)\n",
    "for key, value in domain_info.items():\n",
    "    print(key, ':', value)"
   ]
  }
 ],
 "metadata": {
  "kernelspec": {
   "display_name": ".venv",
   "language": "python",
   "name": "python3"
  },
  "language_info": {
   "codemirror_mode": {
    "name": "ipython",
    "version": 3
   },
   "file_extension": ".py",
   "mimetype": "text/x-python",
   "name": "python",
   "nbconvert_exporter": "python",
   "pygments_lexer": "ipython3",
   "version": "3.10.3"
  },
  "orig_nbformat": 4
 },
 "nbformat": 4,
 "nbformat_minor": 2
}
