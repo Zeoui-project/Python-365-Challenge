{
 "cells": [
  {
   "attachments": {},
   "cell_type": "markdown",
   "metadata": {},
   "source": [
    "# Realtime Currency Converter using Python"
   ]
  },
  {
   "cell_type": "code",
   "execution_count": 1,
   "metadata": {},
   "outputs": [
    {
     "name": "stdout",
     "output_type": "stream",
     "text": [
      "Collecting forex_python\n",
      "  Downloading forex_python-1.8-py3-none-any.whl (8.2 kB)\n",
      "Requirement already satisfied: requests in f:\\file penting\\semester 5 binus aso\\data science and application (pak zacky)\\praktikum\\praktikum\\.venv\\lib\\site-packages (from forex_python) (2.28.2)\n",
      "Collecting simplejson\n",
      "  Downloading simplejson-3.18.3-cp310-cp310-win_amd64.whl (74 kB)\n",
      "     ---------------------------------------- 74.9/74.9 kB 2.1 MB/s eta 0:00:00\n",
      "Requirement already satisfied: certifi>=2017.4.17 in f:\\file penting\\semester 5 binus aso\\data science and application (pak zacky)\\praktikum\\praktikum\\.venv\\lib\\site-packages (from requests->forex_python) (2022.12.7)\n",
      "Requirement already satisfied: charset-normalizer<4,>=2 in f:\\file penting\\semester 5 binus aso\\data science and application (pak zacky)\\praktikum\\praktikum\\.venv\\lib\\site-packages (from requests->forex_python) (3.0.1)\n",
      "Requirement already satisfied: idna<4,>=2.5 in f:\\file penting\\semester 5 binus aso\\data science and application (pak zacky)\\praktikum\\praktikum\\.venv\\lib\\site-packages (from requests->forex_python) (3.4)\n",
      "Requirement already satisfied: urllib3<1.27,>=1.21.1 in f:\\file penting\\semester 5 binus aso\\data science and application (pak zacky)\\praktikum\\praktikum\\.venv\\lib\\site-packages (from requests->forex_python) (1.26.14)\n",
      "Installing collected packages: simplejson, forex_python\n",
      "Successfully installed forex_python-1.8 simplejson-3.18.3\n"
     ]
    },
    {
     "name": "stderr",
     "output_type": "stream",
     "text": [
      "\n",
      "[notice] A new release of pip available: 22.3.1 -> 23.0.1\n",
      "[notice] To update, run: python.exe -m pip install --upgrade pip\n"
     ]
    }
   ],
   "source": [
    "!pip install forex_python"
   ]
  },
  {
   "cell_type": "code",
   "execution_count": 1,
   "metadata": {},
   "outputs": [],
   "source": [
    "from forex_python.converter import CurrencyRates\n",
    "c = CurrencyRates()"
   ]
  }
 ],
 "metadata": {
  "kernelspec": {
   "display_name": ".venv",
   "language": "python",
   "name": "python3"
  },
  "language_info": {
   "codemirror_mode": {
    "name": "ipython",
    "version": 3
   },
   "file_extension": ".py",
   "mimetype": "text/x-python",
   "name": "python",
   "nbconvert_exporter": "python",
   "pygments_lexer": "ipython3",
   "version": "3.10.3"
  },
  "orig_nbformat": 4
 },
 "nbformat": 4,
 "nbformat_minor": 2
}
