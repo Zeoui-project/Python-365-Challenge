{
 "cells": [
  {
   "attachments": {},
   "cell_type": "markdown",
   "metadata": {},
   "source": [
    "# Realtime Currency Converter using Python"
   ]
  },
  {
   "cell_type": "code",
   "execution_count": 1,
   "metadata": {},
   "outputs": [
    {
     "name": "stdout",
     "output_type": "stream",
     "text": [
      "Collecting forex_python\n",
      "  Downloading forex_python-1.8-py3-none-any.whl (8.2 kB)\n",
      "Requirement already satisfied: requests in f:\\file penting\\semester 5 binus aso\\data science and application (pak zacky)\\praktikum\\praktikum\\.venv\\lib\\site-packages (from forex_python) (2.28.2)\n",
      "Collecting simplejson\n",
      "  Downloading simplejson-3.18.3-cp310-cp310-win_amd64.whl (74 kB)\n",
      "     ---------------------------------------- 74.9/74.9 kB 2.1 MB/s eta 0:00:00\n",
      "Requirement already satisfied: certifi>=2017.4.17 in f:\\file penting\\semester 5 binus aso\\data science and application (pak zacky)\\praktikum\\praktikum\\.venv\\lib\\site-packages (from requests->forex_python) (2022.12.7)\n",
      "Requirement already satisfied: charset-normalizer<4,>=2 in f:\\file penting\\semester 5 binus aso\\data science and application (pak zacky)\\praktikum\\praktikum\\.venv\\lib\\site-packages (from requests->forex_python) (3.0.1)\n",
      "Requirement already satisfied: idna<4,>=2.5 in f:\\file penting\\semester 5 binus aso\\data science and application (pak zacky)\\praktikum\\praktikum\\.venv\\lib\\site-packages (from requests->forex_python) (3.4)\n",
      "Requirement already satisfied: urllib3<1.27,>=1.21.1 in f:\\file penting\\semester 5 binus aso\\data science and application (pak zacky)\\praktikum\\praktikum\\.venv\\lib\\site-packages (from requests->forex_python) (1.26.14)\n",
      "Installing collected packages: simplejson, forex_python\n",
      "Successfully installed forex_python-1.8 simplejson-3.18.3\n"
     ]
    },
    {
     "name": "stderr",
     "output_type": "stream",
     "text": [
      "\n",
      "[notice] A new release of pip available: 22.3.1 -> 23.0.1\n",
      "[notice] To update, run: python.exe -m pip install --upgrade pip\n"
     ]
    }
   ],
   "source": [
    "!pip install forex_python"
   ]
  },
  {
   "cell_type": "code",
   "execution_count": 6,
   "metadata": {},
   "outputs": [
    {
     "name": "stdout",
     "output_type": "stream",
     "text": [
      "USD  To  IDR 100\n"
     ]
    },
    {
     "ename": "RatesNotAvailableError",
     "evalue": "Currency Rates Source Not Ready",
     "output_type": "error",
     "traceback": [
      "\u001b[1;31m---------------------------------------------------------------------------\u001b[0m",
      "\u001b[1;31mRatesNotAvailableError\u001b[0m                    Traceback (most recent call last)",
      "Cell \u001b[1;32mIn[6], line 7\u001b[0m\n\u001b[0;32m      5\u001b[0m to_currency \u001b[39m=\u001b[39m \u001b[39minput\u001b[39m(\u001b[39m\"\u001b[39m\u001b[39mTo Currency: \u001b[39m\u001b[39m\"\u001b[39m)\u001b[39m.\u001b[39mupper()\n\u001b[0;32m      6\u001b[0m \u001b[39mprint\u001b[39m(from_currency, \u001b[39m\"\u001b[39m\u001b[39m To \u001b[39m\u001b[39m\"\u001b[39m, to_currency, amount)\n\u001b[1;32m----> 7\u001b[0m result \u001b[39m=\u001b[39m c\u001b[39m.\u001b[39;49mconvert(from_currency, to_currency, amount)\n\u001b[0;32m      8\u001b[0m \u001b[39mprint\u001b[39m(result)\n",
      "File \u001b[1;32mf:\\File Penting\\Semester 5 Binus ASO\\Data Science and Application (Pak Zacky)\\Praktikum\\Praktikum\\.venv\\lib\\site-packages\\forex_python\\converter.py:108\u001b[0m, in \u001b[0;36mCurrencyRates.convert\u001b[1;34m(self, base_cur, dest_cur, amount, date_obj)\u001b[0m\n\u001b[0;32m    105\u001b[0m     \u001b[39mexcept\u001b[39;00m \u001b[39mTypeError\u001b[39;00m:\n\u001b[0;32m    106\u001b[0m         \u001b[39mraise\u001b[39;00m DecimalFloatMismatchError(\n\u001b[0;32m    107\u001b[0m             \u001b[39m\"\u001b[39m\u001b[39mconvert requires amount parameter is of type Decimal when force_decimal=True\u001b[39m\u001b[39m\"\u001b[39m)\n\u001b[1;32m--> 108\u001b[0m \u001b[39mraise\u001b[39;00m RatesNotAvailableError(\u001b[39m\"\u001b[39m\u001b[39mCurrency Rates Source Not Ready\u001b[39m\u001b[39m\"\u001b[39m)\n",
      "\u001b[1;31mRatesNotAvailableError\u001b[0m: Currency Rates Source Not Ready"
     ]
    }
   ],
   "source": [
    "from forex_python.converter import CurrencyRates\n",
    "c = CurrencyRates()\n",
    "amount = int(input(\"Enter the amount: \"))\n",
    "from_currency = input(\"From Currency: \").upper()\n",
    "to_currency = input(\"To Currency: \").upper()\n",
    "print(from_currency, \" To \", to_currency, amount)\n",
    "result = c.convert(from_currency, to_currency, amount)\n",
    "print(result)"
   ]
  }
 ],
 "metadata": {
  "kernelspec": {
   "display_name": ".venv",
   "language": "python",
   "name": "python3"
  },
  "language_info": {
   "codemirror_mode": {
    "name": "ipython",
    "version": 3
   },
   "file_extension": ".py",
   "mimetype": "text/x-python",
   "name": "python",
   "nbconvert_exporter": "python",
   "pygments_lexer": "ipython3",
   "version": "3.10.3"
  },
  "orig_nbformat": 4
 },
 "nbformat": 4,
 "nbformat_minor": 2
}
