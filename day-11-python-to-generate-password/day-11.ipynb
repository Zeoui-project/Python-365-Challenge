{
 "cells": [
  {
   "attachments": {},
   "cell_type": "markdown",
   "metadata": {},
   "source": [
    "# Python Program to Generate Password"
   ]
  },
  {
   "cell_type": "code",
   "execution_count": 2,
   "metadata": {},
   "outputs": [
    {
     "name": "stdout",
     "output_type": "stream",
     "text": [
      "NO?Wu6p@e\n"
     ]
    }
   ],
   "source": [
    "import random\n",
    "\n",
    "#User input for password length\n",
    "passlen = int(input(\"Enter the length of password : \"))\n",
    "\n",
    "#storing letters, numbers and special characters\n",
    "s = \"abcdefghijklmnopqrstuvwxyz0123456789ABCDEFGHIJKLMNOPQRSTUVWXYZ!@#$%^&*()?\"\n",
    "\n",
    "#random sampling by joining the length of the password and the variable s\n",
    "p = \"\".join(random.sample(s,passlen))\n",
    "print(p)"
   ]
  }
 ],
 "metadata": {
  "kernelspec": {
   "display_name": ".venv",
   "language": "python",
   "name": "python3"
  },
  "language_info": {
   "codemirror_mode": {
    "name": "ipython",
    "version": 3
   },
   "file_extension": ".py",
   "mimetype": "text/x-python",
   "name": "python",
   "nbconvert_exporter": "python",
   "pygments_lexer": "ipython3",
   "version": "3.10.3"
  },
  "orig_nbformat": 4,
  "vscode": {
   "interpreter": {
    "hash": "1ecee382ac9679ab1041b53d286f1b1ac05da0f713dd43418d9415034a338dad"
   }
  }
 },
 "nbformat": 4,
 "nbformat_minor": 2
}
