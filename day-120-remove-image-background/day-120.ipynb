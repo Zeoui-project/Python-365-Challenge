{
 "cells": [
  {
   "attachments": {},
   "cell_type": "markdown",
   "metadata": {},
   "source": [
    "# Remove Image Background using Python"
   ]
  },
  {
   "cell_type": "code",
   "execution_count": null,
   "metadata": {},
   "outputs": [],
   "source": [
    "%pip install rembg"
   ]
  },
  {
   "cell_type": "code",
   "execution_count": 5,
   "metadata": {},
   "outputs": [],
   "source": [
    "# Library Documentation https://pypi.org/project/rembg/\n",
    "\n",
    "from rembg import remove\n",
    "from PIL import Image\n",
    "input_path = 'test.jpg'\n",
    "output_path = 'no-bg-test.png'\n",
    "input = Image.open(input_path)\n",
    "output = remove(input)\n",
    "output.save(output_path)"
   ]
  },
  {
   "attachments": {},
   "cell_type": "markdown",
   "metadata": {},
   "source": [
    "# Remove Backgroun via Website using CLI"
   ]
  },
  {
   "cell_type": "code",
   "execution_count": 22,
   "metadata": {},
   "outputs": [
    {
     "name": "stderr",
     "output_type": "stream",
     "text": [
      "'f:\\File' is not recognized as an internal or external command,\n",
      "operable program or batch file.\n",
      "'h' is not recognized as an internal or external command,\n",
      "operable program or batch file.\n"
     ]
    }
   ],
   "source": [
    "# https://pypi.org/project/rembg/\n",
    "\n",
    "import sys\n",
    "!{sys.executable} curl -s https://www.topgear.com/sites/default/files/cars-car/image/2016/03/1mclaren570scarreviewmarch2016.jpg?w=1280&h=720 | rembg i > output.png"
   ]
  }
 ],
 "metadata": {
  "kernelspec": {
   "display_name": ".venv",
   "language": "python",
   "name": "python3"
  },
  "language_info": {
   "codemirror_mode": {
    "name": "ipython",
    "version": 3
   },
   "file_extension": ".py",
   "mimetype": "text/x-python",
   "name": "python",
   "nbconvert_exporter": "python",
   "pygments_lexer": "ipython3",
   "version": "3.10.3"
  },
  "orig_nbformat": 4
 },
 "nbformat": 4,
 "nbformat_minor": 2
}
