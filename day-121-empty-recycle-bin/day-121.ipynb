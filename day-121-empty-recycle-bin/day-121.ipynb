{
 "cells": [
  {
   "attachments": {},
   "cell_type": "markdown",
   "metadata": {},
   "source": [
    "# Empty Recycle Bin using Python"
   ]
  },
  {
   "cell_type": "code",
   "execution_count": 1,
   "metadata": {},
   "outputs": [
    {
     "name": "stdout",
     "output_type": "stream",
     "text": [
      "Collecting winshell\n",
      "  Downloading winshell-0.6.zip (10 kB)\n",
      "  Preparing metadata (setup.py): started\n",
      "  Preparing metadata (setup.py): finished with status 'done'\n",
      "Building wheels for collected packages: winshell\n",
      "  Building wheel for winshell (setup.py): started\n",
      "  Building wheel for winshell (setup.py): finished with status 'done'\n",
      "  Created wheel for winshell: filename=winshell-0.6-py3-none-any.whl size=9426 sha256=22c7f764cb0510c8a0a617f16617ec37cb4854eda48b7f88a5bc18cba33aa572\n",
      "  Stored in directory: c:\\users\\vel\\appdata\\local\\pip\\cache\\wheels\\30\\c3\\73\\f0c80234f65ac1298f596bd42254872819e1997108fe046205\n",
      "Successfully built winshell\n",
      "Installing collected packages: winshell\n",
      "Successfully installed winshell-0.6\n",
      "Note: you may need to restart the kernel to use updated packages.\n"
     ]
    },
    {
     "name": "stderr",
     "output_type": "stream",
     "text": [
      "\n",
      "[notice] A new release of pip available: 22.3.1 -> 23.1.2\n",
      "[notice] To update, run: python.exe -m pip install --upgrade pip\n"
     ]
    }
   ],
   "source": [
    "%pip install winshell"
   ]
  },
  {
   "cell_type": "code",
   "execution_count": 2,
   "metadata": {},
   "outputs": [
    {
     "name": "stdout",
     "output_type": "stream",
     "text": [
      "Recycle bin is emptied Now\n"
     ]
    }
   ],
   "source": [
    "import winshell\n",
    "try:\n",
    "    winshell.recycle_bin().empty(confirm=False,\n",
    "                                 show_progress=True, sound=True)\n",
    "    print(\"Recycle bin is emptied Now\")\n",
    "except:\n",
    "    print(\"Recycle bin already empty\")"
   ]
  }
 ],
 "metadata": {
  "kernelspec": {
   "display_name": ".venv",
   "language": "python",
   "name": "python3"
  },
  "language_info": {
   "codemirror_mode": {
    "name": "ipython",
    "version": 3
   },
   "file_extension": ".py",
   "mimetype": "text/x-python",
   "name": "python",
   "nbconvert_exporter": "python",
   "pygments_lexer": "ipython3",
   "version": "3.10.3"
  },
  "orig_nbformat": 4
 },
 "nbformat": 4,
 "nbformat_minor": 2
}
