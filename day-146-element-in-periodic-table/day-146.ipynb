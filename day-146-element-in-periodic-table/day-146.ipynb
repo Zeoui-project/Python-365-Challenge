{
 "cells": [
  {
   "attachments": {},
   "cell_type": "markdown",
   "metadata": {},
   "source": [
    "# Details of an element by Periodic Table"
   ]
  },
  {
   "cell_type": "code",
   "execution_count": 1,
   "metadata": {},
   "outputs": [
    {
     "name": "stdout",
     "output_type": "stream",
     "text": [
      "Collecting periodictable\n",
      "  Downloading periodictable-1.6.1-py2.py3-none-any.whl (752 kB)\n",
      "                                              0.0/752.5 kB ? eta -:--:--\n",
      "     ---                                     71.7/752.5 kB 2.0 MB/s eta 0:00:01\n",
      "     -------                                153.6/752.5 kB 2.3 MB/s eta 0:00:01\n",
      "     ------------                           256.0/752.5 kB 2.0 MB/s eta 0:00:01\n",
      "     ------------------                     368.6/752.5 kB 2.1 MB/s eta 0:00:01\n",
      "     ------------------------               491.5/752.5 kB 2.2 MB/s eta 0:00:01\n",
      "     -----------------------------          593.9/752.5 kB 2.3 MB/s eta 0:00:01\n",
      "     -----------------------------------    696.3/752.5 kB 2.3 MB/s eta 0:00:01\n",
      "     -------------------------------------  747.5/752.5 kB 2.1 MB/s eta 0:00:01\n",
      "     -------------------------------------- 752.5/752.5 kB 2.1 MB/s eta 0:00:00\n",
      "Requirement already satisfied: pyparsing in c:\\users\\vel\\appdata\\local\\programs\\python\\python311\\lib\\site-packages (from periodictable) (3.1.0)\n",
      "Requirement already satisfied: numpy in c:\\users\\vel\\appdata\\local\\programs\\python\\python311\\lib\\site-packages (from periodictable) (1.25.0)\n",
      "Installing collected packages: periodictable\n",
      "Successfully installed periodictable-1.6.1\n",
      "Note: you may need to restart the kernel to use updated packages.\n"
     ]
    }
   ],
   "source": [
    "%pip install periodictable"
   ]
  },
  {
   "cell_type": "code",
   "execution_count": 16,
   "metadata": {},
   "outputs": [
    {
     "name": "stdout",
     "output_type": "stream",
     "text": [
      "Atomic Number:  8\n",
      "Symbol:  O\n",
      "Name:  oxygen\n",
      "Atomic Mass:  15.9994\n",
      "Density:  1.14\n"
     ]
    }
   ],
   "source": [
    "import periodictable\n",
    "\n",
    "# Get details of an element by atomic number\n",
    "Atomic_No = int(input(\"Enter Element Atomic No : \"))\n",
    "element = periodictable.elements[Atomic_No]\n",
    "print('Atomic Number: ', element.number)\n",
    "print('Symbol: ', element.symbol)\n",
    "print('Name: ', element.name)\n",
    "print('Atomic Mass: ', element.mass)\n",
    "print('Density: ', element.density)\n"
   ]
  }
 ],
 "metadata": {
  "kernelspec": {
   "display_name": "Python 3",
   "language": "python",
   "name": "python3"
  },
  "language_info": {
   "codemirror_mode": {
    "name": "ipython",
    "version": 3
   },
   "file_extension": ".py",
   "mimetype": "text/x-python",
   "name": "python",
   "nbconvert_exporter": "python",
   "pygments_lexer": "ipython3",
   "version": "3.11.4"
  },
  "orig_nbformat": 4
 },
 "nbformat": 4,
 "nbformat_minor": 2
}
