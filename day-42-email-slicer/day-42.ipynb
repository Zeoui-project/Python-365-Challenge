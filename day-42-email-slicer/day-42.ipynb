{
 "cells": [
  {
   "attachments": {},
   "cell_type": "markdown",
   "metadata": {},
   "source": [
    "# Email Slicer using Python"
   ]
  },
  {
   "cell_type": "code",
   "execution_count": 1,
   "metadata": {},
   "outputs": [
    {
     "name": "stdout",
     "output_type": "stream",
     "text": [
      "Your user name is  helloworld  and your domain is  gmail.com\n"
     ]
    }
   ],
   "source": [
    "# Ask to enter any email\n",
    "email = input(\"Enter Your Email: \")\n",
    "\n",
    "# Remove any unnecessary white spaces\n",
    "email = email.strip()\n",
    "\n",
    "# Get the index of @\n",
    "slicer_index = email.index(\"@\")\n",
    "\n",
    "# fetch the user name by string slicing\n",
    "username = email[:slicer_index]\n",
    "\n",
    "# fetch the domain name by string slicing\n",
    "domain_name =  email[slicer_index+1:]\n",
    "\n",
    "# Print the result separately\n",
    "print(\"Your user name is \", username, \" and your domain is \", domain_name)"
   ]
  }
 ],
 "metadata": {
  "kernelspec": {
   "display_name": ".venv",
   "language": "python",
   "name": "python3"
  },
  "language_info": {
   "codemirror_mode": {
    "name": "ipython",
    "version": 3
   },
   "file_extension": ".py",
   "mimetype": "text/x-python",
   "name": "python",
   "nbconvert_exporter": "python",
   "pygments_lexer": "ipython3",
   "version": "3.10.3"
  },
  "orig_nbformat": 4
 },
 "nbformat": 4,
 "nbformat_minor": 2
}
