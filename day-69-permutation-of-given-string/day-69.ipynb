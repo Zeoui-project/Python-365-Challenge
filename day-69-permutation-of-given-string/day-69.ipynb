{
 "cells": [
  {
   "attachments": {},
   "cell_type": "markdown",
   "metadata": {},
   "source": [
    "# Permutation of Given String using Python"
   ]
  },
  {
   "cell_type": "code",
   "execution_count": 1,
   "metadata": {},
   "outputs": [
    {
     "name": "stdout",
     "output_type": "stream",
     "text": [
      "CAT\n",
      "CTA\n",
      "ACT\n",
      "ATC\n",
      "TCA\n",
      "TAC\n"
     ]
    }
   ],
   "source": [
    "# Function to find permutations of a given string\n",
    "\n",
    "from itertools import permutations\n",
    "def allPermutation(str):\n",
    "    # Get all permuations of string 'ABC'\n",
    "    permList = permutations(str)\n",
    "\n",
    "    # Print all permutations\n",
    "    for perm in list(permList):\n",
    "        print(''.join(perm))\n",
    "\n",
    "# Driver program\n",
    "if __name__ == \"__main__\":\n",
    "    str = input(\"Enter your string : \")\n",
    "    allPermutation(str)"
   ]
  }
 ],
 "metadata": {
  "kernelspec": {
   "display_name": ".venv",
   "language": "python",
   "name": "python3"
  },
  "language_info": {
   "codemirror_mode": {
    "name": "ipython",
    "version": 3
   },
   "file_extension": ".py",
   "mimetype": "text/x-python",
   "name": "python",
   "nbconvert_exporter": "python",
   "pygments_lexer": "ipython3",
   "version": "3.10.3"
  },
  "orig_nbformat": 4
 },
 "nbformat": 4,
 "nbformat_minor": 2
}
