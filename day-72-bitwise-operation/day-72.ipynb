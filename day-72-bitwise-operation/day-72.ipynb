{
 "cells": [
  {
   "attachments": {},
   "cell_type": "markdown",
   "metadata": {},
   "source": [
    "# Bitwise Operation on Integer using Python"
   ]
  },
  {
   "cell_type": "code",
   "execution_count": 3,
   "metadata": {},
   "outputs": [
    {
     "name": "stdout",
     "output_type": "stream",
     "text": [
      "OR Opeartor  6\n",
      "AND Operator  2\n",
      "XOR Operator  4\n",
      "Left shift  24\n",
      "Right shift  1\n",
      "Minus operator  -6\n"
     ]
    }
   ],
   "source": [
    "x = int(input(\"Enter your first number\"))\n",
    "y = int(input(\"Enter your second number\"))\n",
    "\n",
    "print(\"OR Opeartor \", x|y)\n",
    "print(\"AND Operator \", x&y)\n",
    "print(\"XOR Operator \", x^y)\n",
    "print(\"Left shift \", x<<y)\n",
    "print(\"Right shift \", x>>y)\n",
    "print(\"Minus operator \", -x)"
   ]
  }
 ],
 "metadata": {
  "kernelspec": {
   "display_name": ".venv",
   "language": "python",
   "name": "python3"
  },
  "language_info": {
   "codemirror_mode": {
    "name": "ipython",
    "version": 3
   },
   "file_extension": ".py",
   "mimetype": "text/x-python",
   "name": "python",
   "nbconvert_exporter": "python",
   "pygments_lexer": "ipython3",
   "version": "3.10.3"
  },
  "orig_nbformat": 4
 },
 "nbformat": 4,
 "nbformat_minor": 2
}
