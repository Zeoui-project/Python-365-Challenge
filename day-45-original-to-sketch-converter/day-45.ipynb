{
 "cells": [
  {
   "attachments": {},
   "cell_type": "markdown",
   "metadata": {},
   "source": [
    "# Create Sketch from Photo (Grey Image Converter)"
   ]
  },
  {
   "cell_type": "code",
   "execution_count": null,
   "metadata": {},
   "outputs": [],
   "source": [
    "import cv2\n",
    "import matplotlib.pyplot as plt\n",
    "\n",
    "# Create Sketch (Grey Image)\n",
    "def img2sketch(photo, k_size):\n",
    "    #Read Image\n",
    "    img=cv2.imread(photo)\n",
    "    \n",
    "    # Convert to Grey Image\n",
    "    grey_img=cv2.cvtColor(img, cv2.COLOR_BGR2GRAY)\n",
    "\n",
    "    # Invert Image\n",
    "    invert_img=cv2.bitwise_not(grey_img)\n",
    "    #invert_img=255-grey_img\n",
    "\n",
    "    # Blur image\n",
    "    blur_img=cv2.GaussianBlur(invert_img, (k_size,k_size),0)\n",
    "\n",
    "    # Invert Blurred Image\n",
    "    invblur_img=cv2.bitwise_not(blur_img)\n",
    "    #invblur_img=255-blur_img\n",
    "\n",
    "    # Sketch Image\n",
    "    sketch_img=cv2.divide(grey_img,invblur_img, scale=256.0)\n",
    "\n",
    "    # Save Sketch \n",
    "    cv2.imwrite('sketch.png', sketch_img)\n",
    "\n",
    "    # Display sketch\n",
    "    cv2.imshow('sketch image',sketch_img)\n",
    "    cv2.waitKey(0)\n",
    "    cv2.destroyAllWindows()\n",
    "    \n",
    "#Function call\n",
    "img2sketch(photo='photo.png', k_size=7)"
   ]
  }
 ],
 "metadata": {
  "language_info": {
   "name": "python"
  },
  "orig_nbformat": 4
 },
 "nbformat": 4,
 "nbformat_minor": 2
}
