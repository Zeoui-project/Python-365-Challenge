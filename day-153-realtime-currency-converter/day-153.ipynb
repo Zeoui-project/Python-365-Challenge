{
 "cells": [
  {
   "cell_type": "markdown",
   "metadata": {},
   "source": [
    "# Realtime Currency Converter using Python"
   ]
  },
  {
   "cell_type": "code",
   "execution_count": 1,
   "metadata": {},
   "outputs": [
    {
     "name": "stdout",
     "output_type": "stream",
     "text": [
      "Collecting forex_python\n",
      "  Using cached forex_python-1.8-py3-none-any.whl (8.2 kB)\n",
      "Requirement already satisfied: requests in c:\\users\\vel\\appdata\\local\\programs\\python\\python311\\lib\\site-packages (from forex_python) (2.28.2)\n",
      "Collecting simplejson (from forex_python)\n",
      "  Downloading simplejson-3.19.1-cp311-cp311-win_amd64.whl (75 kB)\n",
      "                                              0.0/75.3 kB ? eta -:--:--\n",
      "     ---------------------------------------- 75.3/75.3 kB 4.3 MB/s eta 0:00:00\n",
      "Requirement already satisfied: charset-normalizer<4,>=2 in c:\\users\\vel\\appdata\\local\\programs\\python\\python311\\lib\\site-packages (from requests->forex_python) (3.0.1)\n",
      "Requirement already satisfied: idna<4,>=2.5 in c:\\users\\vel\\appdata\\local\\programs\\python\\python311\\lib\\site-packages (from requests->forex_python) (3.4)\n",
      "Requirement already satisfied: urllib3<1.27,>=1.21.1 in c:\\users\\vel\\appdata\\local\\programs\\python\\python311\\lib\\site-packages (from requests->forex_python) (1.26.14)\n",
      "Requirement already satisfied: certifi>=2017.4.17 in c:\\users\\vel\\appdata\\local\\programs\\python\\python311\\lib\\site-packages (from requests->forex_python) (2022.12.7)\n",
      "Installing collected packages: simplejson, forex_python\n",
      "Successfully installed forex_python-1.8 simplejson-3.19.1\n",
      "Note: you may need to restart the kernel to use updated packages.\n"
     ]
    }
   ],
   "source": [
    "%pip install forex_python"
   ]
  },
  {
   "cell_type": "code",
   "execution_count": 2,
   "metadata": {},
   "outputs": [
    {
     "name": "stdout",
     "output_type": "stream",
     "text": [
      "USD  To  EUR 100\n",
      "92.76437847866418\n"
     ]
    }
   ],
   "source": [
    "from forex_python.converter import CurrencyRates\n",
    "c = CurrencyRates()\n",
    "amount = int(input(\"Enter the amount: \"))\n",
    "from_currency = input(\"From Currency: \").upper()\n",
    "to_currency = input(\"To currency: \").upper()\n",
    "\n",
    "print(from_currency, \" To \", to_currency, amount)\n",
    "result = c.convert(from_currency, to_currency, amount)\n",
    "print(result)"
   ]
  }
 ],
 "metadata": {
  "kernelspec": {
   "display_name": "Python 3",
   "language": "python",
   "name": "python3"
  },
  "language_info": {
   "codemirror_mode": {
    "name": "ipython",
    "version": 3
   },
   "file_extension": ".py",
   "mimetype": "text/x-python",
   "name": "python",
   "nbconvert_exporter": "python",
   "pygments_lexer": "ipython3",
   "version": "3.11.4"
  },
  "orig_nbformat": 4
 },
 "nbformat": 4,
 "nbformat_minor": 2
}
