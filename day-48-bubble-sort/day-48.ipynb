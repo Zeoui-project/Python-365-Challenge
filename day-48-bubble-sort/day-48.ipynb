{
 "cells": [
  {
   "attachments": {},
   "cell_type": "markdown",
   "metadata": {},
   "source": [
    "# Bubble Sort using Python"
   ]
  },
  {
   "cell_type": "code",
   "execution_count": 1,
   "metadata": {},
   "outputs": [
    {
     "name": "stdout",
     "output_type": "stream",
     "text": [
      "Sorted List:  [1, 2, 4, 5, 6, 7, 8, 9]\n"
     ]
    }
   ],
   "source": [
    "def bubbleSort(List):\n",
    "    for i in range(len(List)):\n",
    "        for j in range(len(List) - 1, i, -1):\n",
    "            if List[j] < List[j - 1]:\n",
    "                List[j], List[j - 1] = List[j - 1], List[j]\n",
    "    return List\n",
    "\n",
    "if __name__ == '__main__':\n",
    "    List = [8, 4, 2, 6, 5, 7, 1, 9]\n",
    "    print('Sorted List: ', bubbleSort(List))"
   ]
  }
 ],
 "metadata": {
  "kernelspec": {
   "display_name": ".venv",
   "language": "python",
   "name": "python3"
  },
  "language_info": {
   "codemirror_mode": {
    "name": "ipython",
    "version": 3
   },
   "file_extension": ".py",
   "mimetype": "text/x-python",
   "name": "python",
   "nbconvert_exporter": "python",
   "pygments_lexer": "ipython3",
   "version": "3.10.3"
  },
  "orig_nbformat": 4
 },
 "nbformat": 4,
 "nbformat_minor": 2
}
