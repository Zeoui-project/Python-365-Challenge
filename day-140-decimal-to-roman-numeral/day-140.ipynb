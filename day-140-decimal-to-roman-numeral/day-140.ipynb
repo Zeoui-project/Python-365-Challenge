{
 "cells": [
  {
   "attachments": {},
   "cell_type": "markdown",
   "metadata": {},
   "source": [
    "# Decimal to Roman numeral using Python"
   ]
  },
  {
   "cell_type": "code",
   "execution_count": 3,
   "metadata": {},
   "outputs": [
    {
     "name": "stdout",
     "output_type": "stream",
     "text": [
      "MMXXIII\n"
     ]
    }
   ],
   "source": [
    "decimal_num = int(input(\"Enter a Decimal Number : \"))\n",
    "\n",
    "def decimal_to_roman(decimal_num):\n",
    "    roman_to_decimal = {1000: 'M', 900: 'CM', 500: 'D', 400: 'CD', \n",
    "                        100: 'C', 90: 'XC', 50: 'L', 40: 'XL', 10: 'X',\n",
    "                        9: 'IX', 5: 'V', 4: 'IV', 1: 'I'}\n",
    "    roman_numeral = ''\n",
    "    for value, numeral in roman_to_decimal.items():\n",
    "        while decimal_num >= value:\n",
    "            roman_numeral += numeral\n",
    "            decimal_num -= value\n",
    "    return roman_numeral\n",
    "print(decimal_to_roman(decimal_num)) "
   ]
  }
 ],
 "metadata": {
  "kernelspec": {
   "display_name": "Python 3",
   "language": "python",
   "name": "python3"
  },
  "language_info": {
   "codemirror_mode": {
    "name": "ipython",
    "version": 3
   },
   "file_extension": ".py",
   "mimetype": "text/x-python",
   "name": "python",
   "nbconvert_exporter": "python",
   "pygments_lexer": "ipython3",
   "version": "3.11.4"
  },
  "orig_nbformat": 4
 },
 "nbformat": 4,
 "nbformat_minor": 2
}
