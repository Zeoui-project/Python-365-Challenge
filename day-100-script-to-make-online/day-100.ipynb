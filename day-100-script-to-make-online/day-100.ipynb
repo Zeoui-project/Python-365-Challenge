{
 "cells": [
  {
   "attachments": {},
   "cell_type": "markdown",
   "metadata": {},
   "source": [
    "# Python script to keep you \"ONLINE\" all day"
   ]
  },
  {
   "cell_type": "code",
   "execution_count": null,
   "metadata": {},
   "outputs": [],
   "source": [
    "# Import library\n",
    "import pyautogui\n",
    "\n",
    "# Import time\n",
    "import time\n",
    "\n",
    "# Run the next lines of code while state is set as \"True\"\n",
    "while True:\n",
    "    pyautogui.moveRel(0, 10)\n",
    "    time.sleep(2)"
   ]
  }
 ],
 "metadata": {
  "language_info": {
   "name": "python"
  },
  "orig_nbformat": 4
 },
 "nbformat": 4,
 "nbformat_minor": 2
}
