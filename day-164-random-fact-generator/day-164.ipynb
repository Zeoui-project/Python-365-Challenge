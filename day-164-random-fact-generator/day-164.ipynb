{
 "cells": [
  {
   "cell_type": "markdown",
   "metadata": {},
   "source": [
    "# Fun fact game"
   ]
  },
  {
   "cell_type": "code",
   "execution_count": 2,
   "metadata": {},
   "outputs": [
    {
     "name": "stdout",
     "output_type": "stream",
     "text": [
      "Collecting pywebio\n",
      "  Downloading pywebio-1.8.2.tar.gz (495 kB)\n",
      "                                              0.0/495.9 kB ? eta -:--:--\n",
      "     --------                               112.6/495.9 kB 3.2 MB/s eta 0:00:01\n",
      "     ---------------------                  286.7/495.9 kB 3.5 MB/s eta 0:00:01\n",
      "     -----------------------------------    460.8/495.9 kB 3.6 MB/s eta 0:00:01\n",
      "     -------------------------------------- 495.9/495.9 kB 3.4 MB/s eta 0:00:00\n",
      "  Installing build dependencies: started\n",
      "  Installing build dependencies: finished with status 'done'\n",
      "  Getting requirements to build wheel: started\n",
      "  Getting requirements to build wheel: finished with status 'done'\n",
      "  Preparing metadata (pyproject.toml): started\n",
      "  Preparing metadata (pyproject.toml): finished with status 'done'\n",
      "Requirement already satisfied: tornado>=5.0 in c:\\users\\vel\\appdata\\roaming\\python\\python311\\site-packages (from pywebio) (6.2)\n",
      "Collecting user-agents (from pywebio)\n",
      "  Downloading user_agents-2.2.0-py3-none-any.whl (9.6 kB)\n",
      "Collecting ua-parser>=0.10.0 (from user-agents->pywebio)\n",
      "  Downloading ua_parser-0.18.0-py2.py3-none-any.whl (38 kB)\n",
      "Building wheels for collected packages: pywebio\n",
      "  Building wheel for pywebio (pyproject.toml): started\n",
      "  Building wheel for pywebio (pyproject.toml): finished with status 'done'\n",
      "  Created wheel for pywebio: filename=pywebio-1.8.2-py3-none-any.whl size=509124 sha256=dabde495224464b6fed26a1d9a8293bbe5ea321a710be2ffa6deaf596bbc21e0\n",
      "  Stored in directory: c:\\users\\vel\\appdata\\local\\pip\\cache\\wheels\\dc\\67\\fc\\24e756fb14c0e6e3b37e6a39858a3378e9b3973ac02000fd7c\n",
      "Successfully built pywebio\n",
      "Installing collected packages: ua-parser, user-agents, pywebio\n",
      "Successfully installed pywebio-1.8.2 ua-parser-0.18.0 user-agents-2.2.0\n",
      "Note: you may need to restart the kernel to use updated packages.\n"
     ]
    },
    {
     "name": "stderr",
     "output_type": "stream",
     "text": [
      "\n",
      "[notice] A new release of pip is available: 23.1.2 -> 23.2.1\n",
      "[notice] To update, run: python.exe -m pip install --upgrade pip\n"
     ]
    }
   ],
   "source": [
    "%pip install pywebio"
   ]
  },
  {
   "cell_type": "code",
   "execution_count": 1,
   "metadata": {},
   "outputs": [],
   "source": [
    "# import the following modules\n",
    "import json\n",
    "import requests\n",
    "from pywebio.input import *\n",
    "from pywebio.output import *\n",
    "from pywebio.session import *\n",
    "  \n",
    "  \n",
    "def get_fun_fact(_):\n",
    "    \n",
    "    # Clear the above screen\n",
    "    clear()\n",
    "  \n",
    "    put_html(\"<p align=\"\"left\"\"><h2><img src=\"\"https://scontent-itm1-1.xx.fbcdn.net/v/t39.30808-6/334255931_749250660200137_200072302997480847_n.jpg?_nc_cat=110&ccb=1-7&_nc_sid=a2f6c7&_nc_ohc=kgGu1u9nQTgAX-kwA5W&_nc_oc=AQlYpSvzIziLbXr-4LWgObBwAxJCKUo3PJEl0eWitCvWUHxy9DtqlR4IhsqV0vVP7p4&_nc_ht=scontent-itm1-1.xx&oh=00_AfDmy-fyDhZmQmH3V5RpzufxOI9mCkYz5vnyX4p_3P8E3g&oe=6511FE74\"\" width=\"\"7%\"\"> Fun Fact Generator</h2></p>\")\n",
    "      \n",
    "    # URL from where we will fetch the data\n",
    "    url = \"https://uselessfacts.jsph.pl/random.json?language=en\"\n",
    "      \n",
    "    # Use GET request\n",
    "    response = requests.request(\"GET\", url)  \n",
    "      \n",
    "    # Load the request in json file\n",
    "    data = json.loads(response.text)\n",
    "               \n",
    "    # we will need 'text' from the list, so \n",
    "    # pass 'text' in the list\n",
    "    useless_fact = data['text']\n",
    "               \n",
    "    # Put the facts in the blue colour\n",
    "    # Put the click me button\n",
    "    style(put_text(useless_fact), 'color:blue; font-size: 30px')\n",
    "    put_buttons(\n",
    "        [dict(label='Click me', value='outline-success', \n",
    "              color='outline-success')], onclick=get_fun_fact)  \n",
    "  \n",
    "  \n",
    "# Driver Function\n",
    "if __name__ == '__main__':\n",
    "      \n",
    "    # Put a heading \"Fun Fact Generator\"\n",
    "    put_html(\"<p align=\"\"left\"\"><h2><img src=\"\"https://scontent-itm1-1.xx.fbcdn.net/v/t39.30808-6/334255931_749250660200137_200072302997480847_n.jpg?_nc_cat=110&ccb=1-7&_nc_sid=a2f6c7&_nc_ohc=kgGu1u9nQTgAX-kwA5W&_nc_oc=AQlYpSvzIziLbXr-4LWgObBwAxJCKUo3PJEl0eWitCvWUHxy9DtqlR4IhsqV0vVP7p4&_nc_ht=scontent-itm1-1.xx&oh=00_AfDmy-fyDhZmQmH3V5RpzufxOI9mCkYz5vnyX4p_3P8E3g&oe=6511FE74\"\" width=\"\"7%\"\"> Fun Fact Generator</h2></p>\")\n",
    "      \n",
    "    # hold the session for long time\n",
    "    # Put a Click me button\n",
    "    put_buttons(\n",
    "        [dict(label='Click me', value='outline-success', \n",
    "              color='outline-success')], onclick=get_fun_fact)  \n",
    "hold()  "
   ]
  }
 ],
 "metadata": {
  "kernelspec": {
   "display_name": "Python 3",
   "language": "python",
   "name": "python3"
  },
  "language_info": {
   "codemirror_mode": {
    "name": "ipython",
    "version": 3
   },
   "file_extension": ".py",
   "mimetype": "text/x-python",
   "name": "python",
   "nbconvert_exporter": "python",
   "pygments_lexer": "ipython3",
   "version": "3.11.4"
  },
  "orig_nbformat": 4
 },
 "nbformat": 4,
 "nbformat_minor": 2
}
