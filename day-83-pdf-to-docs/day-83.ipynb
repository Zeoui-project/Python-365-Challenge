{
 "cells": [
  {
   "attachments": {},
   "cell_type": "markdown",
   "metadata": {},
   "source": [
    "# PDF to DOCS using Python"
   ]
  },
  {
   "cell_type": "code",
   "execution_count": 1,
   "metadata": {},
   "outputs": [
    {
     "name": "stdout",
     "output_type": "stream",
     "text": [
      "Collecting pdf2docx\n",
      "  Downloading pdf2docx-0.5.6-py3-none-any.whl (148 kB)\n",
      "     -------------------------------------- 148.4/148.4 kB 8.6 MB/s eta 0:00:00\n",
      "Collecting PyMuPDF>=1.19.0\n",
      "  Downloading PyMuPDF-1.22.2-cp310-cp310-win_amd64.whl (11.7 MB)\n",
      "     --------------------------------------- 11.7/11.7 MB 27.3 MB/s eta 0:00:00\n",
      "Requirement already satisfied: fonttools>=4.24.0 in f:\\file penting\\semester 5 binus aso\\data science and application (pak zacky)\\praktikum\\praktikum\\.venv\\lib\\site-packages (from pdf2docx) (4.38.0)\n",
      "Collecting python-docx>=0.8.10\n",
      "  Downloading python-docx-0.8.11.tar.gz (5.6 MB)\n",
      "     ---------------------------------------- 5.6/5.6 MB 44.4 MB/s eta 0:00:00\n",
      "  Preparing metadata (setup.py): started\n",
      "  Preparing metadata (setup.py): finished with status 'done'\n",
      "Collecting fire>=0.3.0\n",
      "  Downloading fire-0.5.0.tar.gz (88 kB)\n",
      "     ---------------------------------------- 88.3/88.3 kB ? eta 0:00:00\n",
      "  Preparing metadata (setup.py): started\n",
      "  Preparing metadata (setup.py): finished with status 'done'\n",
      "Requirement already satisfied: numpy>=1.17.2 in f:\\file penting\\semester 5 binus aso\\data science and application (pak zacky)\\praktikum\\praktikum\\.venv\\lib\\site-packages (from pdf2docx) (1.24.2)\n",
      "Requirement already satisfied: opencv-python>=4.5 in f:\\file penting\\semester 5 binus aso\\data science and application (pak zacky)\\praktikum\\praktikum\\.venv\\lib\\site-packages (from pdf2docx) (4.7.0.68)\n",
      "Requirement already satisfied: six in f:\\file penting\\semester 5 binus aso\\data science and application (pak zacky)\\praktikum\\praktikum\\.venv\\lib\\site-packages (from fire>=0.3.0->pdf2docx) (1.16.0)\n",
      "Collecting termcolor\n",
      "  Downloading termcolor-2.3.0-py3-none-any.whl (6.9 kB)\n",
      "Requirement already satisfied: lxml>=2.3.2 in f:\\file penting\\semester 5 binus aso\\data science and application (pak zacky)\\praktikum\\praktikum\\.venv\\lib\\site-packages (from python-docx>=0.8.10->pdf2docx) (4.9.2)\n",
      "Installing collected packages: termcolor, python-docx, PyMuPDF, fire, pdf2docx\n",
      "  Running setup.py install for python-docx: started\n",
      "  Running setup.py install for python-docx: finished with status 'done'\n",
      "  Running setup.py install for fire: started\n",
      "  Running setup.py install for fire: finished with status 'done'\n",
      "Successfully installed PyMuPDF-1.22.2 fire-0.5.0 pdf2docx-0.5.6 python-docx-0.8.11 termcolor-2.3.0\n",
      "Note: you may need to restart the kernel to use updated packages.\n"
     ]
    },
    {
     "name": "stderr",
     "output_type": "stream",
     "text": [
      "  DEPRECATION: python-docx is being installed using the legacy 'setup.py install' method, because it does not have a 'pyproject.toml' and the 'wheel' package is not installed. pip 23.1 will enforce this behaviour change. A possible replacement is to enable the '--use-pep517' option. Discussion can be found at https://github.com/pypa/pip/issues/8559\n",
      "  DEPRECATION: fire is being installed using the legacy 'setup.py install' method, because it does not have a 'pyproject.toml' and the 'wheel' package is not installed. pip 23.1 will enforce this behaviour change. A possible replacement is to enable the '--use-pep517' option. Discussion can be found at https://github.com/pypa/pip/issues/8559\n",
      "\n",
      "[notice] A new release of pip available: 22.3.1 -> 23.1.2\n",
      "[notice] To update, run: python.exe -m pip install --upgrade pip\n"
     ]
    }
   ],
   "source": [
    "%pip install pdf2docx"
   ]
  },
  {
   "cell_type": "code",
   "execution_count": 1,
   "metadata": {},
   "outputs": [
    {
     "name": "stderr",
     "output_type": "stream",
     "text": [
      "[INFO] Start to convert test.pdf\n",
      "[INFO] \u001b[1;36m[1/4] Opening document...\u001b[0m\n",
      "[INFO] \u001b[1;36m[2/4] Analyzing document...\u001b[0m\n",
      "[INFO] \u001b[1;36m[3/4] Parsing pages...\u001b[0m\n",
      "[INFO] (1/1) Page 1\n",
      "[INFO] \u001b[1;36m[4/4] Creating pages...\u001b[0m\n",
      "[INFO] (1/1) Page 1\n",
      "[INFO] Terminated in 0.24s.\n"
     ]
    }
   ],
   "source": [
    "from pdf2docx import Converter\n",
    "pdf_file = 'test.pdf'\n",
    "docx_file = 'test.docx'\n",
    "cv = Converter(pdf_file)\n",
    "cv.convert(docx_file)\n",
    "cv.close()"
   ]
  }
 ],
 "metadata": {
  "kernelspec": {
   "display_name": ".venv",
   "language": "python",
   "name": "python3"
  },
  "language_info": {
   "codemirror_mode": {
    "name": "ipython",
    "version": 3
   },
   "file_extension": ".py",
   "mimetype": "text/x-python",
   "name": "python",
   "nbconvert_exporter": "python",
   "pygments_lexer": "ipython3",
   "version": "3.10.3"
  },
  "orig_nbformat": 4
 },
 "nbformat": 4,
 "nbformat_minor": 2
}
