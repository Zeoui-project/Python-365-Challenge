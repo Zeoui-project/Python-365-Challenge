{
 "cells": [
  {
   "cell_type": "markdown",
   "metadata": {},
   "source": [
    "# Create PDF file from blank using Python"
   ]
  },
  {
   "cell_type": "code",
   "execution_count": 1,
   "metadata": {},
   "outputs": [
    {
     "name": "stdout",
     "output_type": "stream",
     "text": [
      "Requirement already satisfied: reportlab in c:\\users\\vel\\appdata\\local\\programs\\python\\python311\\lib\\site-packages (4.0.4)\n",
      "Requirement already satisfied: pillow>=9.0.0 in c:\\users\\vel\\appdata\\local\\programs\\python\\python311\\lib\\site-packages (from reportlab) (9.4.0)\n",
      "Note: you may need to restart the kernel to use updated packages.\n"
     ]
    }
   ],
   "source": [
    "%pip install reportlab"
   ]
  },
  {
   "cell_type": "code",
   "execution_count": 4,
   "metadata": {},
   "outputs": [],
   "source": [
    "from reportlab.pdfgen import canvas\n",
    "\n",
    "pdf_file = canvas.Canvas(\"Test.pdf\")\n",
    "\n",
    "# Add text\n",
    "pdf_file.drawString(72, 720, \"Hello World\")\n",
    "pdf_file.drawString(72, 720, \"PDF Document\")\n",
    "pdf_file.drawString(72, 720, \"Feel free to use!\")\n",
    "pdf_file.drawString(72, 720, \"Tested by Zeoui-project\")\n",
    "\n",
    "# Save\n",
    "pdf_file.save()"
   ]
  }
 ],
 "metadata": {
  "kernelspec": {
   "display_name": "Python 3",
   "language": "python",
   "name": "python3"
  },
  "language_info": {
   "codemirror_mode": {
    "name": "ipython",
    "version": 3
   },
   "file_extension": ".py",
   "mimetype": "text/x-python",
   "name": "python",
   "nbconvert_exporter": "python",
   "pygments_lexer": "ipython3",
   "version": "3.11.4"
  },
  "orig_nbformat": 4
 },
 "nbformat": 4,
 "nbformat_minor": 2
}
