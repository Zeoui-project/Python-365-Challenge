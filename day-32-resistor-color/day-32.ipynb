{
 "cells": [
  {
   "attachments": {},
   "cell_type": "markdown",
   "metadata": {},
   "source": [
    "# Resistor Color using Python"
   ]
  },
  {
   "cell_type": "code",
   "execution_count": 5,
   "metadata": {},
   "outputs": [
    {
     "name": "stdout",
     "output_type": "stream",
     "text": [
      "\n",
      "The Resister Value Is :\n",
      "2200Ω and in kiloOhm : 2.2kΩ\n"
     ]
    }
   ],
   "source": [
    "color = [\"black\", \"brown\", \"red\", \"orange\", \"yellow\",\n",
    "         \"green\", \"blue\", \"purple\", \"grey\", \"white\"]\n",
    "\n",
    "n = color.index((input(\"Enter the 1st color :\").lower()))\n",
    "m = color.index((input(\"Enter the 2nd color :\").lower()))\n",
    "p = color.index((input(\"Enter the 3rd color :\").lower()))\n",
    "\n",
    "q = int(((n*10)+(m))*(10**(p)))\n",
    "z = q/1000\n",
    "print(\"\\nThe Resister Value Is :\")\n",
    "print(f\"{q}Ω and in kiloOhm : {z}kΩ\")"
   ]
  }
 ],
 "metadata": {
  "kernelspec": {
   "display_name": ".venv",
   "language": "python",
   "name": "python3"
  },
  "language_info": {
   "codemirror_mode": {
    "name": "ipython",
    "version": 3
   },
   "file_extension": ".py",
   "mimetype": "text/x-python",
   "name": "python",
   "nbconvert_exporter": "python",
   "pygments_lexer": "ipython3",
   "version": "3.10.3"
  },
  "orig_nbformat": 4
 },
 "nbformat": 4,
 "nbformat_minor": 2
}
