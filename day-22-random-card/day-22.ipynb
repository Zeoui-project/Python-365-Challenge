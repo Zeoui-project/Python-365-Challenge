{
 "cells": [
  {
   "attachments": {},
   "cell_type": "markdown",
   "metadata": {},
   "source": [
    "# Random Card using Python"
   ]
  },
  {
   "cell_type": "code",
   "execution_count": 2,
   "metadata": {},
   "outputs": [
    {
     "name": "stdout",
     "output_type": "stream",
     "text": [
      "The ['Ace'] of ['Diamonds']\n"
     ]
    }
   ],
   "source": [
    "import random\n",
    "\n",
    "cards = [\"Diamonds\", \"Spades\", \"Hearts\", \"Clubs\"]\n",
    "ranks = [2, 3, 4, 5, 6, 7, 8, 9, 10, \"Jack\", \"Queen\", \"King\", \"Ace\"]\n",
    "\n",
    "def pick_a_card():\n",
    "    card = random.choices(cards)\n",
    "    rank = random.choices(ranks)\n",
    "    return(f\"The {rank} of {card}\")\n",
    "\n",
    "print(pick_a_card())"
   ]
  }
 ],
 "metadata": {
  "kernelspec": {
   "display_name": ".venv",
   "language": "python",
   "name": "python3"
  },
  "language_info": {
   "codemirror_mode": {
    "name": "ipython",
    "version": 3
   },
   "file_extension": ".py",
   "mimetype": "text/x-python",
   "name": "python",
   "nbconvert_exporter": "python",
   "pygments_lexer": "ipython3",
   "version": "3.10.3"
  },
  "orig_nbformat": 4,
  "vscode": {
   "interpreter": {
    "hash": "1ecee382ac9679ab1041b53d286f1b1ac05da0f713dd43418d9415034a338dad"
   }
  }
 },
 "nbformat": 4,
 "nbformat_minor": 2
}
