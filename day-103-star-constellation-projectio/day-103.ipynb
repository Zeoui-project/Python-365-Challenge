{
 "cells": [
  {
   "attachments": {},
   "cell_type": "markdown",
   "metadata": {},
   "source": [
    "# "
   ]
  },
  {
   "cell_type": "code",
   "execution_count": 1,
   "metadata": {},
   "outputs": [
    {
     "name": "stdout",
     "output_type": "stream",
     "text": [
      "Requirement already satisfied: skyfield in c:\\users\\vel\\appdata\\local\\programs\\python\\python311\\lib\\site-packages (1.46)\n",
      "Requirement already satisfied: certifi>=2017.4.17 in c:\\users\\vel\\appdata\\local\\programs\\python\\python311\\lib\\site-packages (from skyfield) (2022.12.7)\n",
      "Requirement already satisfied: jplephem>=2.13 in c:\\users\\vel\\appdata\\local\\programs\\python\\python311\\lib\\site-packages (from skyfield) (2.18)\n",
      "Requirement already satisfied: numpy in c:\\users\\vel\\appdata\\local\\programs\\python\\python311\\lib\\site-packages (from skyfield) (1.24.4)\n",
      "Requirement already satisfied: sgp4>=2.2 in c:\\users\\vel\\appdata\\local\\programs\\python\\python311\\lib\\site-packages (from skyfield) (2.22)\n",
      "Note: you may need to restart the kernel to use updated packages.\n"
     ]
    },
    {
     "name": "stderr",
     "output_type": "stream",
     "text": [
      "\n",
      "[notice] A new release of pip is available: 23.1.2 -> 23.2\n",
      "[notice] To update, run: python.exe -m pip install --upgrade pip\n"
     ]
    },
    {
     "name": "stdout",
     "output_type": "stream",
     "text": [
      "Requirement already satisfied: tzwhere in c:\\users\\vel\\appdata\\local\\programs\\python\\python311\\lib\\site-packages (3.0.3)\n",
      "Requirement already satisfied: shapely in c:\\users\\vel\\appdata\\local\\programs\\python\\python311\\lib\\site-packages (from tzwhere) (2.0.1)\n",
      "Requirement already satisfied: numpy>=1.14 in c:\\users\\vel\\appdata\\local\\programs\\python\\python311\\lib\\site-packages (from shapely->tzwhere) (1.24.4)\n",
      "Note: you may need to restart the kernel to use updated packages.\n"
     ]
    },
    {
     "name": "stderr",
     "output_type": "stream",
     "text": [
      "\n",
      "[notice] A new release of pip is available: 23.1.2 -> 23.2\n",
      "[notice] To update, run: python.exe -m pip install --upgrade pip\n"
     ]
    },
    {
     "name": "stdout",
     "output_type": "stream",
     "text": [
      "Requirement already satisfied: geopy in c:\\users\\vel\\appdata\\local\\programs\\python\\python311\\lib\\site-packages (2.3.0)\n",
      "Requirement already satisfied: geographiclib<3,>=1.52 in c:\\users\\vel\\appdata\\local\\programs\\python\\python311\\lib\\site-packages (from geopy) (2.0)\n",
      "Note: you may need to restart the kernel to use updated packages.\n"
     ]
    },
    {
     "name": "stderr",
     "output_type": "stream",
     "text": [
      "\n",
      "[notice] A new release of pip is available: 23.1.2 -> 23.2\n",
      "[notice] To update, run: python.exe -m pip install --upgrade pip\n"
     ]
    },
    {
     "name": "stdout",
     "output_type": "stream",
     "text": [
      "Requirement already satisfied: pytz in c:\\users\\vel\\appdata\\local\\programs\\python\\python311\\lib\\site-packages (2023.3)\n",
      "Note: you may need to restart the kernel to use updated packages.\n"
     ]
    },
    {
     "name": "stderr",
     "output_type": "stream",
     "text": [
      "\n",
      "[notice] A new release of pip is available: 23.1.2 -> 23.2\n",
      "[notice] To update, run: python.exe -m pip install --upgrade pip\n"
     ]
    }
   ],
   "source": [
    "%pip install skyfield\n",
    "%pip install tzwhere\n",
    "%pip install geopy\n",
    "%pip install pytz"
   ]
  },
  {
   "cell_type": "code",
   "execution_count": 2,
   "metadata": {},
   "outputs": [
    {
     "name": "stdout",
     "output_type": "stream",
     "text": [
      "Requirement already satisfied: matplotlib in c:\\users\\vel\\appdata\\local\\programs\\python\\python311\\lib\\site-packages (3.7.1)\n",
      "Requirement already satisfied: contourpy>=1.0.1 in c:\\users\\vel\\appdata\\local\\programs\\python\\python311\\lib\\site-packages (from matplotlib) (1.1.0)\n",
      "Requirement already satisfied: cycler>=0.10 in c:\\users\\vel\\appdata\\local\\programs\\python\\python311\\lib\\site-packages (from matplotlib) (0.11.0)\n",
      "Requirement already satisfied: fonttools>=4.22.0 in c:\\users\\vel\\appdata\\local\\programs\\python\\python311\\lib\\site-packages (from matplotlib) (4.40.0)\n",
      "Requirement already satisfied: kiwisolver>=1.0.1 in c:\\users\\vel\\appdata\\local\\programs\\python\\python311\\lib\\site-packages (from matplotlib) (1.4.4)\n",
      "Requirement already satisfied: numpy>=1.20 in c:\\users\\vel\\appdata\\local\\programs\\python\\python311\\lib\\site-packages (from matplotlib) (1.24.4)\n",
      "Requirement already satisfied: packaging>=20.0 in c:\\users\\vel\\appdata\\roaming\\python\\python311\\site-packages (from matplotlib) (23.0)\n",
      "Requirement already satisfied: pillow>=6.2.0 in c:\\users\\vel\\appdata\\local\\programs\\python\\python311\\lib\\site-packages (from matplotlib) (9.4.0)\n",
      "Requirement already satisfied: pyparsing>=2.3.1 in c:\\users\\vel\\appdata\\local\\programs\\python\\python311\\lib\\site-packages (from matplotlib) (3.1.0)\n",
      "Requirement already satisfied: python-dateutil>=2.7 in c:\\users\\vel\\appdata\\roaming\\python\\python311\\site-packages (from matplotlib) (2.8.2)\n",
      "Requirement already satisfied: six>=1.5 in c:\\users\\vel\\appdata\\roaming\\python\\python311\\site-packages (from python-dateutil>=2.7->matplotlib) (1.16.0)\n",
      "Note: you may need to restart the kernel to use updated packages.\n"
     ]
    },
    {
     "name": "stderr",
     "output_type": "stream",
     "text": [
      "\n",
      "[notice] A new release of pip is available: 23.1.2 -> 23.2\n",
      "[notice] To update, run: python.exe -m pip install --upgrade pip\n"
     ]
    },
    {
     "name": "stdout",
     "output_type": "stream",
     "text": [
      "Requirement already satisfied: pandas in c:\\users\\vel\\appdata\\local\\programs\\python\\python311\\lib\\site-packages (2.0.3)\n",
      "Requirement already satisfied: python-dateutil>=2.8.2 in c:\\users\\vel\\appdata\\roaming\\python\\python311\\site-packages (from pandas) (2.8.2)\n",
      "Requirement already satisfied: pytz>=2020.1 in c:\\users\\vel\\appdata\\local\\programs\\python\\python311\\lib\\site-packages (from pandas) (2023.3)\n",
      "Requirement already satisfied: tzdata>=2022.1 in c:\\users\\vel\\appdata\\local\\programs\\python\\python311\\lib\\site-packages (from pandas) (2023.3)\n",
      "Requirement already satisfied: numpy>=1.21.0 in c:\\users\\vel\\appdata\\local\\programs\\python\\python311\\lib\\site-packages (from pandas) (1.24.4)\n",
      "Requirement already satisfied: six>=1.5 in c:\\users\\vel\\appdata\\roaming\\python\\python311\\site-packages (from python-dateutil>=2.8.2->pandas) (1.16.0)\n",
      "Note: you may need to restart the kernel to use updated packages.\n"
     ]
    },
    {
     "name": "stderr",
     "output_type": "stream",
     "text": [
      "\n",
      "[notice] A new release of pip is available: 23.1.2 -> 23.2\n",
      "[notice] To update, run: python.exe -m pip install --upgrade pip\n"
     ]
    }
   ],
   "source": [
    "%pip install matplotlib\n",
    "%pip install pandas"
   ]
  },
  {
   "cell_type": "code",
   "execution_count": 3,
   "metadata": {},
   "outputs": [],
   "source": [
    "#install the required libraries for the first time \n",
    "#!pip install skyfield\n",
    "#!pip install tzwhere\n",
    "#!pip install geopy\n",
    "\n",
    "from datetime import datetime\n",
    "from geopy import Nominatim\n",
    "from tzwhere import tzwhere\n",
    "from pytz import timezone, utc\n",
    "\n",
    "import numpy as np\n",
    "import matplotlib.pyplot as plt\n",
    "from matplotlib.collections import LineCollection\n",
    "from matplotlib.patches import Circle\n",
    "\n",
    "from skyfield.api import Star, load, wgs84\n",
    "from skyfield.data import hipparcos, mpc, stellarium\n",
    "from skyfield.projections import build_stereographic_projection\n",
    "from skyfield.constants import GM_SUN_Pitjeva_2005_km3_s2 as GM_SUN"
   ]
  },
  {
   "cell_type": "code",
   "execution_count": 4,
   "metadata": {},
   "outputs": [],
   "source": [
    "def load_data():\n",
    "    # de421 shows position of earth and sun in space\n",
    "    eph = load('de421.bsp')\n",
    "\n",
    "    # hipparcos dataset\n",
    "    with load.open(hipparcos.URL) as f:\n",
    "        stars = hipparcos.load_dataframe(f)\n",
    "\n",
    "    # constellation dataset\n",
    "    url = ('https://raw.githubusercontent.com/Stellarium/stellarium/master'\n",
    "           '/skycultures/modern_st/constellationship.fab')\n",
    "\n",
    "    with load.open(url) as f:\n",
    "        constellations = stellarium.parse_constellations(f)\n",
    "        \n",
    "    return eph, stars, constellations\n",
    "        \n",
    "# load celestial data\n",
    "eph, stars, constellations = load_data()"
   ]
  },
  {
   "cell_type": "code",
   "execution_count": 12,
   "metadata": {},
   "outputs": [
    {
     "ename": "ValueError",
     "evalue": "setting an array element with a sequence. The requested array has an inhomogeneous shape after 2 dimensions. The detected shape was (1, 2) + inhomogeneous part.",
     "output_type": "error",
     "traceback": [
      "\u001b[1;31m---------------------------------------------------------------------------\u001b[0m",
      "\u001b[1;31mValueError\u001b[0m                                Traceback (most recent call last)",
      "Cell \u001b[1;32mIn[12], line 49\u001b[0m\n\u001b[0;32m     47\u001b[0m location \u001b[39m=\u001b[39m \u001b[39m'\u001b[39m\u001b[39mNew York, NY\u001b[39m\u001b[39m'\u001b[39m\n\u001b[0;32m     48\u001b[0m when \u001b[39m=\u001b[39m \u001b[39m'\u001b[39m\u001b[39m2023-12-01 01:00\u001b[39m\u001b[39m'\u001b[39m\n\u001b[1;32m---> 49\u001b[0m stars, edges_star1, edges_star2 \u001b[39m=\u001b[39m collect_celestial_data(location, when)\n",
      "Cell \u001b[1;32mIn[12], line 11\u001b[0m, in \u001b[0;36mcollect_celestial_data\u001b[1;34m(location, when)\u001b[0m\n\u001b[0;32m      8\u001b[0m dt \u001b[39m=\u001b[39m datetime\u001b[39m.\u001b[39mstrptime(when, \u001b[39m'\u001b[39m\u001b[39m%\u001b[39m\u001b[39mY-\u001b[39m\u001b[39m%\u001b[39m\u001b[39mm-\u001b[39m\u001b[39m%d\u001b[39;00m\u001b[39m \u001b[39m\u001b[39m%\u001b[39m\u001b[39mH:\u001b[39m\u001b[39m%\u001b[39m\u001b[39mM\u001b[39m\u001b[39m'\u001b[39m)\n\u001b[0;32m     10\u001b[0m \u001b[39m# Define datetime and convert to UTC based on location coordinates\u001b[39;00m\n\u001b[1;32m---> 11\u001b[0m timezone_str \u001b[39m=\u001b[39m tzwhere\u001b[39m.\u001b[39;49mtzwhere()\u001b[39m.\u001b[39mtzNameAt(lat, long)\n\u001b[0;32m     12\u001b[0m local \u001b[39m=\u001b[39m timezone(timezone_str)\n\u001b[0;32m     13\u001b[0m utc_dt \u001b[39m=\u001b[39m local\u001b[39m.\u001b[39mlocalize(dt, is_dst\u001b[39m=\u001b[39m\u001b[39mNone\u001b[39;00m)\u001b[39m.\u001b[39mastimezone(utc)\n",
      "File \u001b[1;32mc:\\Users\\Vel\\AppData\\Local\\Programs\\Python\\Python311\\Lib\\site-packages\\tzwhere\\tzwhere.py:62\u001b[0m, in \u001b[0;36mtzwhere.__init__\u001b[1;34m(self, forceTZ)\u001b[0m\n\u001b[0;32m     60\u001b[0m     \u001b[39mself\u001b[39m\u001b[39m.\u001b[39mtimezoneNamesToPolygons[tzname]\u001b[39m.\u001b[39mappend(poly)\n\u001b[0;32m     61\u001b[0m \u001b[39mfor\u001b[39;00m tzname, polys \u001b[39min\u001b[39;00m \u001b[39mself\u001b[39m\u001b[39m.\u001b[39mtimezoneNamesToPolygons\u001b[39m.\u001b[39mitems():\n\u001b[1;32m---> 62\u001b[0m     \u001b[39mself\u001b[39m\u001b[39m.\u001b[39mtimezoneNamesToPolygons[tzname] \u001b[39m=\u001b[39m WRAP(polys)\n\u001b[0;32m     64\u001b[0m     \u001b[39mif\u001b[39;00m forceTZ:\n\u001b[0;32m     65\u001b[0m         \u001b[39mself\u001b[39m\u001b[39m.\u001b[39munprepTimezoneNamesToPolygons[tzname] \u001b[39m=\u001b[39m WRAP(polys)\n",
      "\u001b[1;31mValueError\u001b[0m: setting an array element with a sequence. The requested array has an inhomogeneous shape after 2 dimensions. The detected shape was (1, 2) + inhomogeneous part."
     ]
    }
   ],
   "source": [
    "def collect_celestial_data(location, when):\n",
    "    # Get latitude coordinates\n",
    "    locator = Nominatim(user_agent='myGeocoder', timeout = 10)\n",
    "    location = locator.geocode(location)\n",
    "    lat, long = location.latitude, location.longitude\n",
    "    \n",
    "    # Convert date string into datetime object\n",
    "    dt = datetime.strptime(when, '%Y-%m-%d %H:%M')\n",
    "\n",
    "    # Define datetime and convert to UTC based on location coordinates\n",
    "    timezone_str = tzwhere.tzwhere().tzNameAt(lat, long)\n",
    "    local = timezone(timezone_str)\n",
    "    utc_dt = local.localize(dt, is_dst=None).astimezone(utc)\n",
    "\n",
    "    # Define observer using location coordinates and current UTC time\n",
    "    t = load.timescale().from_datetime(utc_dt)\n",
    "    observer = wgs84.latlon(latitude_degrees=lat, longitude_degrees=long).at(t)\n",
    "\n",
    "    # An ephemeris on Sun and Earth positions.\n",
    "    sun = eph['sun']\n",
    "    earth = eph['earth']\n",
    "    \n",
    "    # And the constellation outlines list.\n",
    "    edges = [edge for name, edges in constellations for edge in edges]\n",
    "    edges_star1 = [star1 for star1, star2 in edges]\n",
    "    edges_star2 = [star2 for star1, star2 in edges]\n",
    "\n",
    "    \n",
    "    # Define the angle and center the observation location by the angle\n",
    "    position = observer.from_altaz(alt_degrees=90, az_degrees=0)\n",
    "    ra, dec, distance = observer.radec()\n",
    "    center_object = Star(ra=ra, dec=dec)\n",
    "\n",
    "    # Build the stereographic projection\n",
    "    center = earth.at(t).observe(center_object)\n",
    "    projection = build_stereographic_projection(center)\n",
    "    field_of_view_degrees = 180.0\n",
    "\n",
    "    # Compute the x and y coordinates based on the projection\n",
    "    star_positions = earth.at(t).observe(Star.from_dataframe(stars))\n",
    "    stars['x'], stars['y'] = projection(star_positions)\n",
    "    \n",
    "    return stars, edges_star1, edges_star2\n",
    "\n",
    "    \n",
    "# call the above function with a given location and timestamp\n",
    "location = 'New York, NY'\n",
    "when = '2023-12-01 01:00'\n",
    "stars, edges_star1, edges_star2 = collect_celestial_data(location, when)"
   ]
  },
  {
   "cell_type": "code",
   "execution_count": null,
   "metadata": {},
   "outputs": [
    {
     "ename": "ValueError",
     "evalue": "setting an array element with a sequence. The requested array has an inhomogeneous shape after 2 dimensions. The detected shape was (1, 2) + inhomogeneous part.",
     "output_type": "error",
     "traceback": [
      "\u001b[1;31m---------------------------------------------------------------------------\u001b[0m",
      "\u001b[1;31mValueError\u001b[0m                                Traceback (most recent call last)",
      "Cell \u001b[1;32mIn[5], line 50\u001b[0m\n\u001b[0;32m     48\u001b[0m chart_size\u001b[39m=\u001b[39m\u001b[39m12\u001b[39m\n\u001b[0;32m     49\u001b[0m max_star_size\u001b[39m=\u001b[39m\u001b[39m200\u001b[39m\n\u001b[1;32m---> 50\u001b[0m create_star_chart(location, when, chart_size, max_star_size)\n",
      "Cell \u001b[1;32mIn[5], line 8\u001b[0m, in \u001b[0;36mcreate_star_chart\u001b[1;34m(location, when, chart_size, max_star_size)\u001b[0m\n\u001b[0;32m      7\u001b[0m \u001b[39mdef\u001b[39;00m \u001b[39mcreate_star_chart\u001b[39m(location, when, chart_size, max_star_size):\n\u001b[1;32m----> 8\u001b[0m     stars, edges_star1, edges_star2 \u001b[39m=\u001b[39m collect_celestial_data(location, when)\n\u001b[0;32m      9\u001b[0m     \u001b[39m# Define the number of stars and brightness of stars to include\u001b[39;00m\n\u001b[0;32m     10\u001b[0m     limiting_magnitude \u001b[39m=\u001b[39m \u001b[39m10\u001b[39m\n",
      "Cell \u001b[1;32mIn[4], line 11\u001b[0m, in \u001b[0;36mcollect_celestial_data\u001b[1;34m(location, when)\u001b[0m\n\u001b[0;32m      8\u001b[0m dt \u001b[39m=\u001b[39m datetime\u001b[39m.\u001b[39mstrptime(when, \u001b[39m'\u001b[39m\u001b[39m%\u001b[39m\u001b[39mY-\u001b[39m\u001b[39m%\u001b[39m\u001b[39mm-\u001b[39m\u001b[39m%d\u001b[39;00m\u001b[39m \u001b[39m\u001b[39m%\u001b[39m\u001b[39mH:\u001b[39m\u001b[39m%\u001b[39m\u001b[39mM\u001b[39m\u001b[39m'\u001b[39m)\n\u001b[0;32m     10\u001b[0m \u001b[39m# Define datetime and convert to UTC based on location coordinates\u001b[39;00m\n\u001b[1;32m---> 11\u001b[0m timezone_str \u001b[39m=\u001b[39m tzwhere\u001b[39m.\u001b[39;49mtzwhere()\u001b[39m.\u001b[39mtzNameAt(lat, long)\n\u001b[0;32m     12\u001b[0m local \u001b[39m=\u001b[39m timezone(timezone_str)\n\u001b[0;32m     13\u001b[0m utc_dt \u001b[39m=\u001b[39m local\u001b[39m.\u001b[39mlocalize(dt, is_dst\u001b[39m=\u001b[39m\u001b[39mNone\u001b[39;00m)\u001b[39m.\u001b[39mastimezone(utc)\n",
      "File \u001b[1;32mc:\\Users\\Vel\\AppData\\Local\\Programs\\Python\\Python311\\Lib\\site-packages\\tzwhere\\tzwhere.py:62\u001b[0m, in \u001b[0;36mtzwhere.__init__\u001b[1;34m(self, forceTZ)\u001b[0m\n\u001b[0;32m     60\u001b[0m     \u001b[39mself\u001b[39m\u001b[39m.\u001b[39mtimezoneNamesToPolygons[tzname]\u001b[39m.\u001b[39mappend(poly)\n\u001b[0;32m     61\u001b[0m \u001b[39mfor\u001b[39;00m tzname, polys \u001b[39min\u001b[39;00m \u001b[39mself\u001b[39m\u001b[39m.\u001b[39mtimezoneNamesToPolygons\u001b[39m.\u001b[39mitems():\n\u001b[1;32m---> 62\u001b[0m     \u001b[39mself\u001b[39m\u001b[39m.\u001b[39mtimezoneNamesToPolygons[tzname] \u001b[39m=\u001b[39m WRAP(polys)\n\u001b[0;32m     64\u001b[0m     \u001b[39mif\u001b[39;00m forceTZ:\n\u001b[0;32m     65\u001b[0m         \u001b[39mself\u001b[39m\u001b[39m.\u001b[39munprepTimezoneNamesToPolygons[tzname] \u001b[39m=\u001b[39m WRAP(polys)\n",
      "\u001b[1;31mValueError\u001b[0m: setting an array element with a sequence. The requested array has an inhomogeneous shape after 2 dimensions. The detected shape was (1, 2) + inhomogeneous part."
     ]
    }
   ],
   "source": [
    "import matplotlib.pyplot as plt\n",
    "from matplotlib.patches import Circle\n",
    "from matplotlib.collections import LineCollection\n",
    "from datetime import datetime\n",
    "import numpy as np\n",
    "\n",
    "def create_star_chart(location, when, chart_size, max_star_size):\n",
    "    stars, edges_star1, edges_star2 = collect_celestial_data(location, when)\n",
    "    # Define the number of stars and brightness of stars to include\n",
    "    limiting_magnitude = 10\n",
    "    bright_stars = (stars.magnitude <= limiting_magnitude)\n",
    "    magnitude = stars['magnitude'][bright_stars]\n",
    "    marker_size = max_star_size * 10 ** (magnitude / -2.5)\n",
    "    \n",
    "    # Calculate the constellation lines\n",
    "    xy1 = stars[['x', 'y']].loc[edges_star1].values\n",
    "    xy2 = stars[['x', 'y']].loc[edges_star2].values\n",
    "    lines_xy = np.rollaxis(np.array([xy1, xy2]), 1)\n",
    "    \n",
    "    # Time to build the figure!\n",
    "    fig, ax = plt.subplots(figsize=(chart_size, chart_size),facecolor='#041A40')\n",
    "    \n",
    "    # Draw the constellation lines.\n",
    "    ax.add_collection(LineCollection(lines_xy, colors='#ffff', linewidths=0.15))\n",
    "    \n",
    "    # Draw the stars.\n",
    "    ax.scatter(stars['x'][bright_stars], stars['y'][bright_stars],\n",
    "               s=marker_size, color='white', marker='.', linewidths=0,\n",
    "               zorder=2)\n",
    "\n",
    "    # Finally, add other settings\n",
    "    ax.set_aspect('equal')\n",
    "    ax.set_xlim(-1, 1)\n",
    "    ax.set_ylim(-1, 1)\n",
    "    plt.axis('off')\n",
    "    when_datetime = datetime.strptime(when, '%Y-%m-%d %H:%M')\n",
    "    plt.title(f\"Observation Location: {location}, Time: {when_datetime.strftime('%Y-%m-%d %H:%M')}\", loc='right',color = 'white', fontsize=10)\n",
    "    filename = f\"{location}_{when_datetime.strftime('%Y%m%d_%H%M')}.png\"\n",
    "    #plt.savefig(filename, format='png', dpi=1200)\n",
    "    \n",
    "    plt.show()\n",
    "    plt.close()\n",
    "    \n",
    "    \n",
    "# call the function above\n",
    "location = 'Seattle'\n",
    "when = '2023-06-20 00:00'\n",
    "chart_size=12\n",
    "max_star_size=200\n",
    "create_star_chart(location, when, chart_size, max_star_size)"
   ]
  },
  {
   "cell_type": "code",
   "execution_count": null,
   "metadata": {},
   "outputs": [
    {
     "ename": "ValueError",
     "evalue": "setting an array element with a sequence. The requested array has an inhomogeneous shape after 2 dimensions. The detected shape was (1, 2) + inhomogeneous part.",
     "output_type": "error",
     "traceback": [
      "\u001b[1;31m---------------------------------------------------------------------------\u001b[0m",
      "\u001b[1;31mValueError\u001b[0m                                Traceback (most recent call last)",
      "Cell \u001b[1;32mIn[7], line 23\u001b[0m\n\u001b[0;32m     21\u001b[0m locations \u001b[39m=\u001b[39m [\u001b[39m'\u001b[39m\u001b[39mSeattle\u001b[39m\u001b[39m'\u001b[39m, \u001b[39m'\u001b[39m\u001b[39mWellington\u001b[39m\u001b[39m'\u001b[39m, \u001b[39m'\u001b[39m\u001b[39mTokyo\u001b[39m\u001b[39m'\u001b[39m, \u001b[39m'\u001b[39m\u001b[39mParis\u001b[39m\u001b[39m'\u001b[39m]\n\u001b[0;32m     22\u001b[0m whens \u001b[39m=\u001b[39m [\u001b[39m'\u001b[39m\u001b[39m2023-06-21 00:00\u001b[39m\u001b[39m'\u001b[39m, \u001b[39m'\u001b[39m\u001b[39m2023-09-23 00:00\u001b[39m\u001b[39m'\u001b[39m,\u001b[39m'\u001b[39m\u001b[39m2023-12-22 00:00\u001b[39m\u001b[39m'\u001b[39m]\n\u001b[1;32m---> 23\u001b[0m generate_star_chart(locations, whens)\n",
      "Cell \u001b[1;32mIn[7], line 8\u001b[0m, in \u001b[0;36mgenerate_star_chart\u001b[1;34m(locations, whens)\u001b[0m\n\u001b[0;32m      5\u001b[0m max_star_size \u001b[39m=\u001b[39m \u001b[39m100\u001b[39m\n\u001b[0;32m      7\u001b[0m \u001b[39m# generate the plot\u001b[39;00m\n\u001b[1;32m----> 8\u001b[0m create_star_chart(location, when, chart_size, max_star_size)\n\u001b[0;32m     10\u001b[0m \u001b[39m# save the plot\u001b[39;00m\n\u001b[0;32m     11\u001b[0m when_datetime \u001b[39m=\u001b[39m datetime\u001b[39m.\u001b[39mstrptime(when, \u001b[39m'\u001b[39m\u001b[39m%\u001b[39m\u001b[39mY-\u001b[39m\u001b[39m%\u001b[39m\u001b[39mm-\u001b[39m\u001b[39m%d\u001b[39;00m\u001b[39m \u001b[39m\u001b[39m%\u001b[39m\u001b[39mH:\u001b[39m\u001b[39m%\u001b[39m\u001b[39mM\u001b[39m\u001b[39m'\u001b[39m)\n",
      "Cell \u001b[1;32mIn[5], line 8\u001b[0m, in \u001b[0;36mcreate_star_chart\u001b[1;34m(location, when, chart_size, max_star_size)\u001b[0m\n\u001b[0;32m      7\u001b[0m \u001b[39mdef\u001b[39;00m \u001b[39mcreate_star_chart\u001b[39m(location, when, chart_size, max_star_size):\n\u001b[1;32m----> 8\u001b[0m     stars, edges_star1, edges_star2 \u001b[39m=\u001b[39m collect_celestial_data(location, when)\n\u001b[0;32m      9\u001b[0m     \u001b[39m# Define the number of stars and brightness of stars to include\u001b[39;00m\n\u001b[0;32m     10\u001b[0m     limiting_magnitude \u001b[39m=\u001b[39m \u001b[39m10\u001b[39m\n",
      "Cell \u001b[1;32mIn[4], line 11\u001b[0m, in \u001b[0;36mcollect_celestial_data\u001b[1;34m(location, when)\u001b[0m\n\u001b[0;32m      8\u001b[0m dt \u001b[39m=\u001b[39m datetime\u001b[39m.\u001b[39mstrptime(when, \u001b[39m'\u001b[39m\u001b[39m%\u001b[39m\u001b[39mY-\u001b[39m\u001b[39m%\u001b[39m\u001b[39mm-\u001b[39m\u001b[39m%d\u001b[39;00m\u001b[39m \u001b[39m\u001b[39m%\u001b[39m\u001b[39mH:\u001b[39m\u001b[39m%\u001b[39m\u001b[39mM\u001b[39m\u001b[39m'\u001b[39m)\n\u001b[0;32m     10\u001b[0m \u001b[39m# Define datetime and convert to UTC based on location coordinates\u001b[39;00m\n\u001b[1;32m---> 11\u001b[0m timezone_str \u001b[39m=\u001b[39m tzwhere\u001b[39m.\u001b[39;49mtzwhere()\u001b[39m.\u001b[39mtzNameAt(lat, long)\n\u001b[0;32m     12\u001b[0m local \u001b[39m=\u001b[39m timezone(timezone_str)\n\u001b[0;32m     13\u001b[0m utc_dt \u001b[39m=\u001b[39m local\u001b[39m.\u001b[39mlocalize(dt, is_dst\u001b[39m=\u001b[39m\u001b[39mNone\u001b[39;00m)\u001b[39m.\u001b[39mastimezone(utc)\n",
      "File \u001b[1;32mc:\\Users\\Vel\\AppData\\Local\\Programs\\Python\\Python311\\Lib\\site-packages\\tzwhere\\tzwhere.py:62\u001b[0m, in \u001b[0;36mtzwhere.__init__\u001b[1;34m(self, forceTZ)\u001b[0m\n\u001b[0;32m     60\u001b[0m     \u001b[39mself\u001b[39m\u001b[39m.\u001b[39mtimezoneNamesToPolygons[tzname]\u001b[39m.\u001b[39mappend(poly)\n\u001b[0;32m     61\u001b[0m \u001b[39mfor\u001b[39;00m tzname, polys \u001b[39min\u001b[39;00m \u001b[39mself\u001b[39m\u001b[39m.\u001b[39mtimezoneNamesToPolygons\u001b[39m.\u001b[39mitems():\n\u001b[1;32m---> 62\u001b[0m     \u001b[39mself\u001b[39m\u001b[39m.\u001b[39mtimezoneNamesToPolygons[tzname] \u001b[39m=\u001b[39m WRAP(polys)\n\u001b[0;32m     64\u001b[0m     \u001b[39mif\u001b[39;00m forceTZ:\n\u001b[0;32m     65\u001b[0m         \u001b[39mself\u001b[39m\u001b[39m.\u001b[39munprepTimezoneNamesToPolygons[tzname] \u001b[39m=\u001b[39m WRAP(polys)\n",
      "\u001b[1;31mValueError\u001b[0m: setting an array element with a sequence. The requested array has an inhomogeneous shape after 2 dimensions. The detected shape was (1, 2) + inhomogeneous part."
     ]
    }
   ],
   "source": [
    "def generate_star_chart(locations, whens):\n",
    "    for location in locations:\n",
    "        for when in whens:\n",
    "            chart_size = 12\n",
    "            max_star_size = 100\n",
    "\n",
    "            # generate the plot\n",
    "            create_star_chart(location, when, chart_size, max_star_size)\n",
    "\n",
    "            # save the plot\n",
    "            when_datetime = datetime.strptime(when, '%Y-%m-%d %H:%M')\n",
    "            filename = f\"{location}_{when_datetime.strftime('%Y%m%d_%H%M')}.png\"\n",
    "            plt.savefig(filename, dpi=300)\n",
    "            #plt.savefig(filename, format='svg', dpi=1200)\n",
    "            plt.close()\n",
    "\n",
    "            # print confirmation message\n",
    "            print(f\"Plot saved for location {location} and time {when}\")\n",
    "            \n",
    "# Call the above loop function\n",
    "locations = ['Seattle', 'Wellington', 'Tokyo', 'Paris']\n",
    "whens = ['2023-06-21 00:00', '2023-09-23 00:00','2023-12-22 00:00']\n",
    "generate_star_chart(locations, whens)"
   ]
  }
 ],
 "metadata": {
  "kernelspec": {
   "display_name": "Python 3",
   "language": "python",
   "name": "python3"
  },
  "language_info": {
   "codemirror_mode": {
    "name": "ipython",
    "version": 3
   },
   "file_extension": ".py",
   "mimetype": "text/x-python",
   "name": "python",
   "nbconvert_exporter": "python",
   "pygments_lexer": "ipython3",
   "version": "3.11.4"
  },
  "orig_nbformat": 4
 },
 "nbformat": 4,
 "nbformat_minor": 2
}
