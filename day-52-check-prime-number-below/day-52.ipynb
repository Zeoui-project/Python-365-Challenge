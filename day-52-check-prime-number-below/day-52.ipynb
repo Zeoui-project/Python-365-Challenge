{
 "cells": [
  {
   "attachments": {},
   "cell_type": "markdown",
   "metadata": {},
   "source": [
    "# Primes smaller than or equal to the Number"
   ]
  },
  {
   "cell_type": "code",
   "execution_count": 3,
   "metadata": {},
   "outputs": [
    {
     "name": "stdout",
     "output_type": "stream",
     "text": [
      "2\n",
      "3\n",
      "5\n",
      "7\n",
      "11\n"
     ]
    }
   ],
   "source": [
    "def SieveOfEratosthenes(n):\n",
    "    primes = [True] * (n + 1)\n",
    "    p = 2\n",
    "    while(p * p <= n):\n",
    "        # if p is not marked as False, this it is a prime\n",
    "        if(primes[p]) == True:\n",
    "            # mark all multiples of number as False\n",
    "            for i in range(p * 2, n + 1, p):\n",
    "                primes[i] = False\n",
    "        p += 1\n",
    "    # Printing all primes\n",
    "    for i in range(2, n):\n",
    "        if primes[i]:\n",
    "            print(i)\n",
    "\n",
    "if __name__ == '__main__':\n",
    "    n = int(input(\"Enter a number to check all smaller prime numbers\"))\n",
    "    SieveOfEratosthenes(n)"
   ]
  }
 ],
 "metadata": {
  "kernelspec": {
   "display_name": ".venv",
   "language": "python",
   "name": "python3"
  },
  "language_info": {
   "codemirror_mode": {
    "name": "ipython",
    "version": 3
   },
   "file_extension": ".py",
   "mimetype": "text/x-python",
   "name": "python",
   "nbconvert_exporter": "python",
   "pygments_lexer": "ipython3",
   "version": "3.10.3"
  },
  "orig_nbformat": 4
 },
 "nbformat": 4,
 "nbformat_minor": 2
}
