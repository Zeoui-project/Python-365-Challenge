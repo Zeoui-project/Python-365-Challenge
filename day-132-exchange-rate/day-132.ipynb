{
 "cells": [
  {
   "attachments": {},
   "cell_type": "markdown",
   "metadata": {},
   "source": [
    "# Live Exchange Rates using Python"
   ]
  },
  {
   "cell_type": "code",
   "execution_count": 1,
   "metadata": {},
   "outputs": [
    {
     "name": "stdout",
     "output_type": "stream",
     "text": [
      "Requirement already satisfied: urllib3 in e:\\python\\project-365-challenge\\.venv\\lib\\site-packages (1.26.14)Note: you may need to restart the kernel to use updated packages.\n",
      "\n"
     ]
    },
    {
     "name": "stderr",
     "output_type": "stream",
     "text": [
      "\n",
      "[notice] A new release of pip is available: 23.0.1 -> 23.1.2\n",
      "[notice] To update, run: python.exe -m pip install --upgrade pip\n"
     ]
    }
   ],
   "source": [
    "%pip install urllib3"
   ]
  },
  {
   "cell_type": "code",
   "execution_count": 8,
   "metadata": {},
   "outputs": [
    {
     "name": "stdout",
     "output_type": "stream",
     "text": [
      "Current Value =  155.793169\n"
     ]
    }
   ],
   "source": [
    "import urllib3\n",
    "import json\n",
    "url = \"https://api.exchangerate.host/latest/\"\n",
    "http = urllib3.PoolManager()\n",
    "response = http.request('GET', url)\n",
    "data = response.data\n",
    "currency = json.loads(data)\n",
    "currency_data = currency['rates']\n",
    "user = input('Enter a currency : ').upper()\n",
    "# user = user.upper()\n",
    "for i, j in currency_data.items():\n",
    "    if i == user:\n",
    "        print('Current Value = ', j)"
   ]
  }
 ],
 "metadata": {
  "kernelspec": {
   "display_name": ".venv",
   "language": "python",
   "name": "python3"
  },
  "language_info": {
   "codemirror_mode": {
    "name": "ipython",
    "version": 3
   },
   "file_extension": ".py",
   "mimetype": "text/x-python",
   "name": "python",
   "nbconvert_exporter": "python",
   "pygments_lexer": "ipython3",
   "version": "3.11.2"
  },
  "orig_nbformat": 4
 },
 "nbformat": 4,
 "nbformat_minor": 2
}
