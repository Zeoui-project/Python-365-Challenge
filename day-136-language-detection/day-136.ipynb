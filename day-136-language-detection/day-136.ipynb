{
 "cells": [
  {
   "attachments": {},
   "cell_type": "markdown",
   "metadata": {},
   "source": [
    "# Language Detection using Python"
   ]
  },
  {
   "cell_type": "code",
   "execution_count": 1,
   "metadata": {},
   "outputs": [
    {
     "name": "stdout",
     "output_type": "stream",
     "text": [
      "Collecting langid\n",
      "  Downloading langid-1.1.6.tar.gz (1.9 MB)\n",
      "                                              0.0/1.9 MB ? eta -:--:--\n",
      "     ----------                               0.5/1.9 MB 16.5 MB/s eta 0:00:01\n",
      "     -----------------------------------      1.7/1.9 MB 17.9 MB/s eta 0:00:01\n",
      "     ---------------------------------------- 1.9/1.9 MB 17.6 MB/s eta 0:00:00\n",
      "  Installing build dependencies: started\n",
      "  Installing build dependencies: finished with status 'done'\n",
      "  Getting requirements to build wheel: started\n",
      "  Getting requirements to build wheel: finished with status 'done'\n",
      "  Preparing metadata (pyproject.toml): started\n",
      "  Preparing metadata (pyproject.toml): finished with status 'done'\n",
      "Collecting numpy (from langid)\n",
      "  Downloading numpy-1.25.0-cp311-cp311-win_amd64.whl (15.0 MB)\n",
      "                                              0.0/15.0 MB ? eta -:--:--\n",
      "     -----                                    2.2/15.0 MB 46.4 MB/s eta 0:00:01\n",
      "     ----------                               3.9/15.0 MB 41.2 MB/s eta 0:00:01\n",
      "     ---------------                          5.9/15.0 MB 41.6 MB/s eta 0:00:01\n",
      "     --------------------                     7.8/15.0 MB 45.1 MB/s eta 0:00:01\n",
      "     --------------------------              10.0/15.0 MB 42.9 MB/s eta 0:00:01\n",
      "     -------------------------------         12.1/15.0 MB 40.9 MB/s eta 0:00:01\n",
      "     ------------------------------------    14.2/15.0 MB 46.7 MB/s eta 0:00:01\n",
      "     --------------------------------------  15.0/15.0 MB 43.5 MB/s eta 0:00:01\n",
      "     --------------------------------------  15.0/15.0 MB 43.5 MB/s eta 0:00:01\n",
      "     --------------------------------------- 15.0/15.0 MB 31.1 MB/s eta 0:00:00\n",
      "Building wheels for collected packages: langid\n",
      "  Building wheel for langid (pyproject.toml): started\n",
      "  Building wheel for langid (pyproject.toml): finished with status 'done'\n",
      "  Created wheel for langid: filename=langid-1.1.6-py3-none-any.whl size=1941179 sha256=af2980a485db31e856bbe5f8292bedce3e63077d5b485c2aaef0a4cf2bf4846e\n",
      "  Stored in directory: c:\\users\\vel\\appdata\\local\\pip\\cache\\wheels\\32\\6a\\b6\\b7eb43a6ad55b139c15c5daa29f3707659cfa6944d3c696f5b\n",
      "Successfully built langid\n",
      "Installing collected packages: numpy, langid\n",
      "Successfully installed langid-1.1.6 numpy-1.25.0\n",
      "Note: you may need to restart the kernel to use updated packages.\n"
     ]
    }
   ],
   "source": [
    "%pip install langid"
   ]
  },
  {
   "cell_type": "code",
   "execution_count": 2,
   "metadata": {},
   "outputs": [
    {
     "name": "stdout",
     "output_type": "stream",
     "text": [
      "ja\n"
     ]
    }
   ],
   "source": [
    "import langid\n",
    "def detect_language(text):\n",
    "    return langid.classify(text)[0]\n",
    "text = input(\"Enter in any Language : \")\n",
    "print(detect_language(text))"
   ]
  }
 ],
 "metadata": {
  "kernelspec": {
   "display_name": "Python 3",
   "language": "python",
   "name": "python3"
  },
  "language_info": {
   "codemirror_mode": {
    "name": "ipython",
    "version": 3
   },
   "file_extension": ".py",
   "mimetype": "text/x-python",
   "name": "python",
   "nbconvert_exporter": "python",
   "pygments_lexer": "ipython3",
   "version": "3.11.4"
  },
  "orig_nbformat": 4
 },
 "nbformat": 4,
 "nbformat_minor": 2
}
