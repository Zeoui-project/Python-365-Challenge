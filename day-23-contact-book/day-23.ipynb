{
 "cells": [
  {
   "attachments": {},
   "cell_type": "markdown",
   "metadata": {},
   "source": [
    "# Contact Book using Python"
   ]
  },
  {
   "cell_type": "code",
   "execution_count": 1,
   "metadata": {},
   "outputs": [
    {
     "name": "stdout",
     "output_type": "stream",
     "text": [
      "\n",
      "Name\t\t\tPhone Number\n",
      "\n",
      "m\t\t\t951475\n",
      "a\t\t\t321596\n",
      "Search result: \n",
      "Name: rit, Phone Number: 951475\n"
     ]
    }
   ],
   "source": [
    "names = []\n",
    "phone_numbers = []\n",
    "num = int(input(\"Enter no of contact you want to save : \"))\n",
    "for i in range(num):\n",
    "    name = input(\"Name: \")\n",
    "    phone_number = input(\"Phone Number: \")\n",
    "    names.append(name)\n",
    "    phone_numbers.append(phone_number)\n",
    "print(\"\\nName\\t\\t\\tPhone Number\\n\")\n",
    "for i in range(num):\n",
    "    print(\"{}\\t\\t\\t{}\".format(name[i], phone_numbers[i]))\n",
    "search_term = input(\"\\nEnter search term: \")\n",
    "print(\"Search result: \")\n",
    "if search_term in names:\n",
    "    index = names.index(search_term)\n",
    "    phone_number = phone_numbers[index]\n",
    "    print(\"Name: {}, Phone Number: {}\".format(search_term, phone_number))\n",
    "else:\n",
    "    print(\"Name Not Found\")"
   ]
  }
 ],
 "metadata": {
  "kernelspec": {
   "display_name": ".venv",
   "language": "python",
   "name": "python3"
  },
  "language_info": {
   "codemirror_mode": {
    "name": "ipython",
    "version": 3
   },
   "file_extension": ".py",
   "mimetype": "text/x-python",
   "name": "python",
   "nbconvert_exporter": "python",
   "pygments_lexer": "ipython3",
   "version": "3.10.3"
  },
  "orig_nbformat": 4
 },
 "nbformat": 4,
 "nbformat_minor": 2
}
