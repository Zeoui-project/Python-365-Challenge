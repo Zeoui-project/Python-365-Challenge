{
 "cells": [
  {
   "attachments": {},
   "cell_type": "markdown",
   "metadata": {},
   "source": [
    "# Converting Decimal to other number using Python"
   ]
  },
  {
   "cell_type": "code",
   "execution_count": null,
   "metadata": {},
   "outputs": [],
   "source": [
    "# Python program to convert decimal into other number systems\n",
    "dec = int(input(\"Enter a Decimal Number: \"))\n",
    "\n",
    "# Decimal to binary\n",
    "print(bin(dec), \"in Binary.\")\n",
    "\n",
    "# Decimal to octal\n",
    "print(oct(dec), \"in Octal.\")\n",
    "\n",
    "# Decimal to Hexadecimal\n",
    "print(hex(dec), \"in Hexadecimal.\")"
   ]
  }
 ],
 "metadata": {
  "language_info": {
   "name": "python"
  },
  "orig_nbformat": 4
 },
 "nbformat": 4,
 "nbformat_minor": 2
}
