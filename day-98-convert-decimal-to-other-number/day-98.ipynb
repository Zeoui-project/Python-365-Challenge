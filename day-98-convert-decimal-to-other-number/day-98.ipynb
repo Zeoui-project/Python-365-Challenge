{
 "cells": [
  {
   "attachments": {},
   "cell_type": "markdown",
   "metadata": {},
   "source": [
    "# Converting Decimal to other number using Python"
   ]
  },
  {
   "cell_type": "code",
   "execution_count": 1,
   "metadata": {},
   "outputs": [
    {
     "name": "stdout",
     "output_type": "stream",
     "text": [
      "0b1100100 in Binary.\n",
      "0o144 in Octal.\n",
      "0x64 in Hexadecimal.\n"
     ]
    }
   ],
   "source": [
    "# Python program to convert decimal into other number systems\n",
    "dec = int(input(\"Enter a Decimal Number: \"))\n",
    "\n",
    "# Decimal to binary\n",
    "print(bin(dec), \"in Binary.\")\n",
    "\n",
    "# Decimal to octal\n",
    "print(oct(dec), \"in Octal.\")\n",
    "\n",
    "# Decimal to Hexadecimal\n",
    "print(hex(dec), \"in Hexadecimal.\")"
   ]
  }
 ],
 "metadata": {
  "kernelspec": {
   "display_name": ".venv",
   "language": "python",
   "name": "python3"
  },
  "language_info": {
   "codemirror_mode": {
    "name": "ipython",
    "version": 3
   },
   "file_extension": ".py",
   "mimetype": "text/x-python",
   "name": "python",
   "nbconvert_exporter": "python",
   "pygments_lexer": "ipython3",
   "version": "3.10.3"
  },
  "orig_nbformat": 4
 },
 "nbformat": 4,
 "nbformat_minor": 2
}
