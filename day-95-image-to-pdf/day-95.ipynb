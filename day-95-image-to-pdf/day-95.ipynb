{
 "cells": [
  {
   "attachments": {},
   "cell_type": "markdown",
   "metadata": {},
   "source": [
    "# Image to PDF conversion using Python"
   ]
  },
  {
   "cell_type": "code",
   "execution_count": 1,
   "metadata": {},
   "outputs": [],
   "source": [
    "from PIL import Image\n",
    "\n",
    "def Image_Pdf(filename, output):\n",
    "    images = []\n",
    "\n",
    "    for file in filename:\n",
    "        im = Image.open(file)\n",
    "        im = im.convert('RGB')\n",
    "        images.append(im)\n",
    "\n",
    "        images[0].save(output, save_all=True, append_images=images[1:])\n",
    "\n",
    "# Image path, output pdf\n",
    "Image_Pdf([\"mirror.png\",  \"photo.png\"], \"output.pdf\")"
   ]
  }
 ],
 "metadata": {
  "kernelspec": {
   "display_name": "Python 3",
   "language": "python",
   "name": "python3"
  },
  "language_info": {
   "codemirror_mode": {
    "name": "ipython",
    "version": 3
   },
   "file_extension": ".py",
   "mimetype": "text/x-python",
   "name": "python",
   "nbconvert_exporter": "python",
   "pygments_lexer": "ipython3",
   "version": "3.11.2"
  },
  "orig_nbformat": 4
 },
 "nbformat": 4,
 "nbformat_minor": 2
}
