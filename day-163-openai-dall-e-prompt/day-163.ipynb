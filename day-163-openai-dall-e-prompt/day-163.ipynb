{
 "cells": [
  {
   "cell_type": "code",
   "execution_count": 1,
   "metadata": {},
   "outputs": [
    {
     "name": "stdout",
     "output_type": "stream",
     "text": [
      "Note: you may need to restart the kernel to use updated packages.\n"
     ]
    },
    {
     "name": "stderr",
     "output_type": "stream",
     "text": [
      "\n",
      "[notice] A new release of pip is available: 23.1.2 -> 23.2.1\n",
      "[notice] To update, run: python.exe -m pip install --upgrade pip\n"
     ]
    }
   ],
   "source": [
    "%pip install -q openai"
   ]
  },
  {
   "cell_type": "code",
   "execution_count": 3,
   "metadata": {},
   "outputs": [],
   "source": [
    "# importing openai module\n",
    "import openai\n",
    "# assigning API KEY to the variable\n",
    "  \n",
    "openai.api_key = 'Insert your key'"
   ]
  },
  {
   "cell_type": "code",
   "execution_count": 7,
   "metadata": {},
   "outputs": [],
   "source": [
    "# importing other libraries\n",
    "import requests\n",
    "from PIL import Image\n",
    "\n",
    "# function for text-to-image generation\n",
    "# using create endpoint of DALL-E API\n",
    "# function takes in a string argument\n",
    "def generate(text):\n",
    "    res = openai.Image.create(\n",
    "        # text describing the generated image\n",
    "        prompt=text,\n",
    "        # number of images to generate\n",
    "        n=1,\n",
    "        # size of each generated image\n",
    "        size=\"256x256\",\n",
    "    )\n",
    "# returning the URL of one image as\n",
    "# we are generating only one image\n",
    "    return res[\"data\"][0][\"url\"]"
   ]
  },
  {
   "cell_type": "code",
   "execution_count": 8,
   "metadata": {},
   "outputs": [
    {
     "ename": "InvalidRequestError",
     "evalue": "Billing hard limit has been reached",
     "output_type": "error",
     "traceback": [
      "\u001b[1;31m---------------------------------------------------------------------------\u001b[0m",
      "\u001b[1;31mInvalidRequestError\u001b[0m                       Traceback (most recent call last)",
      "Cell \u001b[1;32mIn[8], line 5\u001b[0m\n\u001b[0;32m      2\u001b[0m text \u001b[39m=\u001b[39m \u001b[39m\"\u001b[39m\u001b[39mbatman art in red and blue color\u001b[39m\u001b[39m\"\u001b[39m\n\u001b[0;32m      3\u001b[0m \u001b[39m# calling the custom function \"generate\"\u001b[39;00m\n\u001b[0;32m      4\u001b[0m \u001b[39m# saving the output in \"url1\"\u001b[39;00m\n\u001b[1;32m----> 5\u001b[0m url1 \u001b[39m=\u001b[39m generate(text)\n\u001b[0;32m      6\u001b[0m \u001b[39m# using requests library to get the image in bytes\u001b[39;00m\n\u001b[0;32m      7\u001b[0m response \u001b[39m=\u001b[39m requests\u001b[39m.\u001b[39mget(url1)\n",
      "Cell \u001b[1;32mIn[7], line 9\u001b[0m, in \u001b[0;36mgenerate\u001b[1;34m(text)\u001b[0m\n\u001b[0;32m      8\u001b[0m \u001b[39mdef\u001b[39;00m \u001b[39mgenerate\u001b[39m(text):\n\u001b[1;32m----> 9\u001b[0m     res \u001b[39m=\u001b[39m openai\u001b[39m.\u001b[39;49mImage\u001b[39m.\u001b[39;49mcreate(\n\u001b[0;32m     10\u001b[0m         \u001b[39m# text describing the generated image\u001b[39;49;00m\n\u001b[0;32m     11\u001b[0m         prompt\u001b[39m=\u001b[39;49mtext,\n\u001b[0;32m     12\u001b[0m         \u001b[39m# number of images to generate\u001b[39;49;00m\n\u001b[0;32m     13\u001b[0m         n\u001b[39m=\u001b[39;49m\u001b[39m1\u001b[39;49m,\n\u001b[0;32m     14\u001b[0m         \u001b[39m# size of each generated image\u001b[39;49;00m\n\u001b[0;32m     15\u001b[0m         size\u001b[39m=\u001b[39;49m\u001b[39m\"\u001b[39;49m\u001b[39m256x256\u001b[39;49m\u001b[39m\"\u001b[39;49m,\n\u001b[0;32m     16\u001b[0m     )\n\u001b[0;32m     17\u001b[0m \u001b[39m# returning the URL of one image as\u001b[39;00m\n\u001b[0;32m     18\u001b[0m \u001b[39m# we are generating only one image\u001b[39;00m\n\u001b[0;32m     19\u001b[0m     \u001b[39mreturn\u001b[39;00m res[\u001b[39m\"\u001b[39m\u001b[39mdata\u001b[39m\u001b[39m\"\u001b[39m][\u001b[39m0\u001b[39m][\u001b[39m\"\u001b[39m\u001b[39murl\u001b[39m\u001b[39m\"\u001b[39m]\n",
      "File \u001b[1;32mc:\\Users\\Vel\\AppData\\Local\\Programs\\Python\\Python311\\Lib\\site-packages\\openai\\api_resources\\image.py:39\u001b[0m, in \u001b[0;36mImage.create\u001b[1;34m(cls, api_key, api_base, api_type, api_version, organization, **params)\u001b[0m\n\u001b[0;32m     29\u001b[0m requestor \u001b[39m=\u001b[39m api_requestor\u001b[39m.\u001b[39mAPIRequestor(\n\u001b[0;32m     30\u001b[0m     api_key,\n\u001b[0;32m     31\u001b[0m     api_base\u001b[39m=\u001b[39mapi_base \u001b[39mor\u001b[39;00m openai\u001b[39m.\u001b[39mapi_base,\n\u001b[1;32m   (...)\u001b[0m\n\u001b[0;32m     34\u001b[0m     organization\u001b[39m=\u001b[39morganization,\n\u001b[0;32m     35\u001b[0m )\n\u001b[0;32m     37\u001b[0m api_type, api_version \u001b[39m=\u001b[39m \u001b[39mcls\u001b[39m\u001b[39m.\u001b[39m_get_api_type_and_version(api_type, api_version)\n\u001b[1;32m---> 39\u001b[0m response, _, api_key \u001b[39m=\u001b[39m requestor\u001b[39m.\u001b[39;49mrequest(\n\u001b[0;32m     40\u001b[0m     \u001b[39m\"\u001b[39;49m\u001b[39mpost\u001b[39;49m\u001b[39m\"\u001b[39;49m, \u001b[39mcls\u001b[39;49m\u001b[39m.\u001b[39;49m_get_url(\u001b[39m\"\u001b[39;49m\u001b[39mgenerations\u001b[39;49m\u001b[39m\"\u001b[39;49m, azure_action\u001b[39m=\u001b[39;49m\u001b[39m\"\u001b[39;49m\u001b[39msubmit\u001b[39;49m\u001b[39m\"\u001b[39;49m, api_type\u001b[39m=\u001b[39;49mapi_type, api_version\u001b[39m=\u001b[39;49mapi_version), params\n\u001b[0;32m     41\u001b[0m )\n\u001b[0;32m     43\u001b[0m \u001b[39mif\u001b[39;00m api_type \u001b[39min\u001b[39;00m (util\u001b[39m.\u001b[39mApiType\u001b[39m.\u001b[39mAZURE, util\u001b[39m.\u001b[39mApiType\u001b[39m.\u001b[39mAZURE_AD):\n\u001b[0;32m     44\u001b[0m     requestor\u001b[39m.\u001b[39mapi_base \u001b[39m=\u001b[39m \u001b[39m\"\u001b[39m\u001b[39m\"\u001b[39m \u001b[39m# operation_location is a full url\u001b[39;00m\n",
      "File \u001b[1;32mc:\\Users\\Vel\\AppData\\Local\\Programs\\Python\\Python311\\Lib\\site-packages\\openai\\api_requestor.py:298\u001b[0m, in \u001b[0;36mAPIRequestor.request\u001b[1;34m(self, method, url, params, headers, files, stream, request_id, request_timeout)\u001b[0m\n\u001b[0;32m    277\u001b[0m \u001b[39mdef\u001b[39;00m \u001b[39mrequest\u001b[39m(\n\u001b[0;32m    278\u001b[0m     \u001b[39mself\u001b[39m,\n\u001b[0;32m    279\u001b[0m     method,\n\u001b[1;32m   (...)\u001b[0m\n\u001b[0;32m    286\u001b[0m     request_timeout: Optional[Union[\u001b[39mfloat\u001b[39m, Tuple[\u001b[39mfloat\u001b[39m, \u001b[39mfloat\u001b[39m]]] \u001b[39m=\u001b[39m \u001b[39mNone\u001b[39;00m,\n\u001b[0;32m    287\u001b[0m ) \u001b[39m-\u001b[39m\u001b[39m>\u001b[39m Tuple[Union[OpenAIResponse, Iterator[OpenAIResponse]], \u001b[39mbool\u001b[39m, \u001b[39mstr\u001b[39m]:\n\u001b[0;32m    288\u001b[0m     result \u001b[39m=\u001b[39m \u001b[39mself\u001b[39m\u001b[39m.\u001b[39mrequest_raw(\n\u001b[0;32m    289\u001b[0m         method\u001b[39m.\u001b[39mlower(),\n\u001b[0;32m    290\u001b[0m         url,\n\u001b[1;32m   (...)\u001b[0m\n\u001b[0;32m    296\u001b[0m         request_timeout\u001b[39m=\u001b[39mrequest_timeout,\n\u001b[0;32m    297\u001b[0m     )\n\u001b[1;32m--> 298\u001b[0m     resp, got_stream \u001b[39m=\u001b[39m \u001b[39mself\u001b[39;49m\u001b[39m.\u001b[39;49m_interpret_response(result, stream)\n\u001b[0;32m    299\u001b[0m     \u001b[39mreturn\u001b[39;00m resp, got_stream, \u001b[39mself\u001b[39m\u001b[39m.\u001b[39mapi_key\n",
      "File \u001b[1;32mc:\\Users\\Vel\\AppData\\Local\\Programs\\Python\\Python311\\Lib\\site-packages\\openai\\api_requestor.py:700\u001b[0m, in \u001b[0;36mAPIRequestor._interpret_response\u001b[1;34m(self, result, stream)\u001b[0m\n\u001b[0;32m    692\u001b[0m     \u001b[39mreturn\u001b[39;00m (\n\u001b[0;32m    693\u001b[0m         \u001b[39mself\u001b[39m\u001b[39m.\u001b[39m_interpret_response_line(\n\u001b[0;32m    694\u001b[0m             line, result\u001b[39m.\u001b[39mstatus_code, result\u001b[39m.\u001b[39mheaders, stream\u001b[39m=\u001b[39m\u001b[39mTrue\u001b[39;00m\n\u001b[0;32m    695\u001b[0m         )\n\u001b[0;32m    696\u001b[0m         \u001b[39mfor\u001b[39;00m line \u001b[39min\u001b[39;00m parse_stream(result\u001b[39m.\u001b[39miter_lines())\n\u001b[0;32m    697\u001b[0m     ), \u001b[39mTrue\u001b[39;00m\n\u001b[0;32m    698\u001b[0m \u001b[39melse\u001b[39;00m:\n\u001b[0;32m    699\u001b[0m     \u001b[39mreturn\u001b[39;00m (\n\u001b[1;32m--> 700\u001b[0m         \u001b[39mself\u001b[39;49m\u001b[39m.\u001b[39;49m_interpret_response_line(\n\u001b[0;32m    701\u001b[0m             result\u001b[39m.\u001b[39;49mcontent\u001b[39m.\u001b[39;49mdecode(\u001b[39m\"\u001b[39;49m\u001b[39mutf-8\u001b[39;49m\u001b[39m\"\u001b[39;49m),\n\u001b[0;32m    702\u001b[0m             result\u001b[39m.\u001b[39;49mstatus_code,\n\u001b[0;32m    703\u001b[0m             result\u001b[39m.\u001b[39;49mheaders,\n\u001b[0;32m    704\u001b[0m             stream\u001b[39m=\u001b[39;49m\u001b[39mFalse\u001b[39;49;00m,\n\u001b[0;32m    705\u001b[0m         ),\n\u001b[0;32m    706\u001b[0m         \u001b[39mFalse\u001b[39;00m,\n\u001b[0;32m    707\u001b[0m     )\n",
      "File \u001b[1;32mc:\\Users\\Vel\\AppData\\Local\\Programs\\Python\\Python311\\Lib\\site-packages\\openai\\api_requestor.py:765\u001b[0m, in \u001b[0;36mAPIRequestor._interpret_response_line\u001b[1;34m(self, rbody, rcode, rheaders, stream)\u001b[0m\n\u001b[0;32m    763\u001b[0m stream_error \u001b[39m=\u001b[39m stream \u001b[39mand\u001b[39;00m \u001b[39m\"\u001b[39m\u001b[39merror\u001b[39m\u001b[39m\"\u001b[39m \u001b[39min\u001b[39;00m resp\u001b[39m.\u001b[39mdata\n\u001b[0;32m    764\u001b[0m \u001b[39mif\u001b[39;00m stream_error \u001b[39mor\u001b[39;00m \u001b[39mnot\u001b[39;00m \u001b[39m200\u001b[39m \u001b[39m<\u001b[39m\u001b[39m=\u001b[39m rcode \u001b[39m<\u001b[39m \u001b[39m300\u001b[39m:\n\u001b[1;32m--> 765\u001b[0m     \u001b[39mraise\u001b[39;00m \u001b[39mself\u001b[39m\u001b[39m.\u001b[39mhandle_error_response(\n\u001b[0;32m    766\u001b[0m         rbody, rcode, resp\u001b[39m.\u001b[39mdata, rheaders, stream_error\u001b[39m=\u001b[39mstream_error\n\u001b[0;32m    767\u001b[0m     )\n\u001b[0;32m    768\u001b[0m \u001b[39mreturn\u001b[39;00m resp\n",
      "\u001b[1;31mInvalidRequestError\u001b[0m: Billing hard limit has been reached"
     ]
    }
   ],
   "source": [
    "# prompt describing the desired image\n",
    "text = \"batman art in red and blue color\"\n",
    "# calling the custom function \"generate\"\n",
    "# saving the output in \"url1\"\n",
    "url1 = generate(text)\n",
    "# using requests library to get the image in bytes\n",
    "response = requests.get(url1)\n",
    "# using the Image module from PIL library to view the image\n",
    "Image.open(response.raw)\n"
   ]
  }
 ],
 "metadata": {
  "kernelspec": {
   "display_name": "Python 3",
   "language": "python",
   "name": "python3"
  },
  "language_info": {
   "codemirror_mode": {
    "name": "ipython",
    "version": 3
   },
   "file_extension": ".py",
   "mimetype": "text/x-python",
   "name": "python",
   "nbconvert_exporter": "python",
   "pygments_lexer": "ipython3",
   "version": "3.11.4"
  },
  "orig_nbformat": 4
 },
 "nbformat": 4,
 "nbformat_minor": 2
}
