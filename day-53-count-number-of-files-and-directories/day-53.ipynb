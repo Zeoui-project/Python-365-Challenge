{
 "cells": [
  {
   "attachments": {},
   "cell_type": "markdown",
   "metadata": {},
   "source": [
    "# Count Number of Files and Directories"
   ]
  },
  {
   "cell_type": "code",
   "execution_count": 2,
   "metadata": {},
   "outputs": [
    {
     "name": "stdout",
     "output_type": "stream",
     "text": [
      "Number of Files  42007\n",
      "Number of Directories  4835\n",
      "Total :  46842\n"
     ]
    }
   ],
   "source": [
    "import os\n",
    "\n",
    "# Path IN which we have to count files and directories\n",
    "PATH = 'E:\\Python\\Project-365-Challenge'\n",
    "\n",
    "fileCount = 0\n",
    "dirCount = 0\n",
    "\n",
    "for root, dirs, files in os.walk(PATH):\n",
    "    # print('Looking in: ', root)\n",
    "    for directories in dirs:\n",
    "        dirCount += 1\n",
    "    for Files in files:\n",
    "        fileCount += 1\n",
    "\n",
    "print('Number of Files ', fileCount)\n",
    "print('Number of Directories ', dirCount)\n",
    "print('Total : ', (dirCount + fileCount))\n",
    "\n"
   ]
  }
 ],
 "metadata": {
  "kernelspec": {
   "display_name": ".venv",
   "language": "python",
   "name": "python3"
  },
  "language_info": {
   "codemirror_mode": {
    "name": "ipython",
    "version": 3
   },
   "file_extension": ".py",
   "mimetype": "text/x-python",
   "name": "python",
   "nbconvert_exporter": "python",
   "pygments_lexer": "ipython3",
   "version": "3.10.3"
  },
  "orig_nbformat": 4
 },
 "nbformat": 4,
 "nbformat_minor": 2
}
