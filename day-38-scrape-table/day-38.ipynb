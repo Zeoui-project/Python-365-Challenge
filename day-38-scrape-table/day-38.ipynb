{
 "cells": [
  {
   "attachments": {},
   "cell_type": "markdown",
   "metadata": {},
   "source": [
    "# Scrape Table from Website using Python"
   ]
  },
  {
   "cell_type": "code",
   "execution_count": 3,
   "metadata": {},
   "outputs": [
    {
     "name": "stdout",
     "output_type": "stream",
     "text": [
      "Collecting lxml\n",
      "  Downloading lxml-4.9.2-cp310-cp310-win_amd64.whl (3.8 MB)\n",
      "     ---------------------------------------- 3.8/3.8 MB 572.1 kB/s eta 0:00:00\n",
      "Installing collected packages: lxml\n",
      "Successfully installed lxml-4.9.2\n"
     ]
    },
    {
     "name": "stderr",
     "output_type": "stream",
     "text": [
      "\n",
      "[notice] A new release of pip available: 22.3.1 -> 23.0.1\n",
      "[notice] To update, run: python.exe -m pip install --upgrade pip\n"
     ]
    }
   ],
   "source": [
    "%pip install lxml"
   ]
  },
  {
   "cell_type": "code",
   "execution_count": 2,
   "metadata": {},
   "outputs": [
    {
     "name": "stdout",
     "output_type": "stream",
     "text": [
      "                          Company       Listed  Founded  \\\n",
      "0             3i Infotech Limited  BSE: 532628     1993   \n",
      "1                HCL Technologies  BSE: 532281     1976   \n",
      "2                         Infosys  BSE: 500209     1981   \n",
      "3  Kellton Tech Solutions Limited  BSE: 519602     2009   \n",
      "4               KPIT Technologies  BSE: 532400     1990   \n",
      "\n",
      "                     Revenue                Profit Headcount Reference  \n",
      "0             US$239 million  US$84 million (2014)      9000       [1]  \n",
      "1            US$5.36 billion                   NaN    197777       [2]  \n",
      "2            US$8.24 billion       US$1.75 billion    169638       [3]  \n",
      "3  US$7,862.2 Million (2018)                   NaN     1800+       [4]  \n",
      "4          US$444.32 million                   NaN     10291       [5]  \n"
     ]
    }
   ],
   "source": [
    "import urllib.request\n",
    "import pandas as pd\n",
    "import lxml\n",
    "\n",
    "#List of publicly listed ITES companies of India\n",
    "url = \"https://en.wikipedia.org/wiki/List_of_publicly_listed_ITES_companies_of_India\"\n",
    "\n",
    "with urllib.request.urlopen(url) as i:\n",
    "    html = i.read().decode('utf-8')\n",
    "\n",
    "data = pd.read_html(html)[0]\n",
    "print(data.head())"
   ]
  }
 ],
 "metadata": {
  "kernelspec": {
   "display_name": ".venv",
   "language": "python",
   "name": "python3"
  },
  "language_info": {
   "codemirror_mode": {
    "name": "ipython",
    "version": 3
   },
   "file_extension": ".py",
   "mimetype": "text/x-python",
   "name": "python",
   "nbconvert_exporter": "python",
   "pygments_lexer": "ipython3",
   "version": "3.10.3"
  },
  "orig_nbformat": 4
 },
 "nbformat": 4,
 "nbformat_minor": 2
}
