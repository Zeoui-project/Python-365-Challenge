{
 "cells": [
  {
   "attachments": {},
   "cell_type": "markdown",
   "metadata": {},
   "source": [
    "# Checking Stocks Price using Python"
   ]
  },
  {
   "cell_type": "code",
   "execution_count": 1,
   "metadata": {},
   "outputs": [
    {
     "name": "stdout",
     "output_type": "stream",
     "text": [
      "Collecting yfinance\n",
      "  Downloading yfinance-0.2.21-py2.py3-none-any.whl (63 kB)\n",
      "     ---------------------------------------- 0.0/63.2 kB ? eta -:--:--\n",
      "     ---------------------------------------- 63.2/63.2 kB ? eta 0:00:00\n",
      "Requirement already satisfied: pandas>=1.3.0 in e:\\python\\project-365-challenge\\.venv\\lib\\site-packages (from yfinance) (1.5.3)\n",
      "Requirement already satisfied: numpy>=1.16.5 in e:\\python\\project-365-challenge\\.venv\\lib\\site-packages (from yfinance) (1.24.2)\n",
      "Collecting requests>=2.26\n",
      "  Downloading requests-2.31.0-py3-none-any.whl (62 kB)\n",
      "     ---------------------------------------- 0.0/62.6 kB ? eta -:--:--\n",
      "     ---------------------------------------- 62.6/62.6 kB ? eta 0:00:00\n",
      "Collecting multitasking>=0.0.7\n",
      "  Downloading multitasking-0.0.11-py3-none-any.whl (8.5 kB)\n",
      "Collecting lxml>=4.9.1\n",
      "  Downloading lxml-4.9.2-cp311-cp311-win_amd64.whl (3.8 MB)\n",
      "     ---------------------------------------- 0.0/3.8 MB ? eta -:--:--\n",
      "     ------ --------------------------------- 0.7/3.8 MB 20.8 MB/s eta 0:00:01\n",
      "     ------------------------- -------------- 2.4/3.8 MB 30.3 MB/s eta 0:00:01\n",
      "     ---------------------------------------  3.8/3.8 MB 30.0 MB/s eta 0:00:01\n",
      "     ---------------------------------------- 3.8/3.8 MB 26.6 MB/s eta 0:00:00\n",
      "Collecting appdirs>=1.4.4\n",
      "  Downloading appdirs-1.4.4-py2.py3-none-any.whl (9.6 kB)\n",
      "Requirement already satisfied: pytz>=2022.5 in e:\\python\\project-365-challenge\\.venv\\lib\\site-packages (from yfinance) (2022.7.1)\n",
      "Collecting frozendict>=2.3.4\n",
      "  Downloading frozendict-2.3.8-py311-none-any.whl (14 kB)\n",
      "Requirement already satisfied: beautifulsoup4>=4.11.1 in e:\\python\\project-365-challenge\\.venv\\lib\\site-packages (from yfinance) (4.11.2)\n",
      "Collecting html5lib>=1.1\n",
      "  Downloading html5lib-1.1-py2.py3-none-any.whl (112 kB)\n",
      "     ---------------------------------------- 0.0/112.2 kB ? eta -:--:--\n",
      "     ---------------------------------------- 112.2/112.2 kB ? eta 0:00:00\n",
      "Requirement already satisfied: soupsieve>1.2 in e:\\python\\project-365-challenge\\.venv\\lib\\site-packages (from beautifulsoup4>=4.11.1->yfinance) (2.4)\n",
      "Requirement already satisfied: six>=1.9 in e:\\python\\project-365-challenge\\.venv\\lib\\site-packages (from html5lib>=1.1->yfinance) (1.16.0)\n",
      "Collecting webencodings\n",
      "  Downloading webencodings-0.5.1-py2.py3-none-any.whl (11 kB)\n",
      "Requirement already satisfied: python-dateutil>=2.8.1 in e:\\python\\project-365-challenge\\.venv\\lib\\site-packages (from pandas>=1.3.0->yfinance) (2.8.2)\n",
      "Requirement already satisfied: charset-normalizer<4,>=2 in e:\\python\\project-365-challenge\\.venv\\lib\\site-packages (from requests>=2.26->yfinance) (3.0.1)\n",
      "Requirement already satisfied: idna<4,>=2.5 in e:\\python\\project-365-challenge\\.venv\\lib\\site-packages (from requests>=2.26->yfinance) (2.10)\n",
      "Requirement already satisfied: urllib3<3,>=1.21.1 in e:\\python\\project-365-challenge\\.venv\\lib\\site-packages (from requests>=2.26->yfinance) (1.26.14)\n",
      "Requirement already satisfied: certifi>=2017.4.17 in e:\\python\\project-365-challenge\\.venv\\lib\\site-packages (from requests>=2.26->yfinance) (2022.12.7)\n",
      "Installing collected packages: webencodings, multitasking, appdirs, requests, lxml, html5lib, frozendict, yfinance\n",
      "  Attempting uninstall: requests\n",
      "    Found existing installation: requests 2.25.1\n",
      "    Uninstalling requests-2.25.1:\n",
      "      Successfully uninstalled requests-2.25.1\n",
      "Successfully installed appdirs-1.4.4 frozendict-2.3.8 html5lib-1.1 lxml-4.9.2 multitasking-0.0.11 requests-2.31.0 webencodings-0.5.1 yfinance-0.2.21\n",
      "Note: you may need to restart the kernel to use updated packages.\n"
     ]
    },
    {
     "name": "stderr",
     "output_type": "stream",
     "text": [
      "ERROR: pip's dependency resolver does not currently take into account all the packages that are installed. This behaviour is the source of the following dependency conflicts.\n",
      "gofile 0.2.0 requires requests~=2.25.1, but you have requests 2.31.0 which is incompatible.\n",
      "\n",
      "[notice] A new release of pip is available: 23.0.1 -> 23.1.2\n",
      "[notice] To update, run: python.exe -m pip install --upgrade pip\n"
     ]
    }
   ],
   "source": [
    "%pip install yfinance"
   ]
  },
  {
   "cell_type": "code",
   "execution_count": 13,
   "metadata": {},
   "outputs": [
    {
     "name": "stdout",
     "output_type": "stream",
     "text": [
      "Current Price :  186.68\n"
     ]
    }
   ],
   "source": [
    "import yfinance as yf\n",
    "STK = input(\"Enter share name : \")\n",
    "Share = yf.Ticker(STK).info\n",
    "market_price = Share['currentPrice']\n",
    "print(\"Current Price : \", market_price)"
   ]
  }
 ],
 "metadata": {
  "kernelspec": {
   "display_name": ".venv",
   "language": "python",
   "name": "python3"
  },
  "language_info": {
   "codemirror_mode": {
    "name": "ipython",
    "version": 3
   },
   "file_extension": ".py",
   "mimetype": "text/x-python",
   "name": "python",
   "nbconvert_exporter": "python",
   "pygments_lexer": "ipython3",
   "version": "3.11.2"
  },
  "orig_nbformat": 4
 },
 "nbformat": 4,
 "nbformat_minor": 2
}
