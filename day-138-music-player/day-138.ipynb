{
 "cells": [
  {
   "attachments": {},
   "cell_type": "markdown",
   "metadata": {},
   "source": [
    "# A music player using Python"
   ]
  },
  {
   "cell_type": "code",
   "execution_count": null,
   "metadata": {},
   "outputs": [],
   "source": [
    "%pip install pygame"
   ]
  },
  {
   "cell_type": "code",
   "execution_count": null,
   "metadata": {},
   "outputs": [],
   "source": [
    "import pygame\n",
    "import tkinter as tk\n",
    "from tkinter import filedialog\n",
    "def play_music():\n",
    "    # Open a file dialog to select the music file\n",
    "    filename = filedialog.askopenfilename()\n",
    "    pygame.init()\n",
    "    pygame.mixer.init\n",
    "    pygame.mixer.music.load(filename)\n",
    "    pygame.mixer.music.play()\n",
    "\n",
    "# Create a GUI using tkinter\n",
    "root = tk.Tk()\n",
    "root.title(\"Music Player\")\n",
    "play_button = tk.Button(root, text=\"Play\", command=play_music)\n",
    "play_button.pack()\n",
    "root.mainloop()"
   ]
  }
 ],
 "metadata": {
  "kernelspec": {
   "display_name": "Python 3",
   "language": "python",
   "name": "python3"
  },
  "language_info": {
   "codemirror_mode": {
    "name": "ipython",
    "version": 3
   },
   "file_extension": ".py",
   "mimetype": "text/x-python",
   "name": "python",
   "nbconvert_exporter": "python",
   "pygments_lexer": "ipython3",
   "version": "3.11.4"
  },
  "orig_nbformat": 4
 },
 "nbformat": 4,
 "nbformat_minor": 2
}
