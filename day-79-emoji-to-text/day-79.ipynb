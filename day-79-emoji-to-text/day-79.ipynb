{
 "cells": [
  {
   "attachments": {},
   "cell_type": "markdown",
   "metadata": {},
   "source": [
    "# Convert emoji into text using Python"
   ]
  },
  {
   "cell_type": "code",
   "execution_count": 1,
   "metadata": {},
   "outputs": [
    {
     "name": "stdout",
     "output_type": "stream",
     "text": [
      "Collecting demojiNote: you may need to restart the kernel to use updated packages.\n",
      "\n",
      "  Downloading demoji-1.1.0-py3-none-any.whl (42 kB)\n",
      "     ---------------------------------------- 42.9/42.9 kB ? eta 0:00:00\n",
      "Installing collected packages: demoji\n",
      "Successfully installed demoji-1.1.0\n"
     ]
    },
    {
     "name": "stderr",
     "output_type": "stream",
     "text": [
      "\n",
      "[notice] A new release of pip available: 22.3.1 -> 23.1.2\n",
      "[notice] To update, run: python.exe -m pip install --upgrade pip\n"
     ]
    }
   ],
   "source": [
    "%pip install demoji"
   ]
  },
  {
   "cell_type": "code",
   "execution_count": 1,
   "metadata": {},
   "outputs": [
    {
     "data": {
      "text/plain": [
       "{'🧛🏿\\u200d♀️': 'woman vampire: dark skin tone',\n",
       " '🧞\\u200d♂️': 'man genie',\n",
       " '🧖🏻': 'person in steamy room: light skin tone',\n",
       " '🧞': 'genie',\n",
       " '🦘': 'kangaroo'}"
      ]
     },
     "execution_count": 1,
     "metadata": {},
     "output_type": "execute_result"
    }
   ],
   "source": [
    "import demoji\n",
    "\n",
    "text = \"🧞 🧞‍♂️ 🧖🏻🧛🏿‍♀️🦘\"\n",
    "demoji.findall(text)"
   ]
  }
 ],
 "metadata": {
  "kernelspec": {
   "display_name": ".venv",
   "language": "python",
   "name": "python3"
  },
  "language_info": {
   "codemirror_mode": {
    "name": "ipython",
    "version": 3
   },
   "file_extension": ".py",
   "mimetype": "text/x-python",
   "name": "python",
   "nbconvert_exporter": "python",
   "pygments_lexer": "ipython3",
   "version": "3.10.3"
  },
  "orig_nbformat": 4
 },
 "nbformat": 4,
 "nbformat_minor": 2
}
