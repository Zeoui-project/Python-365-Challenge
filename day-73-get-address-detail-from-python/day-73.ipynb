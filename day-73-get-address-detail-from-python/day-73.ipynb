{
 "cells": [
  {
   "attachments": {},
   "cell_type": "markdown",
   "metadata": {},
   "source": [
    "# Get address detail using Python"
   ]
  },
  {
   "cell_type": "code",
   "execution_count": 3,
   "metadata": {},
   "outputs": [
    {
     "name": "stdout",
     "output_type": "stream",
     "text": [
      "Zipcode: 411045\n",
      "Details of the Zipcode:\n",
      "Pune City, Pune, Maharashtra, 411045, India\n"
     ]
    }
   ],
   "source": [
    "from geopy.geocoders import Nominatim\n",
    "\n",
    "# Using nominatiom API\n",
    "geolocator = Nominatim(user_agent=\"geoapiExcercises\")\n",
    "\n",
    "# Zipcode Input\n",
    "a = input(\"Enter the zipcode\")\n",
    "zipcode = a\n",
    "\n",
    "# Using geocode()\n",
    "location = geolocator.geocode(zipcode)\n",
    "\n",
    "# Displaying address details\n",
    "print(\"Zipcode:\", zipcode)\n",
    "print(\"Details of the Zipcode:\")\n",
    "print(location)"
   ]
  }
 ],
 "metadata": {
  "kernelspec": {
   "display_name": ".venv",
   "language": "python",
   "name": "python3"
  },
  "language_info": {
   "codemirror_mode": {
    "name": "ipython",
    "version": 3
   },
   "file_extension": ".py",
   "mimetype": "text/x-python",
   "name": "python",
   "nbconvert_exporter": "python",
   "pygments_lexer": "ipython3",
   "version": "3.10.3"
  },
  "orig_nbformat": 4
 },
 "nbformat": 4,
 "nbformat_minor": 2
}
