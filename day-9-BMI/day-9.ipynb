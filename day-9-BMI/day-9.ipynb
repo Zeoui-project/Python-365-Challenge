{
 "cells": [
  {
   "attachments": {},
   "cell_type": "markdown",
   "metadata": {},
   "source": [
    "# BMI Calculator with Python"
   ]
  },
  {
   "cell_type": "code",
   "execution_count": 1,
   "metadata": {},
   "outputs": [
    {
     "name": "stdout",
     "output_type": "stream",
     "text": [
      "your Body Mass Index is :  27.005130974885226\n",
      "you are overweight\n"
     ]
    }
   ],
   "source": [
    "Height = float(input(\"Enter your height in centimeters : \"))\n",
    "Weight = float(input(\"Enter your height in centimeters : \"))\n",
    "Height = Height/100\n",
    "BMI = Weight/(Height*Height)\n",
    "print(\"your Body Mass Index is : \", BMI)\n",
    "if(BMI>0):\n",
    "    if(BMI<=16):\n",
    "        print(\"you are severely underweight\")\n",
    "    elif(BMI<18.5):\n",
    "        print(\"you are underweight\")\n",
    "    elif(BMI<25):\n",
    "        print(\"you are Healthy\")\n",
    "    elif(BMI<30):\n",
    "        print(\"you are overweight\")\n",
    "    else:\n",
    "        print(\"you are severly overweight\")\n",
    "else:\n",
    "    (\"enter valid details\")"
   ]
  }
 ],
 "metadata": {
  "kernelspec": {
   "display_name": ".venv",
   "language": "python",
   "name": "python3"
  },
  "language_info": {
   "codemirror_mode": {
    "name": "ipython",
    "version": 3
   },
   "file_extension": ".py",
   "mimetype": "text/x-python",
   "name": "python",
   "nbconvert_exporter": "python",
   "pygments_lexer": "ipython3",
   "version": "3.10.3"
  },
  "orig_nbformat": 4,
  "vscode": {
   "interpreter": {
    "hash": "1ecee382ac9679ab1041b53d286f1b1ac05da0f713dd43418d9415034a338dad"
   }
  }
 },
 "nbformat": 4,
 "nbformat_minor": 2
}
