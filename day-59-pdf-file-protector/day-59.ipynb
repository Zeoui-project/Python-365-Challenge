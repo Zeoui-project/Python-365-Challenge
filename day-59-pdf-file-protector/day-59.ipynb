{
 "cells": [
  {
   "attachments": {},
   "cell_type": "markdown",
   "metadata": {},
   "source": [
    "# PDF file protection using password"
   ]
  },
  {
   "cell_type": "code",
   "execution_count": 12,
   "metadata": {},
   "outputs": [
    {
     "name": "stdout",
     "output_type": "stream",
     "text": [
      "Now file is password protected\n"
     ]
    }
   ],
   "source": [
    "from PyPDF2 import PdfWriter, PdfReader\n",
    "import getpass\n",
    "\n",
    "pdfwriter = PdfWriter()\n",
    "pdf = PdfReader('E:\\Python\\Project-365-Challenge\\day-59-pdf-file-protector\\PDF_document.pdf')\n",
    "for page_num in range(len(pdf.pages)):\n",
    "    pdfwriter.add_page(pdf.pages[page_num])\n",
    "password = getpass.getpass(prompt='Enter Password: ')\n",
    "pdfwriter.encrypt(password)\n",
    "with open('E:\\Python\\Project-365-Challenge\\day-59-pdf-file-protector\\PDF_document.pdf', 'wb') as f:\n",
    "    pdfwriter.write(f)\n",
    "\n",
    "print(\"Now file is password protected\")"
   ]
  }
 ],
 "metadata": {
  "kernelspec": {
   "display_name": ".venv",
   "language": "python",
   "name": "python3"
  },
  "language_info": {
   "codemirror_mode": {
    "name": "ipython",
    "version": 3
   },
   "file_extension": ".py",
   "mimetype": "text/x-python",
   "name": "python",
   "nbconvert_exporter": "python",
   "pygments_lexer": "ipython3",
   "version": "3.10.3"
  },
  "orig_nbformat": 4
 },
 "nbformat": 4,
 "nbformat_minor": 2
}
