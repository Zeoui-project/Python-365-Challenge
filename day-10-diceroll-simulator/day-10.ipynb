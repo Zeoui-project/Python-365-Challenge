{
 "cells": [
  {
   "attachments": {},
   "cell_type": "markdown",
   "metadata": {},
   "source": [
    "# Dice Roll Simulator"
   ]
  },
  {
   "cell_type": "code",
   "execution_count": 2,
   "metadata": {},
   "outputs": [
    {
     "name": "stdout",
     "output_type": "stream",
     "text": [
      "Rolling the Dices...\n",
      "The Values are :\n",
      "2\n",
      "Rolling the Dices...\n",
      "The Values are :\n",
      "2\n",
      "Rolling the Dices...\n",
      "The Values are :\n",
      "6\n",
      "Rolling the Dices...\n",
      "The Values are :\n",
      "5\n"
     ]
    }
   ],
   "source": [
    "import random\n",
    "\n",
    "#range of the dice\n",
    "min_val = 1\n",
    "max_val = 6\n",
    "\n",
    "#command to loop\n",
    "roll_again = \"yes\"\n",
    "\n",
    "while roll_again == \"yes\" or roll_again == \"y\":\n",
    "    print(\"Rolling the Dices...\")\n",
    "    print(\"The Values are :\")\n",
    "\n",
    "    #generating and printing 1st random integer from 1 to 6\n",
    "    print(random.randint(min_val, max_val))\n",
    "\n",
    "    #Asking user to roll the dice again\n",
    "    #Any input other than yes or y will terminate the loop\n",
    "    roll_again = input(\"Roll the Dices again?\")\n"
   ]
  }
 ],
 "metadata": {
  "kernelspec": {
   "display_name": ".venv",
   "language": "python",
   "name": "python3"
  },
  "language_info": {
   "codemirror_mode": {
    "name": "ipython",
    "version": 3
   },
   "file_extension": ".py",
   "mimetype": "text/x-python",
   "name": "python",
   "nbconvert_exporter": "python",
   "pygments_lexer": "ipython3",
   "version": "3.10.3"
  },
  "orig_nbformat": 4,
  "vscode": {
   "interpreter": {
    "hash": "1ecee382ac9679ab1041b53d286f1b1ac05da0f713dd43418d9415034a338dad"
   }
  }
 },
 "nbformat": 4,
 "nbformat_minor": 2
}
