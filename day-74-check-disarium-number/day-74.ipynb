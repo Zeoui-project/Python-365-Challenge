{
 "cells": [
  {
   "attachments": {},
   "cell_type": "markdown",
   "metadata": {},
   "source": [
    "# Checking Disarium Number using Python"
   ]
  },
  {
   "cell_type": "code",
   "execution_count": null,
   "metadata": {},
   "outputs": [],
   "source": [
    "# Check disarium number\n",
    "Number = int(input(\"Enter the Number to check Disarium Number = \"))\n",
    "length = len(str(Number))\n",
    "Temp = Number\n",
    "Sum = 0\n",
    "rem = 0\n",
    "\n",
    "while Temp > 0:\n",
    "    rem = Temp % 10\n",
    "    Sum = Sum + int(rem**length)\n",
    "    Temp = Temp // 10\n",
    "    length = length - 1\n",
    "\n",
    "print(\"The sum of the digits = %d\" %Sum)\n",
    "if Sum == Number:\n",
    "    print(\"\\n%d is a Disarium Number.\" %Number)\n",
    "else:\n",
    "    print(\"%d is Not a Disarium Number.\" %Number)"
   ]
  }
 ],
 "metadata": {
  "language_info": {
   "name": "python"
  },
  "orig_nbformat": 4
 },
 "nbformat": 4,
 "nbformat_minor": 2
}
