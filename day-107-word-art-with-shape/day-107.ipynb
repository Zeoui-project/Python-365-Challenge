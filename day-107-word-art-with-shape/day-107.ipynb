{
 "cells": [
  {
   "attachments": {},
   "cell_type": "markdown",
   "metadata": {},
   "source": [
    "# Heart shape word art using Python"
   ]
  },
  {
   "cell_type": "code",
   "execution_count": 5,
   "metadata": {},
   "outputs": [
    {
     "name": "stdout",
     "output_type": "stream",
     "text": [
      "                                                            \n",
      "                                                            \n",
      "                                                            \n",
      "                erenginee           gineereng               \n",
      "            ineerengineerengi   rengineerengineer           \n",
      "          gineerengineerengineerengineerengineereng         \n",
      "         gineerengineerengineerengineerengineerengin        \n",
      "        gineerengineerengineerengineerengineerenginee       \n",
      "        ineerengineerengineerengineerengineerengineer       \n",
      "        neerengineerengineerengineerengineerengineere       \n",
      "        eerengineerengineerengineerengineerengineeren       \n",
      "        erengineerengineerengineerengineerengineereng       \n",
      "        rengineerengineerengineerengineerengineerengi       \n",
      "         ngineerengineerengineerengineerengineerengi        \n",
      "          ineerengineerengineerengineerengineerengi         \n",
      "          neerengineerengineerengineerengineerengin         \n",
      "            rengineerengineerengineerengineerengi           \n",
      "             ngineerengineerengineerengineerengi            \n",
      "              ineerengineerengineerengineerengi             \n",
      "                erengineerengineerengineereng               \n",
      "                  ngineerengineerengineeren                 \n",
      "                    neerengineerengineere                   \n",
      "                       engineerenginee                      \n",
      "                          neerengin                         \n",
      "                             eng                            \n",
      "                              g                             \n",
      "                                                            \n",
      "                                                            \n",
      "                                                            \n",
      "                                                            \n"
     ]
    }
   ],
   "source": [
    "print('\\n'.join\n",
    "      ([''.join\n",
    "        ([('engineer'[(x-y)%8 ]\n",
    "           if((x*0.05)**2+(y*0.1)**2-1)\n",
    "           **3-(x*0.05)**2*(y*0.1)\n",
    "                **3<=0 else' ')\n",
    "                    for x in range(-30,30)])\n",
    "                        for y in range(15,-15,-1)]))"
   ]
  }
 ],
 "metadata": {
  "kernelspec": {
   "display_name": ".venv",
   "language": "python",
   "name": "python3"
  },
  "language_info": {
   "codemirror_mode": {
    "name": "ipython",
    "version": 3
   },
   "file_extension": ".py",
   "mimetype": "text/x-python",
   "name": "python",
   "nbconvert_exporter": "python",
   "pygments_lexer": "ipython3",
   "version": "3.10.3"
  },
  "orig_nbformat": 4
 },
 "nbformat": 4,
 "nbformat_minor": 2
}
