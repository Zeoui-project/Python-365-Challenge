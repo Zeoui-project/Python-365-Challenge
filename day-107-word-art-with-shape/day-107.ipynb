{
 "cells": [
  {
   "attachments": {},
   "cell_type": "markdown",
   "metadata": {},
   "source": [
    "# Heart shape word art using Python"
   ]
  },
  {
   "cell_type": "code",
   "execution_count": null,
   "metadata": {},
   "outputs": [],
   "source": [
    "print('\\n'.join\n",
    "      ([''.join\n",
    "        ([('Engineer'[(x-y)%8 ]\n",
    "           if((x*0.05)**2+(y*0.1)**2-1)\n",
    "           **3-(x*0.05)**2*(y*0.1)\n",
    "                **3<=0 else' ')\n",
    "                    for x in range(-30,30)])\n",
    "                        for y in range(15,-15,-1)]))"
   ]
  }
 ],
 "metadata": {
  "language_info": {
   "name": "python"
  },
  "orig_nbformat": 4
 },
 "nbformat": 4,
 "nbformat_minor": 2
}
