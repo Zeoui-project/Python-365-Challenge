{
 "cells": [
  {
   "attachments": {},
   "cell_type": "markdown",
   "metadata": {},
   "source": [
    "# Country Info using Python"
   ]
  },
  {
   "cell_type": "code",
   "execution_count": 1,
   "metadata": {},
   "outputs": [
    {
     "name": "stdout",
     "output_type": "stream",
     "text": [
      "Collecting countryinfo\n",
      "  Downloading countryinfo-0.1.2-py3-none-any.whl (602 kB)\n",
      "     -------------------------------------- 602.2/602.2 kB 2.7 MB/s eta 0:00:00\n",
      "Installing collected packages: countryinfo\n",
      "Successfully installed countryinfo-0.1.2\n",
      "Note: you may need to restart the kernel to use updated packages.\n"
     ]
    },
    {
     "name": "stderr",
     "output_type": "stream",
     "text": [
      "\n",
      "[notice] A new release of pip available: 22.3.1 -> 23.0.1\n",
      "[notice] To update, run: python.exe -m pip install --upgrade pip\n"
     ]
    }
   ],
   "source": [
    "%pip install countryinfo"
   ]
  },
  {
   "cell_type": "code",
   "execution_count": 2,
   "metadata": {},
   "outputs": [
    {
     "name": "stdout",
     "output_type": "stream",
     "text": [
      "Capital is :  Ottawa\n",
      "Currencies is :  ['CAD']\n",
      "Language is :  ['en', 'fr']\n",
      "Borders are :  ['USA']\n",
      "Other names :  ['CA']\n"
     ]
    }
   ],
   "source": [
    "from countryinfo import CountryInfo\n",
    "count = input(\"Entery your country : \")\n",
    "country = CountryInfo(count)\n",
    "print(\"Capital is : \", country.capital())\n",
    "print(\"Currencies is : \", country.currencies())\n",
    "print(\"Language is : \", country.languages())\n",
    "print(\"Borders are : \", country.borders())\n",
    "print(\"Other names : \", country.alt_spellings())"
   ]
  }
 ],
 "metadata": {
  "kernelspec": {
   "display_name": ".venv",
   "language": "python",
   "name": "python3"
  },
  "language_info": {
   "codemirror_mode": {
    "name": "ipython",
    "version": 3
   },
   "file_extension": ".py",
   "mimetype": "text/x-python",
   "name": "python",
   "nbconvert_exporter": "python",
   "pygments_lexer": "ipython3",
   "version": "3.10.3"
  },
  "orig_nbformat": 4,
  "vscode": {
   "interpreter": {
    "hash": "1ecee382ac9679ab1041b53d286f1b1ac05da0f713dd43418d9415034a338dad"
   }
  }
 },
 "nbformat": 4,
 "nbformat_minor": 2
}
