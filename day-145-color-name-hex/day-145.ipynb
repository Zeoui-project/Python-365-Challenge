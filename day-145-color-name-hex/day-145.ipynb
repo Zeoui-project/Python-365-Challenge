{
 "cells": [
  {
   "attachments": {},
   "cell_type": "markdown",
   "metadata": {},
   "source": [
    "# Color name to Color code in Hex using Python"
   ]
  },
  {
   "cell_type": "code",
   "execution_count": 2,
   "metadata": {},
   "outputs": [
    {
     "name": "stdout",
     "output_type": "stream",
     "text": [
      "Collecting webcolors\n",
      "  Using cached webcolors-1.13-py3-none-any.whl (14 kB)\n",
      "Installing collected packages: webcolors\n",
      "Successfully installed webcolors-1.13\n",
      "Note: you may need to restart the kernel to use updated packages.\n"
     ]
    }
   ],
   "source": [
    "%pip install webcolors"
   ]
  },
  {
   "cell_type": "code",
   "execution_count": 22,
   "metadata": {},
   "outputs": [
    {
     "name": "stdout",
     "output_type": "stream",
     "text": [
      "#40e0d0\n"
     ]
    }
   ],
   "source": [
    "from webcolors import name_to_hex\n",
    "\n",
    "def color_name_to_code(color_name):\n",
    "    try:\n",
    "        color_code = name_to_hex(color_name)\n",
    "        return color_code\n",
    "    except ValueError:\n",
    "        return None\n",
    "\n",
    "colorname = input(\"Enter color name : \")\n",
    "result_code = color_name_to_code(colorname)\n",
    "print(result_code)"
   ]
  }
 ],
 "metadata": {
  "kernelspec": {
   "display_name": "Python 3",
   "language": "python",
   "name": "python3"
  },
  "language_info": {
   "codemirror_mode": {
    "name": "ipython",
    "version": 3
   },
   "file_extension": ".py",
   "mimetype": "text/x-python",
   "name": "python",
   "nbconvert_exporter": "python",
   "pygments_lexer": "ipython3",
   "version": "3.11.4"
  },
  "orig_nbformat": 4
 },
 "nbformat": 4,
 "nbformat_minor": 2
}
