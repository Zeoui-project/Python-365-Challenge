{
 "cells": [
  {
   "attachments": {},
   "cell_type": "markdown",
   "metadata": {},
   "source": [
    "# Fetching PDF words using Python"
   ]
  },
  {
   "cell_type": "code",
   "execution_count": 1,
   "metadata": {},
   "outputs": [
    {
     "name": "stdout",
     "output_type": "stream",
     "text": [
      "Collecting pdfplumber\n",
      "  Downloading pdfplumber-0.9.0-py3-none-any.whl (46 kB)\n",
      "     ---------------------------------------- 46.1/46.1 kB 2.2 MB/s eta 0:00:00\n",
      "Collecting pdfminer.six==20221105\n",
      "  Downloading pdfminer.six-20221105-py3-none-any.whl (5.6 MB)\n",
      "     ---------------------------------------- 5.6/5.6 MB 8.0 MB/s eta 0:00:00\n",
      "Requirement already satisfied: Pillow>=9.1 in f:\\file penting\\semester 5 binus aso\\data science and application (pak zacky)\\praktikum\\praktikum\\.venv\\lib\\site-packages (from pdfplumber) (9.4.0)\n",
      "Collecting Wand>=0.6.10\n",
      "  Downloading Wand-0.6.11-py2.py3-none-any.whl (143 kB)\n",
      "     -------------------------------------- 143.6/143.6 kB 8.9 MB/s eta 0:00:00\n",
      "Requirement already satisfied: cryptography>=36.0.0 in f:\\file penting\\semester 5 binus aso\\data science and application (pak zacky)\\praktikum\\praktikum\\.venv\\lib\\site-packages (from pdfminer.six==20221105->pdfplumber) (40.0.2)\n",
      "Requirement already satisfied: charset-normalizer>=2.0.0 in f:\\file penting\\semester 5 binus aso\\data science and application (pak zacky)\\praktikum\\praktikum\\.venv\\lib\\site-packages (from pdfminer.six==20221105->pdfplumber) (3.0.1)\n",
      "Requirement already satisfied: cffi>=1.12 in f:\\file penting\\semester 5 binus aso\\data science and application (pak zacky)\\praktikum\\praktikum\\.venv\\lib\\site-packages (from cryptography>=36.0.0->pdfminer.six==20221105->pdfplumber) (1.15.1)\n",
      "Requirement already satisfied: pycparser in f:\\file penting\\semester 5 binus aso\\data science and application (pak zacky)\\praktikum\\praktikum\\.venv\\lib\\site-packages (from cffi>=1.12->cryptography>=36.0.0->pdfminer.six==20221105->pdfplumber) (2.21)\n",
      "Installing collected packages: Wand, pdfminer.six, pdfplumber\n",
      "Successfully installed Wand-0.6.11 pdfminer.six-20221105 pdfplumber-0.9.0\n",
      "Note: you may need to restart the kernel to use updated packages.\n"
     ]
    },
    {
     "name": "stderr",
     "output_type": "stream",
     "text": [
      "\n",
      "[notice] A new release of pip available: 22.3.1 -> 23.1.2\n",
      "[notice] To update, run: python.exe -m pip install --upgrade pip\n"
     ]
    }
   ],
   "source": [
    "%pip install pdfplumber"
   ]
  },
  {
   "cell_type": "code",
   "execution_count": 2,
   "metadata": {},
   "outputs": [
    {
     "name": "stdout",
     "output_type": "stream",
     "text": [
      "<--- page no 1 --->\n",
      "1-10\n",
      "11-19 = 11 = 10 + 1 = juu ichi\n",
      "21 = 20 + 1 = ni juu ichi\n",
      "49 = yon juu ku\n",
      "78 = nana juu hachi\n",
      "98 = kyuu juu hachi\n",
      "35 = san juu go\n",
      "17 = juu nana\n",
      "15 = juu go\n"
     ]
    }
   ],
   "source": [
    "import pdfplumber as pdftool\n",
    "def Fetch_Text(file_path):\n",
    "    # Extract page by page\n",
    "    with pdftool.open(file_path) as tool:\n",
    "        for p_no, page in enumerate(tool.pages, 1):\n",
    "            print('<--- page no', p_no, '--->')\n",
    "            data = page.extract_text()\n",
    "            print(data)\n",
    "Fetch_Text(\"test.pdf\")"
   ]
  }
 ],
 "metadata": {
  "kernelspec": {
   "display_name": ".venv",
   "language": "python",
   "name": "python3"
  },
  "language_info": {
   "codemirror_mode": {
    "name": "ipython",
    "version": 3
   },
   "file_extension": ".py",
   "mimetype": "text/x-python",
   "name": "python",
   "nbconvert_exporter": "python",
   "pygments_lexer": "ipython3",
   "version": "3.10.3"
  },
  "orig_nbformat": 4
 },
 "nbformat": 4,
 "nbformat_minor": 2
}
