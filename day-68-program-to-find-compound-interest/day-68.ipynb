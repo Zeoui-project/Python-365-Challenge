{
 "cells": [
  {
   "attachments": {},
   "cell_type": "markdown",
   "metadata": {},
   "source": [
    "# Program to Find compound interest"
   ]
  },
  {
   "cell_type": "code",
   "execution_count": 1,
   "metadata": {},
   "outputs": [
    {
     "name": "stdout",
     "output_type": "stream",
     "text": [
      "Compound interest is 3492.32625\n"
     ]
    }
   ],
   "source": [
    "# Python program to find compound interest\n",
    "\n",
    "def compound_interest(principle, rate, time):\n",
    "    # Calculate compound interest\n",
    "    Amount = principle * (pow((1 + rate / 100), time))\n",
    "    CI = Amount - principle\n",
    "    print(\"Compound interest is\", CI)\n",
    "\n",
    "P = float(input(\"Enter Principle Value : \"))\n",
    "R = float (input(\"Enter Rate Value : \"))\n",
    "T = float(input(\"Enter Time Value : \"))\n",
    "compound_interest(P,R,T)"
   ]
  }
 ],
 "metadata": {
  "kernelspec": {
   "display_name": ".venv",
   "language": "python",
   "name": "python3"
  },
  "language_info": {
   "codemirror_mode": {
    "name": "ipython",
    "version": 3
   },
   "file_extension": ".py",
   "mimetype": "text/x-python",
   "name": "python",
   "nbconvert_exporter": "python",
   "pygments_lexer": "ipython3",
   "version": "3.10.3"
  },
  "orig_nbformat": 4
 },
 "nbformat": 4,
 "nbformat_minor": 2
}
