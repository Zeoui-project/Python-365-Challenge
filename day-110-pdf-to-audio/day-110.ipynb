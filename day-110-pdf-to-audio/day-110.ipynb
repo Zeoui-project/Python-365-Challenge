{
 "cells": [
  {
   "attachments": {},
   "cell_type": "markdown",
   "metadata": {},
   "source": [
    "# PDF to Audio using Python"
   ]
  },
  {
   "cell_type": "code",
   "execution_count": 7,
   "metadata": {},
   "outputs": [],
   "source": [
    "import PyPDF2, pyttsx3\n",
    "\n",
    "path = open('test.pdf', 'rb')\n",
    "\n",
    "pdfReader = PyPDF2.PdfReader(path)\n",
    "\n",
    "# Get an Engine instance for the speech synthesis\n",
    "speak = pyttsx3.init()\n",
    "\n",
    "for page_num in range(len(pdfReader.pages)):\n",
    "    text = pdfReader.pages[page_num].extract_text()\n",
    "    speak.say(text)\n",
    "    speak.runAndWait()\n",
    "\n",
    "speak.stop()"
   ]
  }
 ],
 "metadata": {
  "kernelspec": {
   "display_name": ".venv",
   "language": "python",
   "name": "python3"
  },
  "language_info": {
   "codemirror_mode": {
    "name": "ipython",
    "version": 3
   },
   "file_extension": ".py",
   "mimetype": "text/x-python",
   "name": "python",
   "nbconvert_exporter": "python",
   "pygments_lexer": "ipython3",
   "version": "3.10.3"
  },
  "orig_nbformat": 4
 },
 "nbformat": 4,
 "nbformat_minor": 2
}
