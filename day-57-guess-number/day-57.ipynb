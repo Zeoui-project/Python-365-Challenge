{
 "cells": [
  {
   "attachments": {},
   "cell_type": "markdown",
   "metadata": {},
   "source": [
    "# Number Guessing game in Python"
   ]
  },
  {
   "cell_type": "code",
   "execution_count": 1,
   "metadata": {},
   "outputs": [
    {
     "name": "stdout",
     "output_type": "stream",
     "text": [
      "\n",
      "\tYou've only  3  chances to guess the integer!\n",
      "\n",
      "\n",
      "\tYou guessed too small!\n",
      "\n",
      "\n",
      "\tYou guessed too small!\n",
      "\n",
      "\n",
      "\tCongrats! You guessed the number in 3 guesses!\n",
      "\n"
     ]
    }
   ],
   "source": [
    "import random\n",
    "import math\n",
    "\n",
    "lower = int(input(\"Enter Lower bound:- \"))\n",
    "upper = int(input(\"Enter Upper bound:- \"))\n",
    "# Generating random number between the lower and upper\n",
    "x = random.randint(lower, upper)\n",
    "print(\"\\n\\tYou've only \", round(math.log(upper - lower + 1, 2)), \" chances to guess the integer!\\n\")\n",
    "\n",
    "# Initializing the number of guesses\n",
    "count = 0\n",
    "\n",
    "# for calculation of minimum number of guesses depends upon range\n",
    "while count < math.log(upper - lower + 1, 2):\n",
    "    count += 1\n",
    "    # Taking guessing number as input\n",
    "    guess = int(input(\"Guess a number:- \"))\n",
    "    # Condition testing\n",
    "    if x == guess:\n",
    "        print(\"\\n\\tCongrats! You guessed the number in\", count, \"guesses!\\n\")\n",
    "        break\n",
    "    elif x > guess:\n",
    "        print(\"\\n\\tYou guessed too small!\\n\")\n",
    "    elif x < guess:\n",
    "        print(\"\\n\\tYou guess too high!\\n\")\n",
    "\n",
    "# Shows this output\n",
    "if count >= math.log(upper - lower + 1, 2):\n",
    "    print(\"\\nThe number is %d\" % x)\n",
    "    print(\"\\tBetter Luck Next time!\")\n"
   ]
  }
 ],
 "metadata": {
  "kernelspec": {
   "display_name": ".venv",
   "language": "python",
   "name": "python3"
  },
  "language_info": {
   "codemirror_mode": {
    "name": "ipython",
    "version": 3
   },
   "file_extension": ".py",
   "mimetype": "text/x-python",
   "name": "python",
   "nbconvert_exporter": "python",
   "pygments_lexer": "ipython3",
   "version": "3.10.3"
  },
  "orig_nbformat": 4,
  "vscode": {
   "interpreter": {
    "hash": "1ecee382ac9679ab1041b53d286f1b1ac05da0f713dd43418d9415034a338dad"
   }
  }
 },
 "nbformat": 4,
 "nbformat_minor": 2
}
