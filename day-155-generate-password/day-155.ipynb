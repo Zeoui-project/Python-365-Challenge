{
 "cells": [
  {
   "cell_type": "code",
   "execution_count": null,
   "metadata": {},
   "outputs": [],
   "source": [
    "import random\n",
    "import string\n",
    "\n",
    "def generate_password(length):\n",
    "    # Define the character pool for the password generation\n",
    "    characters = string.ascii_letters + string.digits + string.punctuation\n",
    "\n",
    "    # Generate a password by randomly selecting characters from the pool\n",
    "    password = ''.join(random.choice(characters) for _ in range (length))\n",
    "\n",
    "    # Return the generated password\n",
    "    return password\n",
    "\n",
    "# Prompt the user to enter the desired length of the password\n",
    "password_length = int(input(\"Enter the desired length of the password: \"))\n",
    "\n",
    "# Generate the password using the specified length\n",
    "generated_password = generate_password(password_length)\n",
    "\n",
    "# Print the generated password\n",
    "print(\"Generated Password: \", generated_password)"
   ]
  }
 ],
 "metadata": {
  "language_info": {
   "name": "python"
  },
  "orig_nbformat": 4
 },
 "nbformat": 4,
 "nbformat_minor": 2
}
