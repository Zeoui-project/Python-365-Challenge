{
 "cells": [
  {
   "attachments": {},
   "cell_type": "markdown",
   "metadata": {},
   "source": [
    "# Gif Creation using Python"
   ]
  },
  {
   "cell_type": "code",
   "execution_count": 1,
   "metadata": {},
   "outputs": [
    {
     "name": "stdout",
     "output_type": "stream",
     "text": [
      "Collecting imageio\n",
      "  Downloading imageio-2.27.0-py3-none-any.whl (3.4 MB)\n",
      "     ---------------------------------------- 3.4/3.4 MB 5.8 MB/s eta 0:00:00\n",
      "Requirement already satisfied: numpy in f:\\file penting\\semester 5 binus aso\\data science and application (pak zacky)\\praktikum\\praktikum\\.venv\\lib\\site-packages (from imageio) (1.24.2)\n",
      "Requirement already satisfied: pillow>=8.3.2 in f:\\file penting\\semester 5 binus aso\\data science and application (pak zacky)\\praktikum\\praktikum\\.venv\\lib\\site-packages (from imageio) (9.4.0)\n",
      "Installing collected packages: imageio\n",
      "Successfully installed imageio-2.27.0\n",
      "Note: you may need to restart the kernel to use updated packages.\n"
     ]
    },
    {
     "name": "stderr",
     "output_type": "stream",
     "text": [
      "\n",
      "[notice] A new release of pip available: 22.3.1 -> 23.1\n",
      "[notice] To update, run: python.exe -m pip install --upgrade pip\n"
     ]
    }
   ],
   "source": [
    "%pip install imageio"
   ]
  },
  {
   "cell_type": "code",
   "execution_count": 2,
   "metadata": {},
   "outputs": [],
   "source": [
    "import cv2\n",
    "import matplotlib.pyplot as plt\n",
    "\n",
    "# Create Sketch (Grey Image)\n",
    "def img2sketch(photo, k_size):\n",
    "    #Read Image\n",
    "    img=cv2.imread(photo)\n",
    "    \n",
    "    # Convert to Grey Image\n",
    "    grey_img=cv2.cvtColor(img, cv2.COLOR_BGR2GRAY)\n",
    "\n",
    "    # Invert Image\n",
    "    invert_img=cv2.bitwise_not(grey_img)\n",
    "    #invert_img=255-grey_img\n",
    "\n",
    "    # Blur image\n",
    "    blur_img=cv2.GaussianBlur(invert_img, (k_size,k_size),0)\n",
    "\n",
    "    # Invert Blurred Image\n",
    "    invblur_img=cv2.bitwise_not(blur_img)\n",
    "    #invblur_img=255-blur_img\n",
    "\n",
    "    # Sketch Image\n",
    "    sketch_img=cv2.divide(grey_img,invblur_img, scale=256.0)\n",
    "\n",
    "    # Save Sketch \n",
    "    cv2.imwrite('sketch.png', sketch_img)\n",
    "\n",
    "    # Display sketch\n",
    "    cv2.imshow('sketch image',sketch_img)\n",
    "    cv2.waitKey(0)\n",
    "    cv2.destroyAllWindows()\n",
    "    \n",
    "#Function call\n",
    "img2sketch(photo='photo.png', k_size=7)"
   ]
  },
  {
   "cell_type": "code",
   "execution_count": 1,
   "metadata": {},
   "outputs": [
    {
     "name": "stderr",
     "output_type": "stream",
     "text": [
      "C:\\Users\\Vel\\AppData\\Local\\Temp\\ipykernel_16856\\2459553551.py:6: DeprecationWarning: Starting with ImageIO v3 the behavior of this function will switch to that of iio.v3.imread. To keep the current behavior (and make this warning disappear) use `import imageio.v2 as imageio` or call `imageio.v2.imread` directly.\n",
      "  images.append(imageio.imread(filename))\n"
     ]
    }
   ],
   "source": [
    "import imageio\n",
    "\n",
    "filenames = [\"sketch.png\", \"photo.png\"]\n",
    "images = []\n",
    "for filename in filenames:\n",
    "    images.append(imageio.imread(filename))\n",
    "imageio.mimsave('movie.gif', images, 'GIF', duration=1)"
   ]
  }
 ],
 "metadata": {
  "kernelspec": {
   "display_name": ".venv",
   "language": "python",
   "name": "python3"
  },
  "language_info": {
   "codemirror_mode": {
    "name": "ipython",
    "version": 3
   },
   "file_extension": ".py",
   "mimetype": "text/x-python",
   "name": "python",
   "nbconvert_exporter": "python",
   "pygments_lexer": "ipython3",
   "version": "3.10.3"
  },
  "orig_nbformat": 4
 },
 "nbformat": 4,
 "nbformat_minor": 2
}
