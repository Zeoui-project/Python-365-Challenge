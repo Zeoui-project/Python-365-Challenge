{
 "cells": [
  {
   "attachments": {},
   "cell_type": "markdown",
   "metadata": {},
   "source": [
    "# Pascal Triangle using Python"
   ]
  },
  {
   "cell_type": "code",
   "execution_count": 2,
   "metadata": {},
   "outputs": [
    {
     "name": "stdout",
     "output_type": "stream",
     "text": [
      "Pascal's triangle of 5 Rows...\n",
      "rows 1 : 1 \n",
      "rows 2 : 1 1 \n",
      "rows 3 : 1 2 1 \n",
      "rows 4 : 1 3 3 1 \n",
      "rows 5 : 1 4 6 4 1 \n"
     ]
    }
   ],
   "source": [
    "def Pascal(N):\n",
    "    arr = [1]\n",
    "    temp = []\n",
    "    print(\"Pascal's triangle of\", N, \"Rows...\")\n",
    "    for i in range(N):\n",
    "        print(\"rows\", i+1, end=\" : \")\n",
    "        for j in range(len(arr)):\n",
    "            print(arr[j], end=' ')\n",
    "        print()\n",
    "        temp.append(1)\n",
    "        for j in range(len(arr)-1):\n",
    "            temp.append(arr[j] + arr[j+1])\n",
    "        temp.append(1)\n",
    "        arr = temp\n",
    "        temp = []\n",
    "\n",
    "N = int(input(\"Enter the Number for the Pascal Triangle :\"))\n",
    "Pascal(N)"
   ]
  }
 ],
 "metadata": {
  "kernelspec": {
   "display_name": ".venv",
   "language": "python",
   "name": "python3"
  },
  "language_info": {
   "codemirror_mode": {
    "name": "ipython",
    "version": 3
   },
   "file_extension": ".py",
   "mimetype": "text/x-python",
   "name": "python",
   "nbconvert_exporter": "python",
   "pygments_lexer": "ipython3",
   "version": "3.10.3"
  },
  "orig_nbformat": 4
 },
 "nbformat": 4,
 "nbformat_minor": 2
}
