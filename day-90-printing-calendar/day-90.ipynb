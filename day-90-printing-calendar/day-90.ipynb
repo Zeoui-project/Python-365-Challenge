{
 "cells": [
  {
   "attachments": {},
   "cell_type": "markdown",
   "metadata": {},
   "source": [
    "# Printing Calender using Python"
   ]
  },
  {
   "cell_type": "code",
   "execution_count": 1,
   "metadata": {},
   "outputs": [
    {
     "name": "stdout",
     "output_type": "stream",
     "text": [
      "                                                  2023\n",
      "\n",
      "      January                     February                     March                       April\n",
      "Mo Tu We Th Fr Sa Su        Mo Tu We Th Fr Sa Su        Mo Tu We Th Fr Sa Su        Mo Tu We Th Fr Sa Su\n",
      "                   1               1  2  3  4  5               1  2  3  4  5                        1  2\n",
      " 2  3  4  5  6  7  8         6  7  8  9 10 11 12         6  7  8  9 10 11 12         3  4  5  6  7  8  9\n",
      " 9 10 11 12 13 14 15        13 14 15 16 17 18 19        13 14 15 16 17 18 19        10 11 12 13 14 15 16\n",
      "16 17 18 19 20 21 22        20 21 22 23 24 25 26        20 21 22 23 24 25 26        17 18 19 20 21 22 23\n",
      "23 24 25 26 27 28 29        27 28                       27 28 29 30 31              24 25 26 27 28 29 30\n",
      "30 31\n",
      "\n",
      "        May                         June                        July                       August\n",
      "Mo Tu We Th Fr Sa Su        Mo Tu We Th Fr Sa Su        Mo Tu We Th Fr Sa Su        Mo Tu We Th Fr Sa Su\n",
      " 1  2  3  4  5  6  7                  1  2  3  4                        1  2            1  2  3  4  5  6\n",
      " 8  9 10 11 12 13 14         5  6  7  8  9 10 11         3  4  5  6  7  8  9         7  8  9 10 11 12 13\n",
      "15 16 17 18 19 20 21        12 13 14 15 16 17 18        10 11 12 13 14 15 16        14 15 16 17 18 19 20\n",
      "22 23 24 25 26 27 28        19 20 21 22 23 24 25        17 18 19 20 21 22 23        21 22 23 24 25 26 27\n",
      "29 30 31                    26 27 28 29 30              24 25 26 27 28 29 30        28 29 30 31\n",
      "                                                        31\n",
      "\n",
      "     September                    October                     November                    December\n",
      "Mo Tu We Th Fr Sa Su        Mo Tu We Th Fr Sa Su        Mo Tu We Th Fr Sa Su        Mo Tu We Th Fr Sa Su\n",
      "             1  2  3                           1               1  2  3  4  5                     1  2  3\n",
      " 4  5  6  7  8  9 10         2  3  4  5  6  7  8         6  7  8  9 10 11 12         4  5  6  7  8  9 10\n",
      "11 12 13 14 15 16 17         9 10 11 12 13 14 15        13 14 15 16 17 18 19        11 12 13 14 15 16 17\n",
      "18 19 20 21 22 23 24        16 17 18 19 20 21 22        20 21 22 23 24 25 26        18 19 20 21 22 23 24\n",
      "25 26 27 28 29 30           23 24 25 26 27 28 29        27 28 29 30                 25 26 27 28 29 30 31\n",
      "                            30 31\n",
      "\n"
     ]
    }
   ],
   "source": [
    "from calendar import*\n",
    "year = int(input('Enter Year: '))\n",
    "print(calendar(year, 2, 1, 8, 4))"
   ]
  }
 ],
 "metadata": {
  "kernelspec": {
   "display_name": ".venv",
   "language": "python",
   "name": "python3"
  },
  "language_info": {
   "codemirror_mode": {
    "name": "ipython",
    "version": 3
   },
   "file_extension": ".py",
   "mimetype": "text/x-python",
   "name": "python",
   "nbconvert_exporter": "python",
   "pygments_lexer": "ipython3",
   "version": "3.10.3"
  },
  "orig_nbformat": 4
 },
 "nbformat": 4,
 "nbformat_minor": 2
}
